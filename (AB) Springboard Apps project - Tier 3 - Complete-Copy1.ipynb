{
 "cells": [
  {
   "cell_type": "markdown",
   "metadata": {
    "colab_type": "text",
    "id": "i2RUFW7TFcuh"
   },
   "source": [
    "# Springboard Apps project - Tier 3 - Complete\n",
    "\n",
    "Welcome to the Apps project! To give you a taste of your future career, we're going to walk through exactly the kind of notebook that you'd write as a data scientist. In the process, we'll be sure to signpost the general framework for our investigation - the Data Science Pipeline - as well as give reasons for why we're doing what we're doing. We're also going to apply some of the skills and knowledge you've built up in the previous unit when reading Professor Spiegelhalter's *The Art of Statistics* (hereinafter *AoS*). \n",
    "\n",
    "So let's get cracking!\n",
    "\n",
    "**Brief**\n",
    "\n",
    "Did Apple Store apps receive better reviews than Google Play apps?\n",
    "\n",
    "## Stages of the project\n",
    "\n",
    "1. Sourcing and loading \n",
    "    * Load the two datasets\n",
    "    * Pick the columns that we are going to work with \n",
    "    * Subsetting the data on this basis \n",
    " \n",
    " \n",
    "2. Cleaning, transforming and visualizing\n",
    "    * Check the data types and fix them\n",
    "    * Add a `platform` column to both the `Apple` and the `Google` dataframes\n",
    "    * Changing the column names to prepare for a join \n",
    "    * Join the two data sets\n",
    "    * Eliminate the `NaN` values\n",
    "    * Filter only those apps that have been reviewed at least once\n",
    "    * Summarize the data visually and analytically (by the column `platform`)  \n",
    "  \n",
    "  \n",
    "3. Modelling \n",
    "    * Hypothesis formulation\n",
    "    * Getting the distribution of the data\n",
    "    * Permutation test \n",
    "\n",
    "\n",
    "4. Evaluating and concluding \n",
    "    * What is our conclusion?\n",
    "    * What is our decision?\n",
    "    * Other models we could have used. \n",
    "    "
   ]
  },
  {
   "cell_type": "markdown",
   "metadata": {
    "colab_type": "text",
    "id": "QLUAXtl1Fcuk"
   },
   "source": [
    "## Importing the libraries\n",
    "\n",
    "In this case we are going to import pandas, numpy, scipy, random and matplotlib.pyplot"
   ]
  },
  {
   "cell_type": "code",
   "execution_count": 24,
   "metadata": {
    "colab": {},
    "colab_type": "code",
    "id": "XeXJOlGiFcum"
   },
   "outputs": [],
   "source": [
    "import pandas as pd\n",
    "import numpy as np\n",
    "import matplotlib.pyplot as plt\n",
    "# scipi is a library for statistical tests and visualizations \n",
    "from scipy import stats\n",
    "# random enables us to generate random numbers\n",
    "import random"
   ]
  },
  {
   "cell_type": "markdown",
   "metadata": {
    "colab_type": "text",
    "id": "zVD7NlPAFcup"
   },
   "source": [
    "## Stage 1 -  Sourcing and loading data"
   ]
  },
  {
   "cell_type": "markdown",
   "metadata": {
    "colab_type": "text",
    "id": "KU8bdbImFcuq"
   },
   "source": [
    "### 1a. Source and load the data\n",
    "Let's download the data from Kaggle. Kaggle is a fantastic resource: a kind of social medium for data scientists, it boasts projects, datasets and news on the freshest libraries and technologies all in one place. The data from the Apple Store can be found [here](https://www.kaggle.com/ramamet4/app-store-apple-data-set-10k-apps) and the data from Google Store can be found [here](https://www.kaggle.com/lava18/google-play-store-apps).\n",
    "Download the datasets and save them in your working directory."
   ]
  },
  {
   "cell_type": "code",
   "execution_count": 25,
   "metadata": {
    "colab": {},
    "colab_type": "code",
    "id": "laM1PB76Fcur"
   },
   "outputs": [
    {
     "data": {
      "text/html": [
       "<div>\n",
       "<style scoped>\n",
       "    .dataframe tbody tr th:only-of-type {\n",
       "        vertical-align: middle;\n",
       "    }\n",
       "\n",
       "    .dataframe tbody tr th {\n",
       "        vertical-align: top;\n",
       "    }\n",
       "\n",
       "    .dataframe thead th {\n",
       "        text-align: right;\n",
       "    }\n",
       "</style>\n",
       "<table border=\"1\" class=\"dataframe\">\n",
       "  <thead>\n",
       "    <tr style=\"text-align: right;\">\n",
       "      <th></th>\n",
       "      <th>App</th>\n",
       "      <th>Category</th>\n",
       "      <th>Rating</th>\n",
       "      <th>Reviews</th>\n",
       "      <th>Size</th>\n",
       "      <th>Installs</th>\n",
       "      <th>Type</th>\n",
       "      <th>Price</th>\n",
       "      <th>Content Rating</th>\n",
       "      <th>Genres</th>\n",
       "      <th>Last Updated</th>\n",
       "      <th>Current Ver</th>\n",
       "      <th>Android Ver</th>\n",
       "    </tr>\n",
       "  </thead>\n",
       "  <tbody>\n",
       "    <tr>\n",
       "      <th>0</th>\n",
       "      <td>Photo Editor &amp; Candy Camera &amp; Grid &amp; ScrapBook</td>\n",
       "      <td>ART_AND_DESIGN</td>\n",
       "      <td>4.1</td>\n",
       "      <td>159</td>\n",
       "      <td>19M</td>\n",
       "      <td>10,000+</td>\n",
       "      <td>Free</td>\n",
       "      <td>0</td>\n",
       "      <td>Everyone</td>\n",
       "      <td>Art &amp; Design</td>\n",
       "      <td>January 7, 2018</td>\n",
       "      <td>1.0.0</td>\n",
       "      <td>4.0.3 and up</td>\n",
       "    </tr>\n",
       "    <tr>\n",
       "      <th>1</th>\n",
       "      <td>Coloring book moana</td>\n",
       "      <td>ART_AND_DESIGN</td>\n",
       "      <td>3.9</td>\n",
       "      <td>967</td>\n",
       "      <td>14M</td>\n",
       "      <td>500,000+</td>\n",
       "      <td>Free</td>\n",
       "      <td>0</td>\n",
       "      <td>Everyone</td>\n",
       "      <td>Art &amp; Design;Pretend Play</td>\n",
       "      <td>January 15, 2018</td>\n",
       "      <td>2.0.0</td>\n",
       "      <td>4.0.3 and up</td>\n",
       "    </tr>\n",
       "    <tr>\n",
       "      <th>2</th>\n",
       "      <td>U Launcher Lite – FREE Live Cool Themes, Hide ...</td>\n",
       "      <td>ART_AND_DESIGN</td>\n",
       "      <td>4.7</td>\n",
       "      <td>87510</td>\n",
       "      <td>8.7M</td>\n",
       "      <td>5,000,000+</td>\n",
       "      <td>Free</td>\n",
       "      <td>0</td>\n",
       "      <td>Everyone</td>\n",
       "      <td>Art &amp; Design</td>\n",
       "      <td>August 1, 2018</td>\n",
       "      <td>1.2.4</td>\n",
       "      <td>4.0.3 and up</td>\n",
       "    </tr>\n",
       "    <tr>\n",
       "      <th>3</th>\n",
       "      <td>Sketch - Draw &amp; Paint</td>\n",
       "      <td>ART_AND_DESIGN</td>\n",
       "      <td>4.5</td>\n",
       "      <td>215644</td>\n",
       "      <td>25M</td>\n",
       "      <td>50,000,000+</td>\n",
       "      <td>Free</td>\n",
       "      <td>0</td>\n",
       "      <td>Teen</td>\n",
       "      <td>Art &amp; Design</td>\n",
       "      <td>June 8, 2018</td>\n",
       "      <td>Varies with device</td>\n",
       "      <td>4.2 and up</td>\n",
       "    </tr>\n",
       "    <tr>\n",
       "      <th>4</th>\n",
       "      <td>Pixel Draw - Number Art Coloring Book</td>\n",
       "      <td>ART_AND_DESIGN</td>\n",
       "      <td>4.3</td>\n",
       "      <td>967</td>\n",
       "      <td>2.8M</td>\n",
       "      <td>100,000+</td>\n",
       "      <td>Free</td>\n",
       "      <td>0</td>\n",
       "      <td>Everyone</td>\n",
       "      <td>Art &amp; Design;Creativity</td>\n",
       "      <td>June 20, 2018</td>\n",
       "      <td>1.1</td>\n",
       "      <td>4.4 and up</td>\n",
       "    </tr>\n",
       "  </tbody>\n",
       "</table>\n",
       "</div>"
      ],
      "text/plain": [
       "                                                 App        Category  Rating  \\\n",
       "0     Photo Editor & Candy Camera & Grid & ScrapBook  ART_AND_DESIGN     4.1   \n",
       "1                                Coloring book moana  ART_AND_DESIGN     3.9   \n",
       "2  U Launcher Lite – FREE Live Cool Themes, Hide ...  ART_AND_DESIGN     4.7   \n",
       "3                              Sketch - Draw & Paint  ART_AND_DESIGN     4.5   \n",
       "4              Pixel Draw - Number Art Coloring Book  ART_AND_DESIGN     4.3   \n",
       "\n",
       "  Reviews  Size     Installs  Type Price Content Rating  \\\n",
       "0     159   19M      10,000+  Free     0       Everyone   \n",
       "1     967   14M     500,000+  Free     0       Everyone   \n",
       "2   87510  8.7M   5,000,000+  Free     0       Everyone   \n",
       "3  215644   25M  50,000,000+  Free     0           Teen   \n",
       "4     967  2.8M     100,000+  Free     0       Everyone   \n",
       "\n",
       "                      Genres      Last Updated         Current Ver  \\\n",
       "0               Art & Design   January 7, 2018               1.0.0   \n",
       "1  Art & Design;Pretend Play  January 15, 2018               2.0.0   \n",
       "2               Art & Design    August 1, 2018               1.2.4   \n",
       "3               Art & Design      June 8, 2018  Varies with device   \n",
       "4    Art & Design;Creativity     June 20, 2018                 1.1   \n",
       "\n",
       "    Android Ver  \n",
       "0  4.0.3 and up  \n",
       "1  4.0.3 and up  \n",
       "2  4.0.3 and up  \n",
       "3    4.2 and up  \n",
       "4    4.4 and up  "
      ]
     },
     "execution_count": 25,
     "metadata": {},
     "output_type": "execute_result"
    }
   ],
   "source": [
    "# Now that the files are saved, we want to load them into Python using read_csv and pandas.\n",
    "\n",
    "# Create a variable called google, and store in it the path of the csv file that contains your google dataset. \n",
    "# If your dataset is in the same folder as this notebook, the path will simply be the name of the file. \n",
    "google = 'googleplaystore.csv'\n",
    "\n",
    "# Read the csv file into a data frame called Google using the read_csv() pandas method.\n",
    "\n",
    "Google = pd.read_csv(google)\n",
    "\n",
    "# Using the head() pandas method, observe the first three entries.\n",
    "Google.head()"
   ]
  },
  {
   "cell_type": "code",
   "execution_count": 26,
   "metadata": {
    "colab": {},
    "colab_type": "code",
    "id": "3AW8EA1wFcuu"
   },
   "outputs": [
    {
     "data": {
      "text/html": [
       "<div>\n",
       "<style scoped>\n",
       "    .dataframe tbody tr th:only-of-type {\n",
       "        vertical-align: middle;\n",
       "    }\n",
       "\n",
       "    .dataframe tbody tr th {\n",
       "        vertical-align: top;\n",
       "    }\n",
       "\n",
       "    .dataframe thead th {\n",
       "        text-align: right;\n",
       "    }\n",
       "</style>\n",
       "<table border=\"1\" class=\"dataframe\">\n",
       "  <thead>\n",
       "    <tr style=\"text-align: right;\">\n",
       "      <th></th>\n",
       "      <th>Unnamed: 0</th>\n",
       "      <th>id</th>\n",
       "      <th>track_name</th>\n",
       "      <th>size_bytes</th>\n",
       "      <th>currency</th>\n",
       "      <th>price</th>\n",
       "      <th>rating_count_tot</th>\n",
       "      <th>rating_count_ver</th>\n",
       "      <th>user_rating</th>\n",
       "      <th>user_rating_ver</th>\n",
       "      <th>ver</th>\n",
       "      <th>cont_rating</th>\n",
       "      <th>prime_genre</th>\n",
       "      <th>sup_devices.num</th>\n",
       "      <th>ipadSc_urls.num</th>\n",
       "      <th>lang.num</th>\n",
       "      <th>vpp_lic</th>\n",
       "    </tr>\n",
       "  </thead>\n",
       "  <tbody>\n",
       "    <tr>\n",
       "      <th>0</th>\n",
       "      <td>1</td>\n",
       "      <td>281656475</td>\n",
       "      <td>PAC-MAN Premium</td>\n",
       "      <td>100788224</td>\n",
       "      <td>USD</td>\n",
       "      <td>3.99</td>\n",
       "      <td>21292</td>\n",
       "      <td>26</td>\n",
       "      <td>4.0</td>\n",
       "      <td>4.5</td>\n",
       "      <td>6.3.5</td>\n",
       "      <td>4+</td>\n",
       "      <td>Games</td>\n",
       "      <td>38</td>\n",
       "      <td>5</td>\n",
       "      <td>10</td>\n",
       "      <td>1</td>\n",
       "    </tr>\n",
       "    <tr>\n",
       "      <th>1</th>\n",
       "      <td>2</td>\n",
       "      <td>281796108</td>\n",
       "      <td>Evernote - stay organized</td>\n",
       "      <td>158578688</td>\n",
       "      <td>USD</td>\n",
       "      <td>0.00</td>\n",
       "      <td>161065</td>\n",
       "      <td>26</td>\n",
       "      <td>4.0</td>\n",
       "      <td>3.5</td>\n",
       "      <td>8.2.2</td>\n",
       "      <td>4+</td>\n",
       "      <td>Productivity</td>\n",
       "      <td>37</td>\n",
       "      <td>5</td>\n",
       "      <td>23</td>\n",
       "      <td>1</td>\n",
       "    </tr>\n",
       "    <tr>\n",
       "      <th>2</th>\n",
       "      <td>3</td>\n",
       "      <td>281940292</td>\n",
       "      <td>WeatherBug - Local Weather, Radar, Maps, Alerts</td>\n",
       "      <td>100524032</td>\n",
       "      <td>USD</td>\n",
       "      <td>0.00</td>\n",
       "      <td>188583</td>\n",
       "      <td>2822</td>\n",
       "      <td>3.5</td>\n",
       "      <td>4.5</td>\n",
       "      <td>5.0.0</td>\n",
       "      <td>4+</td>\n",
       "      <td>Weather</td>\n",
       "      <td>37</td>\n",
       "      <td>5</td>\n",
       "      <td>3</td>\n",
       "      <td>1</td>\n",
       "    </tr>\n",
       "    <tr>\n",
       "      <th>3</th>\n",
       "      <td>4</td>\n",
       "      <td>282614216</td>\n",
       "      <td>eBay: Best App to Buy, Sell, Save! Online Shop...</td>\n",
       "      <td>128512000</td>\n",
       "      <td>USD</td>\n",
       "      <td>0.00</td>\n",
       "      <td>262241</td>\n",
       "      <td>649</td>\n",
       "      <td>4.0</td>\n",
       "      <td>4.5</td>\n",
       "      <td>5.10.0</td>\n",
       "      <td>12+</td>\n",
       "      <td>Shopping</td>\n",
       "      <td>37</td>\n",
       "      <td>5</td>\n",
       "      <td>9</td>\n",
       "      <td>1</td>\n",
       "    </tr>\n",
       "    <tr>\n",
       "      <th>4</th>\n",
       "      <td>5</td>\n",
       "      <td>282935706</td>\n",
       "      <td>Bible</td>\n",
       "      <td>92774400</td>\n",
       "      <td>USD</td>\n",
       "      <td>0.00</td>\n",
       "      <td>985920</td>\n",
       "      <td>5320</td>\n",
       "      <td>4.5</td>\n",
       "      <td>5.0</td>\n",
       "      <td>7.5.1</td>\n",
       "      <td>4+</td>\n",
       "      <td>Reference</td>\n",
       "      <td>37</td>\n",
       "      <td>5</td>\n",
       "      <td>45</td>\n",
       "      <td>1</td>\n",
       "    </tr>\n",
       "  </tbody>\n",
       "</table>\n",
       "</div>"
      ],
      "text/plain": [
       "   Unnamed: 0         id                                         track_name  \\\n",
       "0           1  281656475                                    PAC-MAN Premium   \n",
       "1           2  281796108                          Evernote - stay organized   \n",
       "2           3  281940292    WeatherBug - Local Weather, Radar, Maps, Alerts   \n",
       "3           4  282614216  eBay: Best App to Buy, Sell, Save! Online Shop...   \n",
       "4           5  282935706                                              Bible   \n",
       "\n",
       "   size_bytes currency  price  rating_count_tot  rating_count_ver  \\\n",
       "0   100788224      USD   3.99             21292                26   \n",
       "1   158578688      USD   0.00            161065                26   \n",
       "2   100524032      USD   0.00            188583              2822   \n",
       "3   128512000      USD   0.00            262241               649   \n",
       "4    92774400      USD   0.00            985920              5320   \n",
       "\n",
       "   user_rating  user_rating_ver     ver cont_rating   prime_genre  \\\n",
       "0          4.0              4.5   6.3.5          4+         Games   \n",
       "1          4.0              3.5   8.2.2          4+  Productivity   \n",
       "2          3.5              4.5   5.0.0          4+       Weather   \n",
       "3          4.0              4.5  5.10.0         12+      Shopping   \n",
       "4          4.5              5.0   7.5.1          4+     Reference   \n",
       "\n",
       "   sup_devices.num  ipadSc_urls.num  lang.num  vpp_lic  \n",
       "0               38                5        10        1  \n",
       "1               37                5        23        1  \n",
       "2               37                5         3        1  \n",
       "3               37                5         9        1  \n",
       "4               37                5        45        1  "
      ]
     },
     "execution_count": 26,
     "metadata": {},
     "output_type": "execute_result"
    }
   ],
   "source": [
    "# Create a variable called apple, and store in it the path of the csv file that contains your apple dataset. \n",
    "apple = 'AppleStore.csv'\n",
    "# Read the csv file into a pandas DataFrame object called Apple.\n",
    "Apple = pd.read_csv(apple)\n",
    "\n",
    "# Observe the first three entries like you did with your other data. \n",
    "Apple.head()"
   ]
  },
  {
   "cell_type": "markdown",
   "metadata": {
    "colab_type": "text",
    "id": "vljOHKNTFcuw"
   },
   "source": [
    "### 1b. Pick the columns we'll work with\n",
    "\n",
    "From the documentation of these datasets, we can infer that the most appropriate columns to answer the brief are:\n",
    "\n",
    "1. Google:\n",
    "    * `Category` # Do we need this?\n",
    "    * `Rating`\n",
    "    * `Reviews`\n",
    "    * `Price` (maybe)\n",
    "2. Apple:    \n",
    "    * `prime_genre` # Do we need this?\n",
    "    * `user_rating` \n",
    "    * `rating_count_tot`\n",
    "    * `price` (maybe)"
   ]
  },
  {
   "cell_type": "markdown",
   "metadata": {
    "colab_type": "text",
    "id": "uf69AeTvFcux"
   },
   "source": [
    "### 1c. Subsetting accordingly\n",
    "\n",
    "Let's select only those columns that we want to work with from both datasets. We'll overwrite the subsets in the original variables."
   ]
  },
  {
   "cell_type": "code",
   "execution_count": 27,
   "metadata": {
    "colab": {},
    "colab_type": "code",
    "id": "LNSDXyjdFcuy"
   },
   "outputs": [
    {
     "data": {
      "text/html": [
       "<div>\n",
       "<style scoped>\n",
       "    .dataframe tbody tr th:only-of-type {\n",
       "        vertical-align: middle;\n",
       "    }\n",
       "\n",
       "    .dataframe tbody tr th {\n",
       "        vertical-align: top;\n",
       "    }\n",
       "\n",
       "    .dataframe thead th {\n",
       "        text-align: right;\n",
       "    }\n",
       "</style>\n",
       "<table border=\"1\" class=\"dataframe\">\n",
       "  <thead>\n",
       "    <tr style=\"text-align: right;\">\n",
       "      <th></th>\n",
       "      <th>Category</th>\n",
       "      <th>Rating</th>\n",
       "      <th>Reviews</th>\n",
       "      <th>Price</th>\n",
       "    </tr>\n",
       "  </thead>\n",
       "  <tbody>\n",
       "    <tr>\n",
       "      <th>0</th>\n",
       "      <td>ART_AND_DESIGN</td>\n",
       "      <td>4.1</td>\n",
       "      <td>159</td>\n",
       "      <td>0</td>\n",
       "    </tr>\n",
       "    <tr>\n",
       "      <th>1</th>\n",
       "      <td>ART_AND_DESIGN</td>\n",
       "      <td>3.9</td>\n",
       "      <td>967</td>\n",
       "      <td>0</td>\n",
       "    </tr>\n",
       "    <tr>\n",
       "      <th>2</th>\n",
       "      <td>ART_AND_DESIGN</td>\n",
       "      <td>4.7</td>\n",
       "      <td>87510</td>\n",
       "      <td>0</td>\n",
       "    </tr>\n",
       "  </tbody>\n",
       "</table>\n",
       "</div>"
      ],
      "text/plain": [
       "         Category  Rating Reviews Price\n",
       "0  ART_AND_DESIGN     4.1     159     0\n",
       "1  ART_AND_DESIGN     3.9     967     0\n",
       "2  ART_AND_DESIGN     4.7   87510     0"
      ]
     },
     "execution_count": 27,
     "metadata": {},
     "output_type": "execute_result"
    }
   ],
   "source": [
    "# Subset our DataFrame object Google by selecting just the variables ['Category', 'Rating', 'Reviews', 'Price']\n",
    "\n",
    "Google = Google[['Category', 'Rating', 'Reviews', 'Price']]\n",
    "# Check the first three entries\n",
    "Google.head(3)"
   ]
  },
  {
   "cell_type": "code",
   "execution_count": 28,
   "metadata": {
    "colab": {},
    "colab_type": "code",
    "id": "AVCtENPtFcu0"
   },
   "outputs": [
    {
     "data": {
      "text/html": [
       "<div>\n",
       "<style scoped>\n",
       "    .dataframe tbody tr th:only-of-type {\n",
       "        vertical-align: middle;\n",
       "    }\n",
       "\n",
       "    .dataframe tbody tr th {\n",
       "        vertical-align: top;\n",
       "    }\n",
       "\n",
       "    .dataframe thead th {\n",
       "        text-align: right;\n",
       "    }\n",
       "</style>\n",
       "<table border=\"1\" class=\"dataframe\">\n",
       "  <thead>\n",
       "    <tr style=\"text-align: right;\">\n",
       "      <th></th>\n",
       "      <th>prime_genre</th>\n",
       "      <th>user_rating</th>\n",
       "      <th>rating_count_tot</th>\n",
       "      <th>price</th>\n",
       "    </tr>\n",
       "  </thead>\n",
       "  <tbody>\n",
       "    <tr>\n",
       "      <th>0</th>\n",
       "      <td>Games</td>\n",
       "      <td>4.0</td>\n",
       "      <td>21292</td>\n",
       "      <td>3.99</td>\n",
       "    </tr>\n",
       "    <tr>\n",
       "      <th>1</th>\n",
       "      <td>Productivity</td>\n",
       "      <td>4.0</td>\n",
       "      <td>161065</td>\n",
       "      <td>0.00</td>\n",
       "    </tr>\n",
       "    <tr>\n",
       "      <th>2</th>\n",
       "      <td>Weather</td>\n",
       "      <td>3.5</td>\n",
       "      <td>188583</td>\n",
       "      <td>0.00</td>\n",
       "    </tr>\n",
       "  </tbody>\n",
       "</table>\n",
       "</div>"
      ],
      "text/plain": [
       "    prime_genre  user_rating  rating_count_tot  price\n",
       "0         Games          4.0             21292   3.99\n",
       "1  Productivity          4.0            161065   0.00\n",
       "2       Weather          3.5            188583   0.00"
      ]
     },
     "execution_count": 28,
     "metadata": {},
     "output_type": "execute_result"
    }
   ],
   "source": [
    "# Do the same with our Apple object, selecting just the variables ['prime_genre', 'user_rating', 'rating_count_tot', 'price']\n",
    "Apple = Apple[ ['prime_genre', 'user_rating', 'rating_count_tot', 'price']]\n",
    "# Let's check the first three entries\n",
    "Apple.head(3)"
   ]
  },
  {
   "cell_type": "markdown",
   "metadata": {
    "colab_type": "text",
    "id": "wwK2wH-rFcu2"
   },
   "source": [
    "## Stage 2 -  Cleaning, transforming and visualizing"
   ]
  },
  {
   "cell_type": "markdown",
   "metadata": {
    "colab_type": "text",
    "id": "NsoE5x0JFcu3"
   },
   "source": [
    "### 2a. Check the data types for both Apple and Google, and fix them\n",
    "\n",
    "Types are crucial for data science in Python. Let's determine whether the variables we selected in the previous section belong to the types they should do, or whether there are any errors here. "
   ]
  },
  {
   "cell_type": "code",
   "execution_count": 29,
   "metadata": {
    "colab": {},
    "colab_type": "code",
    "id": "ymw10SaWFcu4"
   },
   "outputs": [
    {
     "data": {
      "text/plain": [
       "prime_genre          object\n",
       "user_rating         float64\n",
       "rating_count_tot      int64\n",
       "price               float64\n",
       "dtype: object"
      ]
     },
     "execution_count": 29,
     "metadata": {},
     "output_type": "execute_result"
    }
   ],
   "source": [
    "# Using the dtypes feature of pandas DataFrame objects, check out the data types within our Apple dataframe.\n",
    "# Are they what you expect?\n",
    "Apple.dtypes"
   ]
  },
  {
   "cell_type": "markdown",
   "metadata": {
    "colab_type": "text",
    "id": "VAiM6jIxFcu6"
   },
   "source": [
    "This is looking healthy. But what about our Google data frame?"
   ]
  },
  {
   "cell_type": "code",
   "execution_count": 30,
   "metadata": {
    "colab": {},
    "colab_type": "code",
    "id": "kmP8MhqyFcu7"
   },
   "outputs": [
    {
     "data": {
      "text/plain": [
       "Category     object\n",
       "Rating      float64\n",
       "Reviews      object\n",
       "Price        object\n",
       "dtype: object"
      ]
     },
     "execution_count": 30,
     "metadata": {},
     "output_type": "execute_result"
    }
   ],
   "source": [
    "# Using the same dtypes feature, check out the data types of our Google dataframe. \n",
    "Google.dtypes"
   ]
  },
  {
   "cell_type": "markdown",
   "metadata": {
    "colab_type": "text",
    "id": "O-dxAy0WFcu9"
   },
   "source": [
    "Weird. The data type for the column 'Price' is 'object', not a numeric data type like a float or an integer. Let's investigate the unique values of this column. "
   ]
  },
  {
   "cell_type": "code",
   "execution_count": 31,
   "metadata": {
    "colab": {},
    "colab_type": "code",
    "id": "Hu08K9y7Fcu9"
   },
   "outputs": [
    {
     "data": {
      "text/plain": [
       "array(['0', '$4.99', '$3.99', '$6.99', '$1.49', '$2.99', '$7.99', '$5.99',\n",
       "       '$3.49', '$1.99', '$9.99', '$7.49', '$0.99', '$9.00', '$5.49',\n",
       "       '$10.00', '$24.99', '$11.99', '$79.99', '$16.99', '$14.99',\n",
       "       '$1.00', '$29.99', '$12.99', '$2.49', '$10.99', '$1.50', '$19.99',\n",
       "       '$15.99', '$33.99', '$74.99', '$39.99', '$3.95', '$4.49', '$1.70',\n",
       "       '$8.99', '$2.00', '$3.88', '$25.99', '$399.99', '$17.99',\n",
       "       '$400.00', '$3.02', '$1.76', '$4.84', '$4.77', '$1.61', '$2.50',\n",
       "       '$1.59', '$6.49', '$1.29', '$5.00', '$13.99', '$299.99', '$379.99',\n",
       "       '$37.99', '$18.99', '$389.99', '$19.90', '$8.49', '$1.75',\n",
       "       '$14.00', '$4.85', '$46.99', '$109.99', '$154.99', '$3.08',\n",
       "       '$2.59', '$4.80', '$1.96', '$19.40', '$3.90', '$4.59', '$15.46',\n",
       "       '$3.04', '$4.29', '$2.60', '$3.28', '$4.60', '$28.99', '$2.95',\n",
       "       '$2.90', '$1.97', '$200.00', '$89.99', '$2.56', '$30.99', '$3.61',\n",
       "       '$394.99', '$1.26', 'Everyone', '$1.20', '$1.04'], dtype=object)"
      ]
     },
     "execution_count": 31,
     "metadata": {},
     "output_type": "execute_result"
    }
   ],
   "source": [
    "# Use the unique() pandas method on the Price column to check its unique values. \n",
    "Google['Price'].unique()"
   ]
  },
  {
   "cell_type": "markdown",
   "metadata": {
    "colab_type": "text",
    "id": "w_7nkogFFcu_"
   },
   "source": [
    "Aha! Fascinating. There are actually two issues here. \n",
    "\n",
    "- Firstly, there's a price called `Everyone`. That is a massive mistake! \n",
    "- Secondly, there are dollar symbols everywhere! \n",
    "\n",
    "\n",
    "Let's address the first issue first. Let's check the datapoints that have the price value `Everyone`"
   ]
  },
  {
   "cell_type": "code",
   "execution_count": 32,
   "metadata": {
    "colab": {},
    "colab_type": "code",
    "id": "E75WWmhdFcvA"
   },
   "outputs": [
    {
     "data": {
      "text/html": [
       "<div>\n",
       "<style scoped>\n",
       "    .dataframe tbody tr th:only-of-type {\n",
       "        vertical-align: middle;\n",
       "    }\n",
       "\n",
       "    .dataframe tbody tr th {\n",
       "        vertical-align: top;\n",
       "    }\n",
       "\n",
       "    .dataframe thead th {\n",
       "        text-align: right;\n",
       "    }\n",
       "</style>\n",
       "<table border=\"1\" class=\"dataframe\">\n",
       "  <thead>\n",
       "    <tr style=\"text-align: right;\">\n",
       "      <th></th>\n",
       "      <th>Category</th>\n",
       "      <th>Rating</th>\n",
       "      <th>Reviews</th>\n",
       "      <th>Price</th>\n",
       "    </tr>\n",
       "  </thead>\n",
       "  <tbody>\n",
       "    <tr>\n",
       "      <th>10472</th>\n",
       "      <td>1.9</td>\n",
       "      <td>19.0</td>\n",
       "      <td>3.0M</td>\n",
       "      <td>Everyone</td>\n",
       "    </tr>\n",
       "  </tbody>\n",
       "</table>\n",
       "</div>"
      ],
      "text/plain": [
       "      Category  Rating Reviews     Price\n",
       "10472      1.9    19.0    3.0M  Everyone"
      ]
     },
     "execution_count": 32,
     "metadata": {},
     "output_type": "execute_result"
    }
   ],
   "source": [
    "# Let's check which data points have the value 'Everyone' for the 'Price' column by subsetting our Google dataframe.\n",
    "\n",
    "# Subset the Google dataframe on the price column. \n",
    "# To be sure: you want to pick out just those rows whose value for the 'Price' column is just 'Everyone'. \n",
    "Google[Google['Price']=='Everyone']"
   ]
  },
  {
   "cell_type": "markdown",
   "metadata": {
    "colab_type": "text",
    "id": "ezfLshdRFcvC"
   },
   "source": [
    "Thankfully, it's just one row. We've gotta get rid of it. "
   ]
  },
  {
   "cell_type": "code",
   "execution_count": 33,
   "metadata": {
    "colab": {},
    "colab_type": "code",
    "id": "DBmjUQUkFcvD"
   },
   "outputs": [
    {
     "data": {
      "text/plain": [
       "array(['0', '$4.99', '$3.99', '$6.99', '$1.49', '$2.99', '$7.99', '$5.99',\n",
       "       '$3.49', '$1.99', '$9.99', '$7.49', '$0.99', '$9.00', '$5.49',\n",
       "       '$10.00', '$24.99', '$11.99', '$79.99', '$16.99', '$14.99',\n",
       "       '$1.00', '$29.99', '$12.99', '$2.49', '$10.99', '$1.50', '$19.99',\n",
       "       '$15.99', '$33.99', '$74.99', '$39.99', '$3.95', '$4.49', '$1.70',\n",
       "       '$8.99', '$2.00', '$3.88', '$25.99', '$399.99', '$17.99',\n",
       "       '$400.00', '$3.02', '$1.76', '$4.84', '$4.77', '$1.61', '$2.50',\n",
       "       '$1.59', '$6.49', '$1.29', '$5.00', '$13.99', '$299.99', '$379.99',\n",
       "       '$37.99', '$18.99', '$389.99', '$19.90', '$8.49', '$1.75',\n",
       "       '$14.00', '$4.85', '$46.99', '$109.99', '$154.99', '$3.08',\n",
       "       '$2.59', '$4.80', '$1.96', '$19.40', '$3.90', '$4.59', '$15.46',\n",
       "       '$3.04', '$4.29', '$2.60', '$3.28', '$4.60', '$28.99', '$2.95',\n",
       "       '$2.90', '$1.97', '$200.00', '$89.99', '$2.56', '$30.99', '$3.61',\n",
       "       '$394.99', '$1.26', '$1.20', '$1.04'], dtype=object)"
      ]
     },
     "execution_count": 33,
     "metadata": {},
     "output_type": "execute_result"
    }
   ],
   "source": [
    "# Let's eliminate that row. \n",
    "\n",
    "# Subset our Google dataframe to pick out just those rows whose value for the 'Price' column is NOT 'Everyone'. \n",
    "# Reassign that subset to the Google variable. \n",
    "# You can do this in two lines or one. Your choice! \n",
    "Google = Google[Google['Price'] != 'Everyone']\n",
    "# Check again the unique values of Google\n",
    "Google['Price'].unique()"
   ]
  },
  {
   "cell_type": "markdown",
   "metadata": {
    "colab_type": "text",
    "id": "T43TB4qFFcvF"
   },
   "source": [
    "Our second problem remains: I'm seeing dollar symbols when I close my eyes! (And not in a good way). \n",
    "\n",
    "This is a problem because Python actually considers these values strings. So we can't do mathematical and statistical operations on them until we've made them into numbers. "
   ]
  },
  {
   "cell_type": "code",
   "execution_count": 34,
   "metadata": {
    "colab": {},
    "colab_type": "code",
    "id": "W87gVS9BFcvG"
   },
   "outputs": [],
   "source": [
    "# Let's create a variable called nosymb.\n",
    "# This variable will take the Price column of Google and apply the str.replace() method. \n",
    "nosymb = Google['Price'].str.replace('$',\"\",regex=False)\n",
    "\n",
    "# Now we need to do two things:\n",
    "# i. Make the values in the nosymb variable numeric using the to_numeric() pandas method.\n",
    "# ii. Assign this new set of numeric, dollar-sign-less values to Google['Price']. \n",
    "# You can do this in one line if you wish.\n",
    "Google['Price'] = pd.to_numeric(nosymb)"
   ]
  },
  {
   "cell_type": "markdown",
   "metadata": {
    "colab_type": "text",
    "id": "LxpJQ9yyFcvI"
   },
   "source": [
    "Now let's check the data types for our Google dataframe again, to verify that the 'Price' column really is numeric now."
   ]
  },
  {
   "cell_type": "code",
   "execution_count": 35,
   "metadata": {
    "colab": {},
    "colab_type": "code",
    "id": "Fn5Gt-QbFcvI"
   },
   "outputs": [
    {
     "data": {
      "text/plain": [
       "Category     object\n",
       "Rating      float64\n",
       "Reviews      object\n",
       "Price       float64\n",
       "dtype: object"
      ]
     },
     "execution_count": 35,
     "metadata": {},
     "output_type": "execute_result"
    }
   ],
   "source": [
    "# Use the function dtypes. \n",
    "Google.dtypes"
   ]
  },
  {
   "cell_type": "markdown",
   "metadata": {
    "colab_type": "text",
    "id": "FgfuiVo0FcvK"
   },
   "source": [
    "Notice that the column `Reviews` is still an object column. We actually need this column to be a numeric column, too. "
   ]
  },
  {
   "cell_type": "code",
   "execution_count": 36,
   "metadata": {
    "colab": {},
    "colab_type": "code",
    "id": "MiVEWsWBFcvL"
   },
   "outputs": [],
   "source": [
    "# Convert the 'Reviews' column to a numeric data type. \n",
    "Google['Reviews'] = pd.to_numeric(Google.Reviews)"
   ]
  },
  {
   "cell_type": "code",
   "execution_count": 37,
   "metadata": {
    "colab": {},
    "colab_type": "code",
    "id": "wWJdXXTTFcvN"
   },
   "outputs": [
    {
     "data": {
      "text/plain": [
       "Category     object\n",
       "Rating      float64\n",
       "Reviews       int64\n",
       "Price       float64\n",
       "dtype: object"
      ]
     },
     "execution_count": 37,
     "metadata": {},
     "output_type": "execute_result"
    }
   ],
   "source": [
    "# Let's check the data types of Google again\n",
    "Google.dtypes"
   ]
  },
  {
   "cell_type": "markdown",
   "metadata": {
    "colab_type": "text",
    "id": "OiLm2GEKFcvP"
   },
   "source": [
    "### 2b. Add a `platform` column to both the `Apple` and the `Google` dataframes\n",
    "Let's add a new column to both dataframe objects called `platform`: all of its values in the Google dataframe will be just 'google', and all of its values for the Apple dataframe will be just 'apple'. \n",
    "\n",
    "The reason we're making this column is so that we can ultimately join our Apple and Google data together, and actually test out some hypotheses to solve the problem in our brief. "
   ]
  },
  {
   "cell_type": "code",
   "execution_count": 42,
   "metadata": {
    "colab": {},
    "colab_type": "code",
    "id": "mF-sOcx2FcvQ"
   },
   "outputs": [],
   "source": [
    "# Create a column called 'platform' in both the Apple and Google dataframes. \n",
    "# Add the value 'apple' and the value 'google' as appropriate. \n",
    "Google['platform'] = 'google'\n",
    "Apple['platform'] = 'apple'"
   ]
  },
  {
   "cell_type": "markdown",
   "metadata": {
    "colab_type": "text",
    "id": "EJcry17IFcvS"
   },
   "source": [
    "### 2c. Changing the column names to prepare for our join of the two datasets \n",
    "Since the easiest way to join two datasets is if they have both:\n",
    "- the same number of columns\n",
    "- the same column names\n",
    "we need to rename the columns of `Apple` so that they're the same as the ones of `Google`, or vice versa.\n",
    "\n",
    "In this case, we're going to change the `Apple` columns names to the names of the `Google` columns. \n",
    "\n",
    "This is an important step to unify the two datasets!"
   ]
  },
  {
   "cell_type": "code",
   "execution_count": 63,
   "metadata": {
    "colab": {},
    "colab_type": "code",
    "id": "bdt9XH2KFcvT"
   },
   "outputs": [
    {
     "data": {
      "text/html": [
       "<div>\n",
       "<style scoped>\n",
       "    .dataframe tbody tr th:only-of-type {\n",
       "        vertical-align: middle;\n",
       "    }\n",
       "\n",
       "    .dataframe tbody tr th {\n",
       "        vertical-align: top;\n",
       "    }\n",
       "\n",
       "    .dataframe thead th {\n",
       "        text-align: right;\n",
       "    }\n",
       "</style>\n",
       "<table border=\"1\" class=\"dataframe\">\n",
       "  <thead>\n",
       "    <tr style=\"text-align: right;\">\n",
       "      <th></th>\n",
       "      <th>Category</th>\n",
       "      <th>Rating</th>\n",
       "      <th>Reviews</th>\n",
       "      <th>Price</th>\n",
       "      <th>platform</th>\n",
       "    </tr>\n",
       "  </thead>\n",
       "  <tbody>\n",
       "    <tr>\n",
       "      <th>0</th>\n",
       "      <td>Games</td>\n",
       "      <td>4.0</td>\n",
       "      <td>21292</td>\n",
       "      <td>3.99</td>\n",
       "      <td>apple</td>\n",
       "    </tr>\n",
       "    <tr>\n",
       "      <th>1</th>\n",
       "      <td>Productivity</td>\n",
       "      <td>4.0</td>\n",
       "      <td>161065</td>\n",
       "      <td>0.00</td>\n",
       "      <td>apple</td>\n",
       "    </tr>\n",
       "    <tr>\n",
       "      <th>2</th>\n",
       "      <td>Weather</td>\n",
       "      <td>3.5</td>\n",
       "      <td>188583</td>\n",
       "      <td>0.00</td>\n",
       "      <td>apple</td>\n",
       "    </tr>\n",
       "    <tr>\n",
       "      <th>3</th>\n",
       "      <td>Shopping</td>\n",
       "      <td>4.0</td>\n",
       "      <td>262241</td>\n",
       "      <td>0.00</td>\n",
       "      <td>apple</td>\n",
       "    </tr>\n",
       "    <tr>\n",
       "      <th>4</th>\n",
       "      <td>Reference</td>\n",
       "      <td>4.5</td>\n",
       "      <td>985920</td>\n",
       "      <td>0.00</td>\n",
       "      <td>apple</td>\n",
       "    </tr>\n",
       "  </tbody>\n",
       "</table>\n",
       "</div>"
      ],
      "text/plain": [
       "       Category  Rating  Reviews  Price platform\n",
       "0         Games     4.0    21292   3.99    apple\n",
       "1  Productivity     4.0   161065   0.00    apple\n",
       "2       Weather     3.5   188583   0.00    apple\n",
       "3      Shopping     4.0   262241   0.00    apple\n",
       "4     Reference     4.5   985920   0.00    apple"
      ]
     },
     "execution_count": 63,
     "metadata": {},
     "output_type": "execute_result"
    }
   ],
   "source": [
    "# Create a variable called old_names where you'll store the column names of the Apple dataframe. \n",
    "# Use the feature .columns.\n",
    "old_names = Apple.columns\n",
    "\n",
    "# Create a variable called new_names where you'll store the column names of the Google dataframe. \n",
    "new_names = Google.columns\n",
    "\n",
    "# Use the rename() DataFrame method to change the columns names. \n",
    "Apple = Apple.rename(dict(zip(old_names,new_names)),axis = 'columns')\n",
    "Apple.head()"
   ]
  },
  {
   "cell_type": "markdown",
   "metadata": {
    "colab_type": "text",
    "id": "qewPiLrRFcvX"
   },
   "source": [
    "### 2d. Join the two datasets \n",
    "Let's combine the two datasets into a single data frame called `df`."
   ]
  },
  {
   "cell_type": "code",
   "execution_count": 64,
   "metadata": {
    "colab": {},
    "colab_type": "code",
    "id": "jq6fGfvyFcvY"
   },
   "outputs": [
    {
     "data": {
      "text/html": [
       "<div>\n",
       "<style scoped>\n",
       "    .dataframe tbody tr th:only-of-type {\n",
       "        vertical-align: middle;\n",
       "    }\n",
       "\n",
       "    .dataframe tbody tr th {\n",
       "        vertical-align: top;\n",
       "    }\n",
       "\n",
       "    .dataframe thead th {\n",
       "        text-align: right;\n",
       "    }\n",
       "</style>\n",
       "<table border=\"1\" class=\"dataframe\">\n",
       "  <thead>\n",
       "    <tr style=\"text-align: right;\">\n",
       "      <th></th>\n",
       "      <th>Category</th>\n",
       "      <th>Rating</th>\n",
       "      <th>Reviews</th>\n",
       "      <th>Price</th>\n",
       "      <th>platform</th>\n",
       "    </tr>\n",
       "  </thead>\n",
       "  <tbody>\n",
       "    <tr>\n",
       "      <th>5361</th>\n",
       "      <td>FINANCE</td>\n",
       "      <td>4.6</td>\n",
       "      <td>459</td>\n",
       "      <td>18.99</td>\n",
       "      <td>google</td>\n",
       "    </tr>\n",
       "    <tr>\n",
       "      <th>3888</th>\n",
       "      <td>FAMILY</td>\n",
       "      <td>4.5</td>\n",
       "      <td>14885236</td>\n",
       "      <td>0.00</td>\n",
       "      <td>google</td>\n",
       "    </tr>\n",
       "    <tr>\n",
       "      <th>3814</th>\n",
       "      <td>NEWS_AND_MAGAZINES</td>\n",
       "      <td>3.9</td>\n",
       "      <td>63647</td>\n",
       "      <td>0.00</td>\n",
       "      <td>google</td>\n",
       "    </tr>\n",
       "    <tr>\n",
       "      <th>3452</th>\n",
       "      <td>Social Networking</td>\n",
       "      <td>4.0</td>\n",
       "      <td>1538</td>\n",
       "      <td>0.00</td>\n",
       "      <td>apple</td>\n",
       "    </tr>\n",
       "    <tr>\n",
       "      <th>7881</th>\n",
       "      <td>MEDICAL</td>\n",
       "      <td>5.0</td>\n",
       "      <td>6</td>\n",
       "      <td>0.00</td>\n",
       "      <td>google</td>\n",
       "    </tr>\n",
       "    <tr>\n",
       "      <th>759</th>\n",
       "      <td>EDUCATION</td>\n",
       "      <td>4.1</td>\n",
       "      <td>12733</td>\n",
       "      <td>0.00</td>\n",
       "      <td>google</td>\n",
       "    </tr>\n",
       "    <tr>\n",
       "      <th>2673</th>\n",
       "      <td>Photo &amp; Video</td>\n",
       "      <td>4.0</td>\n",
       "      <td>1494</td>\n",
       "      <td>0.00</td>\n",
       "      <td>apple</td>\n",
       "    </tr>\n",
       "    <tr>\n",
       "      <th>4191</th>\n",
       "      <td>GAME</td>\n",
       "      <td>4.4</td>\n",
       "      <td>19816</td>\n",
       "      <td>0.00</td>\n",
       "      <td>google</td>\n",
       "    </tr>\n",
       "    <tr>\n",
       "      <th>2840</th>\n",
       "      <td>Entertainment</td>\n",
       "      <td>4.5</td>\n",
       "      <td>4650</td>\n",
       "      <td>0.00</td>\n",
       "      <td>apple</td>\n",
       "    </tr>\n",
       "    <tr>\n",
       "      <th>7331</th>\n",
       "      <td>FAMILY</td>\n",
       "      <td>4.3</td>\n",
       "      <td>3146</td>\n",
       "      <td>0.00</td>\n",
       "      <td>google</td>\n",
       "    </tr>\n",
       "    <tr>\n",
       "      <th>6033</th>\n",
       "      <td>SPORTS</td>\n",
       "      <td>4.1</td>\n",
       "      <td>142</td>\n",
       "      <td>0.00</td>\n",
       "      <td>google</td>\n",
       "    </tr>\n",
       "    <tr>\n",
       "      <th>832</th>\n",
       "      <td>EDUCATION</td>\n",
       "      <td>4.7</td>\n",
       "      <td>1107948</td>\n",
       "      <td>0.00</td>\n",
       "      <td>google</td>\n",
       "    </tr>\n",
       "  </tbody>\n",
       "</table>\n",
       "</div>"
      ],
      "text/plain": [
       "                Category  Rating   Reviews  Price platform\n",
       "5361             FINANCE     4.6       459  18.99   google\n",
       "3888              FAMILY     4.5  14885236   0.00   google\n",
       "3814  NEWS_AND_MAGAZINES     3.9     63647   0.00   google\n",
       "3452   Social Networking     4.0      1538   0.00    apple\n",
       "7881             MEDICAL     5.0         6   0.00   google\n",
       "759            EDUCATION     4.1     12733   0.00   google\n",
       "2673       Photo & Video     4.0      1494   0.00    apple\n",
       "4191                GAME     4.4     19816   0.00   google\n",
       "2840       Entertainment     4.5      4650   0.00    apple\n",
       "7331              FAMILY     4.3      3146   0.00   google\n",
       "6033              SPORTS     4.1       142   0.00   google\n",
       "832            EDUCATION     4.7   1107948   0.00   google"
      ]
     },
     "execution_count": 64,
     "metadata": {},
     "output_type": "execute_result"
    }
   ],
   "source": [
    "# Let's use the append() method to append Apple to Google. \n",
    "df = pd.concat([Google,Apple],axis = 0)\n",
    "# Using the sample() method with the number 12 passed to it, check 12 random points of your dataset.\n",
    "df.sample(12)"
   ]
  },
  {
   "cell_type": "markdown",
   "metadata": {
    "colab_type": "text",
    "id": "FjqsHugWFcvb"
   },
   "source": [
    "### 2e. Eliminate the NaN values\n",
    "\n",
    "As you can see there are some `NaN` values. We want to eliminate all these `NaN` values from the table."
   ]
  },
  {
   "cell_type": "code",
   "execution_count": 67,
   "metadata": {
    "colab": {},
    "colab_type": "code",
    "id": "Gp2q6GLyFcvb"
   },
   "outputs": [
    {
     "data": {
      "text/plain": [
       "(16563, 5)"
      ]
     },
     "execution_count": 67,
     "metadata": {},
     "output_type": "execute_result"
    }
   ],
   "source": [
    "# Lets check first the dimesions of df before droping `NaN` values. Use the .shape feature. \n",
    "df.shape\n",
    "# Use the dropna() method to eliminate all the NaN values, and overwrite the same dataframe with the result. \n",
    "df = df.dropna()\n",
    "\n",
    "# Check the new dimesions of our dataframe. \n",
    "df.shape"
   ]
  },
  {
   "cell_type": "markdown",
   "metadata": {
    "colab_type": "text",
    "id": "qtfeQKtAFcvd"
   },
   "source": [
    "### 2f. Filter the data so that we only see whose apps that have been reviewed at least once\n",
    "\n",
    "Apps that haven't been reviewed yet can't help us solve our brief. \n",
    "\n",
    "So let's check to see if any apps have no reviews at all. "
   ]
  },
  {
   "cell_type": "code",
   "execution_count": 69,
   "metadata": {
    "colab": {},
    "colab_type": "code",
    "id": "Ge9OKXLNFcvd"
   },
   "outputs": [
    {
     "data": {
      "text/plain": [
       "Category    929\n",
       "Rating      929\n",
       "Reviews     929\n",
       "Price       929\n",
       "platform    929\n",
       "dtype: int64"
      ]
     },
     "execution_count": 69,
     "metadata": {},
     "output_type": "execute_result"
    }
   ],
   "source": [
    "# Subset your df to pick out just those rows whose value for 'Reviews' is equal to 0. \n",
    "# Do a count() on the result. \n",
    "df[df['Reviews'] == 0].count()"
   ]
  },
  {
   "cell_type": "markdown",
   "metadata": {
    "colab_type": "text",
    "id": "05f7H0kAFcvg"
   },
   "source": [
    "929 apps do not have reviews, we need to eliminate these points!"
   ]
  },
  {
   "cell_type": "code",
   "execution_count": 70,
   "metadata": {
    "colab": {},
    "colab_type": "code",
    "id": "pD8vmPjkFcvg"
   },
   "outputs": [],
   "source": [
    "# Eliminate the points that have 0 reviews.\n",
    "df = df[df['Reviews'] !=0]"
   ]
  },
  {
   "cell_type": "markdown",
   "metadata": {
    "colab_type": "text",
    "id": "ApnKES_bFcvi"
   },
   "source": [
    "### 2g. Summarize the data visually and analytically (by the column `platform`)"
   ]
  },
  {
   "cell_type": "markdown",
   "metadata": {
    "colab_type": "text",
    "id": "2smt9UocFcvj"
   },
   "source": [
    "What we need to solve our brief is a summary of the `Rating` column, but separated by the different platforms."
   ]
  },
  {
   "cell_type": "code",
   "execution_count": 74,
   "metadata": {
    "colab": {},
    "colab_type": "code",
    "id": "Vqckt347Fcvj"
   },
   "outputs": [
    {
     "data": {
      "text/html": [
       "<div>\n",
       "<style scoped>\n",
       "    .dataframe tbody tr th:only-of-type {\n",
       "        vertical-align: middle;\n",
       "    }\n",
       "\n",
       "    .dataframe tbody tr th {\n",
       "        vertical-align: top;\n",
       "    }\n",
       "\n",
       "    .dataframe thead tr th {\n",
       "        text-align: left;\n",
       "    }\n",
       "\n",
       "    .dataframe thead tr:last-of-type th {\n",
       "        text-align: right;\n",
       "    }\n",
       "</style>\n",
       "<table border=\"1\" class=\"dataframe\">\n",
       "  <thead>\n",
       "    <tr>\n",
       "      <th></th>\n",
       "      <th colspan=\"8\" halign=\"left\">Rating</th>\n",
       "      <th colspan=\"5\" halign=\"left\">Reviews</th>\n",
       "      <th colspan=\"8\" halign=\"left\">Price</th>\n",
       "    </tr>\n",
       "    <tr>\n",
       "      <th></th>\n",
       "      <th>count</th>\n",
       "      <th>mean</th>\n",
       "      <th>std</th>\n",
       "      <th>min</th>\n",
       "      <th>25%</th>\n",
       "      <th>50%</th>\n",
       "      <th>75%</th>\n",
       "      <th>max</th>\n",
       "      <th>count</th>\n",
       "      <th>mean</th>\n",
       "      <th>...</th>\n",
       "      <th>75%</th>\n",
       "      <th>max</th>\n",
       "      <th>count</th>\n",
       "      <th>mean</th>\n",
       "      <th>std</th>\n",
       "      <th>min</th>\n",
       "      <th>25%</th>\n",
       "      <th>50%</th>\n",
       "      <th>75%</th>\n",
       "      <th>max</th>\n",
       "    </tr>\n",
       "    <tr>\n",
       "      <th>platform</th>\n",
       "      <th></th>\n",
       "      <th></th>\n",
       "      <th></th>\n",
       "      <th></th>\n",
       "      <th></th>\n",
       "      <th></th>\n",
       "      <th></th>\n",
       "      <th></th>\n",
       "      <th></th>\n",
       "      <th></th>\n",
       "      <th></th>\n",
       "      <th></th>\n",
       "      <th></th>\n",
       "      <th></th>\n",
       "      <th></th>\n",
       "      <th></th>\n",
       "      <th></th>\n",
       "      <th></th>\n",
       "      <th></th>\n",
       "      <th></th>\n",
       "      <th></th>\n",
       "    </tr>\n",
       "  </thead>\n",
       "  <tbody>\n",
       "    <tr>\n",
       "      <th>apple</th>\n",
       "      <td>6268.0</td>\n",
       "      <td>4.049697</td>\n",
       "      <td>0.726943</td>\n",
       "      <td>1.0</td>\n",
       "      <td>4.0</td>\n",
       "      <td>4.5</td>\n",
       "      <td>4.5</td>\n",
       "      <td>5.0</td>\n",
       "      <td>6268.0</td>\n",
       "      <td>14803.805520</td>\n",
       "      <td>...</td>\n",
       "      <td>3963.50</td>\n",
       "      <td>2974676.0</td>\n",
       "      <td>6268.0</td>\n",
       "      <td>1.821977</td>\n",
       "      <td>6.128238</td>\n",
       "      <td>0.0</td>\n",
       "      <td>0.0</td>\n",
       "      <td>0.0</td>\n",
       "      <td>2.99</td>\n",
       "      <td>299.99</td>\n",
       "    </tr>\n",
       "    <tr>\n",
       "      <th>google</th>\n",
       "      <td>9366.0</td>\n",
       "      <td>4.191757</td>\n",
       "      <td>0.515219</td>\n",
       "      <td>1.0</td>\n",
       "      <td>4.0</td>\n",
       "      <td>4.3</td>\n",
       "      <td>4.5</td>\n",
       "      <td>5.0</td>\n",
       "      <td>9366.0</td>\n",
       "      <td>514049.836536</td>\n",
       "      <td>...</td>\n",
       "      <td>81532.75</td>\n",
       "      <td>78158306.0</td>\n",
       "      <td>9366.0</td>\n",
       "      <td>0.960928</td>\n",
       "      <td>15.816585</td>\n",
       "      <td>0.0</td>\n",
       "      <td>0.0</td>\n",
       "      <td>0.0</td>\n",
       "      <td>0.00</td>\n",
       "      <td>400.00</td>\n",
       "    </tr>\n",
       "  </tbody>\n",
       "</table>\n",
       "<p>2 rows × 24 columns</p>\n",
       "</div>"
      ],
      "text/plain": [
       "          Rating                                              Reviews  \\\n",
       "           count      mean       std  min  25%  50%  75%  max   count   \n",
       "platform                                                                \n",
       "apple     6268.0  4.049697  0.726943  1.0  4.0  4.5  4.5  5.0  6268.0   \n",
       "google    9366.0  4.191757  0.515219  1.0  4.0  4.3  4.5  5.0  9366.0   \n",
       "\n",
       "                         ...                         Price            \\\n",
       "                   mean  ...       75%         max   count      mean   \n",
       "platform                 ...                                           \n",
       "apple      14803.805520  ...   3963.50   2974676.0  6268.0  1.821977   \n",
       "google    514049.836536  ...  81532.75  78158306.0  9366.0  0.960928   \n",
       "\n",
       "                                                  \n",
       "                std  min  25%  50%   75%     max  \n",
       "platform                                          \n",
       "apple      6.128238  0.0  0.0  0.0  2.99  299.99  \n",
       "google    15.816585  0.0  0.0  0.0  0.00  400.00  \n",
       "\n",
       "[2 rows x 24 columns]"
      ]
     },
     "execution_count": 74,
     "metadata": {},
     "output_type": "execute_result"
    }
   ],
   "source": [
    "# To summarize analytically, let's use the groupby() method on our df.\n",
    "df.groupby(by ='platform').describe()"
   ]
  },
  {
   "cell_type": "markdown",
   "metadata": {
    "colab_type": "text",
    "id": "8f9TqMtKFcvl"
   },
   "source": [
    "Interesting! Our means of 4.049697 and 4.191757 don't **seem** all that different! Perhaps we've solved our brief already: there's no significant difference between Google Play app reviews and Apple Store app reviews. We have an ***observed difference*** here: which is simply (4.191757 - 4.049697) = 0.14206. This is just the actual difference that we observed between the mean rating for apps from Google Play, and the mean rating for apps from the Apple Store. Let's look at how we're going to use this observed difference to solve our problem using a statistical test. \n",
    "\n",
    "**Outline of our method:**\n",
    "1. We'll assume that platform (i.e, whether the app was Google or Apple) really doesn’t impact on ratings. \n",
    "\n",
    "\n",
    "2. Given this assumption, we should actually be able to get a difference in mean rating for Apple apps and mean rating for Google apps that's pretty similar to the one we actually got (0.14206) just by: \n",
    "a. shuffling the ratings column, \n",
    "b. keeping the platform column the same,\n",
    "c. calculating the difference between the mean rating for Apple and the mean rating for Google. \n",
    "\n",
    "\n",
    "3. We can make the shuffle more useful by doing it many times, each time calculating the mean rating for Apple apps and the mean rating for Google apps, and the difference between these means. \n",
    "\n",
    "\n",
    "4. We can then take the mean of all these differences, and this will be called our permutation difference. This permutation difference will be great indicator of what the difference would be if our initial assumption were true and platform really doesn’t impact on ratings. \n",
    "\n",
    "\n",
    "5. Now we do a comparison. If the observed difference looks just like the permutation difference, then we stick with the claim that actually, platform doesn’t impact on ratings. If instead, however, the permutation difference differs significantly from the observed difference, we'll conclude: something's going on; the platform does in fact impact on ratings. \n",
    "\n",
    "\n",
    "6. As for what the definition of *significantly* is, we'll get to that. But there’s a brief summary of what we're going to do. Exciting!\n",
    "\n",
    "If you want to look more deeply at the statistics behind this project, check out [this resource](https://www.springboard.com/archeio/download/4ea4d453b0b84014bcef287c50f47f00/)."
   ]
  },
  {
   "cell_type": "markdown",
   "metadata": {
    "colab_type": "text",
    "id": "d6EhTxArFcvm"
   },
   "source": [
    "Let's also get a **visual summary** of the `Rating` column, separated by the different platforms. \n",
    "\n",
    "A good tool to use here is the boxplot!"
   ]
  },
  {
   "cell_type": "code",
   "execution_count": 0,
   "metadata": {
    "colab": {},
    "colab_type": "code",
    "id": "hFKjrlWgFcvm"
   },
   "outputs": [],
   "source": [
    "# Call the boxplot() method on our df.\n",
    "_ _ _"
   ]
  },
  {
   "cell_type": "markdown",
   "metadata": {
    "colab_type": "text",
    "id": "FqTlAjnmFcvo"
   },
   "source": [
    "Here we see the same information as in the analytical summary, but with a boxplot. Can you see how the boxplot is working here? If you need to revise your boxplots, check out this this [link](https://www.kaggle.com/ramamet4/app-store-apple-data-set-10k-apps). "
   ]
  },
  {
   "cell_type": "markdown",
   "metadata": {
    "colab_type": "text",
    "id": "O8L-s1fgFcvp"
   },
   "source": [
    "## Stage 3 - Modelling"
   ]
  },
  {
   "cell_type": "markdown",
   "metadata": {
    "colab_type": "text",
    "id": "5fbRq2MZFcvq"
   },
   "source": [
    "### 3a. Hypothesis formulation\n",
    "\n",
    "Our **Null hypothesis** is just:\n",
    "\n",
    "**H<sub>null</sub>**: the observed difference in the mean rating of Apple Store and Google Play apps is due to chance (and thus not due to the platform).\n",
    "\n",
    "The more interesting hypothesis is called the **Alternate hypothesis**:\n",
    "\n",
    "**H<sub>alternative</sub>**: the observed difference in the average ratings of apple and google users is not due to chance (and is actually due to platform)\n",
    "\n",
    "We're also going to pick a **significance level** of 0.05. "
   ]
  },
  {
   "cell_type": "markdown",
   "metadata": {
    "colab_type": "text",
    "id": "TjBqkabaFcvq"
   },
   "source": [
    "### 3b. Getting the distribution of the data\n",
    "Now that the hypotheses and significance level are defined, we can select a statistical test to determine which hypothesis to accept. \n",
    "\n",
    "There are many different statistical tests, all with different assumptions. You'll generate an excellent judgement about when to use which statistical tests over the Data Science Career Track course. But in general, one of the most important things to determine is the **distribution of the data**.   "
   ]
  },
  {
   "cell_type": "code",
   "execution_count": 75,
   "metadata": {
    "colab": {},
    "colab_type": "code",
    "id": "bFwVhkeWFcvr"
   },
   "outputs": [],
   "source": [
    "# Create a subset of the column 'Rating' by the different platforms.\n",
    "# Call the subsets 'apple' and 'google' \n",
    "apple = df[df['platform'] == 'apple']['Rating']\n",
    "google = df[df['platform'] == 'google']['Rating']"
   ]
  },
  {
   "cell_type": "code",
   "execution_count": 76,
   "metadata": {
    "colab": {},
    "colab_type": "code",
    "id": "oPPFpwPvFcvu"
   },
   "outputs": [
    {
     "data": {
      "text/plain": [
       "NormaltestResult(statistic=1778.9974234584017, pvalue=0.0)"
      ]
     },
     "execution_count": 76,
     "metadata": {},
     "output_type": "execute_result"
    }
   ],
   "source": [
    "# Using the stats.normaltest() method, get an indication of whether the apple data are normally distributed\n",
    "# Save the result in a variable called apple_normal, and print it out\n",
    "stats.normaltest(apple)"
   ]
  },
  {
   "cell_type": "code",
   "execution_count": 77,
   "metadata": {
    "colab": {},
    "colab_type": "code",
    "id": "rCdh8a8KFcvw"
   },
   "outputs": [
    {
     "data": {
      "text/plain": [
       "NormaltestResult(statistic=3678.6157187516856, pvalue=0.0)"
      ]
     },
     "execution_count": 77,
     "metadata": {},
     "output_type": "execute_result"
    }
   ],
   "source": [
    "# Do the same with the google data. \n",
    "stats.normaltest(google)"
   ]
  },
  {
   "cell_type": "markdown",
   "metadata": {
    "colab_type": "text",
    "id": "9gDqu21yFcv0"
   },
   "source": [
    "Since the null hypothesis of the normaltest() is that the data are normally distributed, the lower the p-value in the result of this test, the more likely the data are to be non-normal. \n",
    "\n",
    "Since the p-values is 0 for both tests, regardless of what we pick for the significance level, our conclusion is that the data are not normally distributed. \n",
    "\n",
    "We can actually also check out the distribution of the data visually with a histogram. A normal distribution has the following visual characteristics:\n",
    "    - symmetric\n",
    "    - unimodal (one hump)\n",
    "As well as a roughly identical mean, median and mode. "
   ]
  },
  {
   "cell_type": "code",
   "execution_count": 79,
   "metadata": {
    "colab": {},
    "colab_type": "code",
    "id": "P9tT9RjNFcv1"
   },
   "outputs": [
    {
     "data": {
      "image/png": "[encoded data removed]",
      "text/plain": [
       "<Figure size 640x480 with 1 Axes>"
      ]
     },
     "metadata": {},
     "output_type": "display_data"
    }
   ],
   "source": [
    "# Create a histogram of the apple reviews distribution\n",
    "plt.hist(apple)\n",
    "plt.show()"
   ]
  },
  {
   "cell_type": "code",
   "execution_count": 80,
   "metadata": {
    "colab": {},
    "colab_type": "code",
    "id": "8dE1uC5iFcv2"
   },
   "outputs": [
    {
     "data": {
      "image/png": "[encoded data removed]",
      "text/plain": [
       "<Figure size 640x480 with 1 Axes>"
      ]
     },
     "metadata": {},
     "output_type": "display_data"
    }
   ],
   "source": [
    "# Create a histogram of the google data\n",
    "plt.hist(google)\n",
    "plt.show()"
   ]
  },
  {
   "cell_type": "markdown",
   "metadata": {
    "colab_type": "text",
    "id": "QhZV89FzFcv5"
   },
   "source": [
    "### 3c. Permutation test\n",
    "Since the data aren't normally distributed, we're using a *non-parametric* test here. This is simply a label for statistical tests used when the data aren't normally distributed. These tests are extraordinarily powerful due to how few assumptions we need to make.  \n",
    "\n",
    "Check out more about permutations [here.](http://rasbt.github.io/mlxtend/user_guide/evaluate/permutation_test/)"
   ]
  },
  {
   "cell_type": "code",
   "execution_count": 84,
   "metadata": {
    "colab": {},
    "colab_type": "code",
    "id": "bxNhQgpqFcv6"
   },
   "outputs": [
    {
     "data": {
      "text/html": [
       "<div>\n",
       "<style scoped>\n",
       "    .dataframe tbody tr th:only-of-type {\n",
       "        vertical-align: middle;\n",
       "    }\n",
       "\n",
       "    .dataframe tbody tr th {\n",
       "        vertical-align: top;\n",
       "    }\n",
       "\n",
       "    .dataframe thead th {\n",
       "        text-align: right;\n",
       "    }\n",
       "</style>\n",
       "<table border=\"1\" class=\"dataframe\">\n",
       "  <thead>\n",
       "    <tr style=\"text-align: right;\">\n",
       "      <th></th>\n",
       "      <th>count</th>\n",
       "      <th>mean</th>\n",
       "      <th>std</th>\n",
       "      <th>min</th>\n",
       "      <th>25%</th>\n",
       "      <th>50%</th>\n",
       "      <th>75%</th>\n",
       "      <th>max</th>\n",
       "    </tr>\n",
       "    <tr>\n",
       "      <th>platform</th>\n",
       "      <th></th>\n",
       "      <th></th>\n",
       "      <th></th>\n",
       "      <th></th>\n",
       "      <th></th>\n",
       "      <th></th>\n",
       "      <th></th>\n",
       "      <th></th>\n",
       "    </tr>\n",
       "  </thead>\n",
       "  <tbody>\n",
       "    <tr>\n",
       "      <th>apple</th>\n",
       "      <td>6268.0</td>\n",
       "      <td>4.134812</td>\n",
       "      <td>0.610423</td>\n",
       "      <td>1.0</td>\n",
       "      <td>4.0</td>\n",
       "      <td>4.3</td>\n",
       "      <td>4.5</td>\n",
       "      <td>5.0</td>\n",
       "    </tr>\n",
       "    <tr>\n",
       "      <th>google</th>\n",
       "      <td>9366.0</td>\n",
       "      <td>4.134796</td>\n",
       "      <td>0.614673</td>\n",
       "      <td>1.0</td>\n",
       "      <td>4.0</td>\n",
       "      <td>4.3</td>\n",
       "      <td>4.5</td>\n",
       "      <td>5.0</td>\n",
       "    </tr>\n",
       "  </tbody>\n",
       "</table>\n",
       "</div>"
      ],
      "text/plain": [
       "           count      mean       std  min  25%  50%  75%  max\n",
       "platform                                                     \n",
       "apple     6268.0  4.134812  0.610423  1.0  4.0  4.3  4.5  5.0\n",
       "google    9366.0  4.134796  0.614673  1.0  4.0  4.3  4.5  5.0"
      ]
     },
     "execution_count": 84,
     "metadata": {},
     "output_type": "execute_result"
    }
   ],
   "source": [
    "# Create a column called `Permutation1`, and assign to it the result of permuting (shuffling) the Rating column\n",
    "# This assignment will use our numpy object's random.permutation() method\n",
    "df['Permutation1'] = np.random.permutation(df['Rating'])\n",
    "\n",
    "# Call the describe() method on our permutation grouped by 'platform'. \n",
    "df.groupby(df['platform'])['Permutation1'].describe()"
   ]
  },
  {
   "cell_type": "code",
   "execution_count": 85,
   "metadata": {
    "colab": {},
    "colab_type": "code",
    "id": "AaGNfPGTFcv7"
   },
   "outputs": [
    {
     "data": {
      "text/html": [
       "<div>\n",
       "<style scoped>\n",
       "    .dataframe tbody tr th:only-of-type {\n",
       "        vertical-align: middle;\n",
       "    }\n",
       "\n",
       "    .dataframe tbody tr th {\n",
       "        vertical-align: top;\n",
       "    }\n",
       "\n",
       "    .dataframe thead th {\n",
       "        text-align: right;\n",
       "    }\n",
       "</style>\n",
       "<table border=\"1\" class=\"dataframe\">\n",
       "  <thead>\n",
       "    <tr style=\"text-align: right;\">\n",
       "      <th></th>\n",
       "      <th>count</th>\n",
       "      <th>mean</th>\n",
       "      <th>std</th>\n",
       "      <th>min</th>\n",
       "      <th>25%</th>\n",
       "      <th>50%</th>\n",
       "      <th>75%</th>\n",
       "      <th>max</th>\n",
       "    </tr>\n",
       "    <tr>\n",
       "      <th>platform</th>\n",
       "      <th></th>\n",
       "      <th></th>\n",
       "      <th></th>\n",
       "      <th></th>\n",
       "      <th></th>\n",
       "      <th></th>\n",
       "      <th></th>\n",
       "      <th></th>\n",
       "    </tr>\n",
       "  </thead>\n",
       "  <tbody>\n",
       "    <tr>\n",
       "      <th>apple</th>\n",
       "      <td>6268.0</td>\n",
       "      <td>4.049697</td>\n",
       "      <td>0.726943</td>\n",
       "      <td>1.0</td>\n",
       "      <td>4.0</td>\n",
       "      <td>4.5</td>\n",
       "      <td>4.5</td>\n",
       "      <td>5.0</td>\n",
       "    </tr>\n",
       "    <tr>\n",
       "      <th>google</th>\n",
       "      <td>9366.0</td>\n",
       "      <td>4.191757</td>\n",
       "      <td>0.515219</td>\n",
       "      <td>1.0</td>\n",
       "      <td>4.0</td>\n",
       "      <td>4.3</td>\n",
       "      <td>4.5</td>\n",
       "      <td>5.0</td>\n",
       "    </tr>\n",
       "  </tbody>\n",
       "</table>\n",
       "</div>"
      ],
      "text/plain": [
       "           count      mean       std  min  25%  50%  75%  max\n",
       "platform                                                     \n",
       "apple     6268.0  4.049697  0.726943  1.0  4.0  4.5  4.5  5.0\n",
       "google    9366.0  4.191757  0.515219  1.0  4.0  4.3  4.5  5.0"
      ]
     },
     "execution_count": 85,
     "metadata": {},
     "output_type": "execute_result"
    }
   ],
   "source": [
    "# Lets compare with the previous analytical summary:\n",
    "df.groupby(by ='platform')['Rating'].describe()"
   ]
  },
  {
   "cell_type": "code",
   "execution_count": 93,
   "metadata": {
    "colab": {},
    "colab_type": "code",
    "id": "aJPNpX0JFcv-"
   },
   "outputs": [
    {
     "name": "stdout",
     "output_type": "stream",
     "text": [
      "[-0.006673413496732117, 0.002940366252981441, 0.005550201198890825, 0.00728121417323635, 0.01234109825202001, 0.0011560913409782714, -0.005208710210782286, -0.0033978043299489613, 0.01431178994586535, 0.003419723692009491, 0.013379706036603878, 0.008293190988982957, 0.03295346813093847, 0.007520892892727282, 0.009491584586609036, -0.0013738506984077858, -0.007445711592990456, 0.0010229364968150634, -0.01602088355809972, 0.0012093532786670025, 0.00930516780474644, 0.0008098887461107651, 0.004511593414285642, -0.014050191864271255, 0.012474253096205423, 0.02043691277808879, 0.0008365197149560188, -0.0036108520806292788, 0.00379255725573735, -0.00749897353064366, -0.010135439445408956, 0.0015821868423691043, -0.011040892385823398, 0.009944311056795385, 0.007946988394107457, -0.006060901213499115, -0.012106131139234755, -6.893322544510028e-05, 0.01005083493214709, 0.007334476110889554, -0.0042233643638454055, -0.015940990651580833, 0.011462276280439276, 0.0009696745591440958, -0.004036947581978367, 0.015190611917463848, 0.015883017107201525, 0.005896403793746785, 0.003925712099914769, -0.01405019186425882, 0.018412959146600016, 0.01092965690373493, -0.0025189823583513515, -0.005901115400504864, -0.00038850485149044545, -0.013810513144756342, -0.008111485813872221, -0.0035842211117858014, 0.003313199816672885, -0.004196733395025909, 0.007281214173210593, -0.011839821450891463, -0.012532226640613153, -0.012878429235496647, 0.00555020119890326, 0.008879072303359159, 0.001129460372154334, -0.01487575189818724, -0.001586898449101426, 0.01798686364521007, 0.005736617980740988, 0.0013425081228417568, -0.0074723425617992945, 0.0022745920320668134, -0.009762605881682873, 0.011542169186928852, 0.0017419726553864479, -0.012345809858776313, 0.008772548428037652, -0.0008678622905406996, -0.00036187388263630993, -0.02784503372122149, -0.0025189823583353643, 0.008319821957814888, -0.00014882613195599248, 0.0058697728249272885, 0.019531459837685894, -0.015381740306025016, -0.001826577168631438, 0.0054170463547098535, 0.017693922988009092, 0.0065888089834915675, -0.008910414878962492, -0.002518982358348687, -0.009309879411480537, 0.00954484652426224, 0.002434377845099256, -0.013144738923835497, -0.0026255062336870694, 0.003180044972520335, -0.006034270244679618, -0.007285925779960678, -0.00608753218236302, -0.0014271126360929642, -0.005448388930292758, 0.006109451544458189, -0.003823899831303379, 0.006295868326287035, 0.005070843759861887, -0.005208710210760081, -0.0015070055425878692, -0.0008412313217052159, 0.018093387520559112, -0.007232663842303033, -0.009949022663542806, -0.002279303638829333, -0.01689970552969644, 0.017321089424303437, 0.0033398307855270204, -0.002732030109060979, 0.009704632337252939, -0.00046839775800222583, 0.00107619843448159, -0.0068331993097601185, -0.0035309591741095048, 0.0053105224793732475, -0.004489674052210901, 0.012154681470184947, -0.01005554653887586, -0.0118398214508737, 0.004911057946839215, -0.0029450778597324145, -0.008564212284101202, -0.0009477551970169529, 6.422161871721954e-05, 3.759064985331406e-05, -0.005341865054940165, 0.0049643198845119585, 0.007440999986242147, 0.022034770908271994, 0.02001081727674414, 0.004724641164995269, 0.003446354660872508, -0.0033179114234389573, -0.003477697236437649, -0.002066255888146351, 0.00019737646287065758, 0.00866602455271348, 0.013566122818466475, -0.017725265563606207, -0.008617474221749966, -0.009229986504990073, -0.01298495311081016, -0.0009743861658630948, -0.013011584079660743, 9.085258757490777e-05, -0.0010276481035607077, -0.0027320301090387744, -0.005528281836802762, 0.013432967974294385, 0.010663347215380092, 0.015057457073259783, 0.0004104242135900549, -0.007019616091595182, 0.007733940643444015, -0.00606090121353553, 0.0004636861512734569, -0.0003618738826505208, 0.01657542229691078, 0.006295868326287035, -0.014183346708431799, 0.015936279044851176, 0.0192385191805009, -0.003930423706660413, 0.004378438570121546, 0.00863939358385224, 0.007334476110876231, -0.0027586610778911336, 0.0012359842475051508, -0.008857152941282642, -0.005634805712164237, 0.005656725074240754, -0.025235198775297896, -0.00462282889637855, -0.012292547921109787, -0.009070200691960295, 0.0012626152163282, 0.007813833549936255, -0.017219277155722246, 0.021342365718524547, -0.01580783580742029, 0.008293190988970522, -0.017751896532433697, -0.009975653632381842, -0.004862507615908562, 0.0014224010293562017, -0.006939723185085178, 0.0038191882245612874, -0.0032113875481023513, 0.01931841208699847, 0.0052306295728632435, 0.011568800155792758, -0.011680035637883002, -0.009842498788208864, -0.008670736159418269, -0.00462282889637855, -0.0017733152309471478, 0.01865263786610516, -0.007046247060431554, -0.008031592907356, 3.7590649879071236e-05, 0.007840464518777068, 0.025629951701105824, 0.005923034762584045, -0.01266538148479679, -0.0023858275141739327, -0.004516305021041944, 0.008239929051298667, -0.0056348057121518025, 0.006721963827680533, 0.012101419532503321, -0.010295225258421858, 0.0016354487800445128, -0.004063578550820068, 0.006455654139314149, -0.016127407433445207, -0.0014803745737337337, -0.005901115400497758, 0.014711254478396718, 0.013166658285930666, -0.004596197927546619, 0.00632249929513673, -0.015115430617674619, 0.010796502059580604, -0.0017200532932815094, -0.005821222493997524, -0.004063578550843161, 0.008719286490343592, -0.0035309591741130575, 0.007361107079741025, -0.009789236850533456, 0.017534137175003295, 0.0021946991255719084, -0.00020208806963761816, 0.002327853969758209, 0.02014397212092156, 0.013965587351016495, -0.010055546538868754, 0.011435645311606457, -0.012372440827602027, -0.0016401603867670644, -0.0051021863354145935, -0.01932312369373257, -0.009016938754265347, -0.0022260417011636946, -0.012638750515958641, 0.007307845142047853, 0.002061544281402483, -0.008590843252926028, 0.005923034762600032, 0.014498206727730611, -0.012239285983429937, 0.007121428360179927, 0.00917201296055925, 0.011568800155780323, -0.005128817304265176, -0.01471596608515302, 0.003126783034856473, -0.005927746369335907, 0.009065489085216427, 0.012527515033879943, -0.00411684048850347, -0.0060342702446964935, -0.0006015526021858619, -0.006433734777211875, -0.000734707446354399, 0.007867095487612552, 0.001395770060526047, 0.010663347215380092, -0.0027586610778751464, 0.009358429742403196, -0.01261211954712671, -0.008617474221749966, -0.017219277155702706, -0.0034244352987613524, 0.007680678705740185, 0.005576832167743184, -0.0008146003528564094, -0.012452333734109367, 0.009385060711240456, 0.006801856734161227, -0.013517572487536711, -0.00978923685054145, 0.010263882682833625, 0.013246551192456657, 3.7590649890617556e-05, 0.008745917459179076, -0.0025456133272028225, -0.0031581256104216138, -0.014875751898154377, 0.01596291001369554, 0.02339295031889055, 0.008319821957810447, -0.012159393076919045, -0.0041168404884937004, -0.003051601735075238, -0.004170102426180655, 0.004777903102652914, 0.0032333069101806444, 0.0032599378790223454, -0.00036187388265140896, 0.0001973764629106256, 0.022301080596614398, -0.004569566958701365, -0.011014261416978144, 0.0087725484280341, 0.021235841843171066, -0.006859830278599155, -0.005901115400498647, -0.005208710210763634, -0.00448967405221623, 0.008559500677342236, 0.0008098887461382986, 0.005017581822182038, 0.005257260541696951, -0.009229986504973198, 0.012900348597573164, -0.015994252589274893, 0.011435645311608233, -0.003770637893635964, 0.011595431124610478, -0.008431057439922895, 0.010503561402352979, 0.005070843759846788, -0.006593520590232771, 0.009784525243804687, -0.007472342561826828, -0.0009743861658604303, 0.00802688130063256, 0.011329121436256528, -0.00022871903847132558, 0.013672646693804857, -0.012159393076936809, -0.004915769553575977, 0.014604730603068994, 0.007520892892739717, -0.006593520590234547, 0.003978974037578631, 0.010476930433521048, 0.0032865688478453947, 0.004804534071485733, 0.0008897816526305391, -0.001613529417952897, -0.005954377338179384, 0.002274592032065037, -0.006220687026557314, -0.0058478534628152445, 0.018626006897280334, -0.003797268862477665, -0.016340455184144176, -0.004516305021036615, 0.004751272133837858, 0.017294458455488382, 0.004298545663624864, 0.0007832577772841631, -0.004329888239180235, 0.015004195135605691, -0.006620151559066478, 0.01311339634828812, -0.011440356918352101, -0.01130720207417113, 0.0010761984344878073, 0.00789372645644626, 0.01391232541332954, 0.009411691680071499, -0.002918446890898707, 0.011142704654433011, -0.013703989269409078, -0.0011874339165602876, -0.0038505308001415273, -0.012212655014589124, -0.01173329757555397, 0.010530192371208003, -0.005341865054942829, -0.0024124584830147455, -0.0014537436049240071, -0.0024657204206768313, -0.006194056057693409, -0.006779937372087375, -0.012079500170408153, 0.006269237357459545, -0.0028385539843869267, 0.0004104242135678504, 0.011648693062273452, 0.006056189606807649, 0.0006234719642650433, 0.0053637844170513205, -0.004436412114539046, -0.01428987058378084, 0.008026881300621014, 0.014072111226339779, 0.0014490319981819155, -0.008271271626887788, 0.004218652757115748, 0.0058431418561157855, 0.005417046354732058, -0.0018265771686332144, 0.007334476110895771, 0.0010495674656318954, 0.0032599378790134637, 0.0059230347625955915, 0.010130727838641995, 0.004777903102648473, 0.0028871043153104736, -9.556419428502494e-05, -0.01439639445912455, -0.0024124584830147455, 0.014897671260263756, -0.014369763490296172, -0.008803891003591247, -0.02158675604478777, 0.0028338423776412824, -0.017245908124554177, -0.01708612231154305, 0.012740562784558485, -0.007845176125525377, -0.0006814455086852078, -0.0036641140182869236, 0.007787202581128305, -0.003610852080615956, -0.013597465394052044, 0.01127585949859089, -0.014050191864253492, -0.0015602674802659422, 0.004005605006425661, 0.013965587351012942, 0.009970942025619323, 0.005763248949572919, -0.008431057439920231, -0.011919714357397027, -0.0018532081374464937, -0.011520249824860329, 0.0046181172896506695, 0.0015821868423682162, 0.016681946172252715, 0.0034463546608627382, -0.0003352429138239188, -0.00813811678271481, 0.006375761232792598, -0.007845176125521824, 0.00291373528414951, -0.006300579933036232, 0.004405069538937489, 0.010343775589350734, 0.003339830785524356, -0.00837779550224127, 0.006668701890007789, 0.0031001520659890147, -0.018364408815668476, -0.0025456133271788417, -0.007392449655299949, 0.011089442716730069, -0.006460365746053576, -0.0020928868569694004, 0.013193289254791019, 0.0033131998166915366, -0.006646782527909956, -0.005155448273118424, -0.006593520590213231, -0.008937045847786429, -0.011680035637867903, 0.006721963827660993, -0.0006548145398586058, -0.02563466330783637, -0.0018532081374535991, 0.0037659262868849908, 0.003259937879024122, 0.0030202591594967743, -0.002998339797393612, 0.0021414371878991645, 0.012101419532510427, -0.004569566958725346, -0.006087532182356803, 0.0026740565646230507, 0.008879072303367153, -0.003770637893641293, -0.021134029574571223, 0.009864418150298704, -0.00025535000732279656, -0.0037440069248200203, 0.003552878536217108, 0.005044212790993541, 0.014231897039381103, 0.012474253096191212, -0.008351164533405786, 0.009731263306122173, 0.013859063475672784, -0.0037440069247960395, 0.007174690297865993, 0.016042802920226862, 0.0013691390916807933, -0.021054136668082535, 0.009757894274945222, -0.01096099947929563, 0.011515538218103138, 0.007813833549939808, -0.008218009689219485, 9.085258756513781e-05, -0.0012140648853993241, 0.02232771156544544, -0.008138116782706817, 0.0005702100265958521, -0.009096831660801996, 0.006855118671835747, 0.005283891510517336, 0.01588301710717399, 0.008586131646179496, 0.0017686036242121617, 0.0015022939358617649, 0.0005169480889186673, 0.010903025934908328, -0.006460365746053576, 0.007813833549931815, -0.004063578550852043, 0.006429023170482218, 0.012420991158535344, 0.005683356043071797, -0.0024657204206723904, -0.006194056057712949, -0.009629451037519665, 0.0012892461851565784, 0.01045029946467313, 0.018253173333557804, -0.009256617473817563, -0.007099508998117621, 0.001528924904679485, 0.002061544281376726, 0.006615439952296853, 0.011009549810228059, 0.005070843759849453, -0.01418334670844601, 0.018146649458226527, 0.004618117289642676, 0.001289246185174342, 0.0024077468762548904, 0.01431178994586002, -0.016313824215303363, -0.001533636511418912, -0.006140794120021553, -0.013411048612209875, 0.009225274898224, -0.002359196545334896, 0.011755216937650026, -0.009016938754287551, -0.0049956624600930866, 0.011675324031142686, -0.001693422324457572, -0.01349094151873409, -0.0019863629816398998, -0.002811923015547002, -0.018550825597526632, -0.007871807094348426, -0.0014271126360938524, -0.006992985122754369, 0.009917680087954572, 0.016149326795565244, 0.0007832577772850513, -0.002758661077884028, -0.015594788056727538, -0.011493618856031063, -0.011387094980713997, 0.004325176632441696, 0.012287836314338385, -0.0059277463693296895, -0.0020928868569809467, -0.009203355536147484, -0.003690744987131289, -0.01279853632896888, -0.0004950287268323805, -0.002146148794635039, -0.0027053991402015143, 0.0038458191933985475, -0.0016934223244362556, -0.003211387548100575, -0.0020662558881374693, -0.0023325655765047415, 0.016628684234582636, 0.005443677323545337, 0.019105364336311048, -0.006513627683721879, 0.011622062093455732, 0.0039257120998987816, -0.005155448273096219, 0.0016088178111859364, -0.01588772871393651, -0.00781854515667657, -0.006300579933050443, -0.0013472197295563149, 0.01662868423459951, -0.02646022334174436, -0.010721320759789599, 0.004698010196132252, -0.00574132958747775, 0.0011560913409889295, 0.016442267452747572, 0.005203998604032201, -0.00973597491286693, -0.0017999461997835198, -0.008670736159419157, 0.001342508122812447, -0.006513627683712997, -0.018550825597516862, -0.007845176125496955, 0.004804534071505273, 0.007733940643428916, -0.009602820068667306, 0.0037392953180530597, 0.012527515033880832, -0.016766550685513693, 0.01053019237117958, 0.005576832167731638, -0.003530959174110393, -0.01836440881567203, -0.003930423706650643, -0.00688646124744885, 0.01673520810992546, 0.001955020406054331, 0.0021148062190965433, -0.014050191864269479, 0.009811156212598426, 0.0075475238615902995, 0.008106774207122136, 0.004671379227310091, 0.02166193734457522, 0.014311789945864462, -0.013144738923836385, 0.0006501029330916452, -0.004809245678242924, -0.008191378720373343, -0.003823899831308708, -0.0003618738826496326, 0.019584721775355973, 0.015243873855115275, 0.0023278539697599854, 0.008373083895475197, 0.0059496657314275225, -0.010694689790955003, -0.007712021281340853, 0.018705899803781456, 0.015723231294177964, -0.004729352771724926, -0.0015336365114402284, 0.0029403662529770003, -0.01524858546185559, 0.002567532689287333, 0.01841295914658936, -0.012878429235497535, -0.004303257270349192, 0.024910915542516676, 0.0083464529266557, 0.00381918822457461, 0.014764516416094331, 0.006136082513316765, 0.01503082610445361, 0.006775225765339954, 0.005230629572852585, 0.00182186556188757, -0.012026238232742514, -0.004835876647084625, -0.005794591525161152, 0.009225274898217783, -6.893322548151559e-05, -0.007312556748796162, 0.019318412087012682, 0.014950933197932947, -0.0003086119450177449, 0.001848496530718613, -0.006220687026524452, 0.008000250331790859, 0.005443677323543561, 0.022886961911006587, 0.0024876397827897634, -0.004249995332680001, -0.012292547921090247, 0.002487639782768447, -0.0036641140183020227, 0.02802673889631624, 0.007254583204392873, -0.0015336365114260175, 0.008133405175979824, -0.00243908945185467, 0.002114806219076115, 0.00251427075158972, -0.014343132521451807, 0.005763248949582689, 0.005869772824918407, -0.004942400522415014, 0.013912325413333093, -0.006859830278612478, 0.013725908631505135, -0.017219277155721358, 0.00650891607698334, -0.001533636511438452, 0.010556823340040822, 0.009038858116385384, 0.011648693062284998, 0.008985596178709088, -1.5671287802554446e-05, 0.01119596659208888, 0.016229219702048603, 0.002354484938585699, 0.0063757612328032565, 0.015217242886286897, -0.0016135294179422388, 0.009518215555428533, -0.013490941518713662, -0.004436412114552368, 0.002301223000911179, 0.006695332858844161, -0.01538174030604722, 0.0008897816526429736, 0.013459598943126316, -0.005102186335411929, 0.010024203963308054, -0.002119517825844852, 0.007121428360215454, -0.014156715739594539, 0.004884426978002843, -0.004649459865232686, 0.0012626152163246473, -0.0026255062336781876, 0.0015289249046848141, -0.012665381484813665, 0.012554146002695887, 0.015829755169532334, -0.00030861194498399414, -0.03080107126197884, 0.011808478875299677, -0.009043569723136358, 0.0008897816526109992, -0.016846443592034355, -0.0027852920467168474, 0.003712664349227346, 0.0189722094921434, 0.014072111226375306, -0.01008217750772289, -0.007871807094359973, -0.008590843252927804, 0.0019550204060667653, -0.024116698084190702, -0.0017999461997888488, 0.0015821868423406826, -0.0032912804545777163, 0.016921624891780063, -0.006566889621405281, 0.013326444098946233, -0.023690602582831843, -0.009283248442653935, 0.005470308292371051, -0.014156715739605197, -0.01833777784682411, -0.0033179114234291873, -0.0024124584830200746, -0.004622828896393649, -0.0193763856314213, -0.0077919141878437514, 0.011568800155773218, 0.0025941636581157113, -0.006060901213512437, -0.010508273009089741, -0.015195323524213933, -0.008590843252913594, -0.006273948964198972, -0.0049956624600726585, -0.00563480571213848, -0.007871807094338656, -0.02877711763045543, 0.00520399860402776, 0.0001973764628857566, 0.005310522479375912, 0.007041535453702785, -0.005128817304262512, 0.011142704654413471, -0.007605497405985595, -0.00821800968921682, -0.006886461247417763, -0.016420348090636416, -0.004010316613163312, 0.005097474728703588, 0.007787202581110542, -0.0020396249193028737, -0.012665381484792348, -0.015461633212561665, -0.016926336498536365, -0.00832453356454721, 0.005843141856097134, 0.005949665731438181, 0.0036327714427191182, -0.011333833042997732, 0.009385060711237792, -0.004782614709386124, -0.0025456133271823944, 0.011089442716753162, 0.020463543746958024, 0.010610085277705572, -0.0018798391063032938, -0.0141300847707857, -0.007978330969693026, -0.017991575251955716, -0.0020396249193215255, 0.005869772824937058, -0.0017200532932886148, 0.00232785396978219, -0.007525604499488026, -0.0041701024261771025, 0.0011028294033152974, 0.00011748355640062158, -0.0007879693840289193, 9.085258755892056e-05, 0.00033053130707649814, -0.013171369892662987, 0.0051241056975168675, -0.007738652250161238, 0.029811013808306086, 0.02331305741238232, 0.0068817496406792245, -0.0076321283748139734, -0.009336510380320462, -0.008937045847799752, -0.0033445423922753292, -0.01716601521805572, -0.0014004816672441578, 0.003020259159491445, -0.016500240997157967, -0.001746684262125875, -0.004036947581996131, -0.011493618856018628, -0.0073658186864928865, 0.005310522479392787, 0.0034197236920281426, 0.0074942619239317665, -0.022918304486582386, 9.085258755003878e-05, 0.002034913312579434, -0.02174654185779712, -0.0034510662676181525, -0.003264649485744897, -0.0012939577919119927, -0.008351164533400457, -0.014875751898159706, -0.009150093598459641, -0.013544203456373083, -0.012958322141995993, 0.00991768008795546, 0.004777903102658243, -0.00675330640325722, -0.003930423706631991, 0.01521724288629045, -0.004063578550829838, -0.005688067649826323, -0.013118107955004454, -0.005661436680973964, 0.014072111226365536, 0.001901758468386916, -0.0001488261319595452, -0.009229986504984744, 0.004005605006407897, 0.01540365966813173, 0.013353075067771947, -0.002865184953219746, -0.007898438063192792, -0.013464310549872849, 0.000836519714956907, -0.006593520590258528, -0.0015070055425940865, -0.009229986504981191, 0.003925712099913881, -0.009709343944041215, -0.011839821450902122, -0.007445711592974469, -0.006700044465560495, -0.0034244352987959914, -0.011466987887184033, 0.002008282343737733, -0.01796494428312645, -0.007259294811128747, 0.01625585067088675, 0.010903025934879018, -0.002226041701154813, -0.03298481070650716, -0.0015602674802686067, 0.006935011578336869, 0.004884426977996625, -0.02299819739309683, -0.006114163151187846, -0.0048891385847262825, 0.0032066759413282853, -0.0005216596956501007, 0.014391682852389565, 0.0029403662529778885, -0.007259294811108319, -0.013144738923860366, -0.00022871903849353004, -0.0036374830494638744, 0.00738773804854187, 0.013672646693811075, -0.0028918159220685524, 0.013805801538011586, -0.0013738506983997922, -0.02036173147833864, 0.008479607770816244, -0.0037173759559649966, -0.007925069032031828, -0.011866452419723394, 0.0005169480889231082, -0.004569566958704918, -0.011786559513200068, 0.002327853969767091, -0.027898295658880023, -0.0153284783683727, 0.017773815894513767, 0.011275859498577567, -0.006273948964202525, -0.009443034255669502, -0.008351164533402233, -0.006433734777226974, 0.004698010196151792, 0.016921624891779175, -0.01663339584133361, 0.003792557255732021, 0.02272717609799635, -0.007339187717644968, -0.008830521972419625, 0.011781847906467746, -0.004196733394989494, 0.022221187690115052, 0.001555555873525627, 0.0024876397827844343, -6.893322546108749e-05, -0.011600142731339247, -0.012212655014607776, -0.004196733395005481, -0.010455011071409004, 0.00043705518240955143, -0.004809245678239371, 0.012101419532532631, 0.028186524709316707, -0.00643373477720921, 0.0050974747286849365, 0.014817778353757305, 0.004271914694781387, 0.01835969720889885, -0.002811923015547002, 0.0020881752502450723, -0.003957054675496785, 0.00885244133454055, -0.0018265771686074572, -0.0025189823583513515, -0.013996929926592294, -0.0053951269926173495, -0.00664678252790285, 0.011488907249272984, -0.0012140648854055414, -0.015568157087905377, 0.007227952235560942, 0.00142240102934732, -0.013411048612211651, 0.002514270751610148, 0.005363784417023787, 0.0042719146947698405, -0.0008412313216998868, 0.01934504305583573, 0.015909648076023686, 0.006801856734175438, 0.006881749640663237, -0.000867862290532706, -0.022172637359182623, 0.002567532689282004, 0.0189988404609851, -0.004622828896382103, -0.014902382867018282, -0.0015070055426003037, -0.0005482906644971308, 0.003712664349217576, -0.003051601735070797, 0.016042802920197552, -0.01144035691836276, 0.013619384756150765, -0.00012219516312406142, -0.0053418650549339475, 0.004911057946816122, 0.014871040291422943, 0.009278536835918949, 0.0049376889156853565, -0.0209742437615672, -0.007285925779974001, 0.0008365197149329262, -0.013757251207057841, 0.0003039003382232508, 0.0019816513748942555, 0.004964319884518176, 0.011169335623232968, 0.004058866944077977, 0.009917680087973224, 0.007520892892735276, -0.0056348057121269335, -0.003584221111779584, -9.556419428502494e-05, 0.0060029276690958255, -0.01817799203380588, 0.007094797391365759, 0.00800025033177576, -6.893322546108749e-05, -0.0017466842621072232, 0.0013158771540222602, 0.0024610088139240816, -0.021853065733123955, -0.0018532081374615927, -0.004755983740564851, 0.008905703272202636, -0.000814600352874173, 0.0067752257653479475, -0.015142061586517208, 0.005630094105397276, -0.007046247060440436, 0.009118751022896276, -0.0007879693840138202, 0.0028604733464785426, -0.013038215048492674, -0.013011584079677618, 0.012634038909227208, 0.0052838915105466455, 0.005576832167728973, -0.0011874339165789394, -0.008058223876210135, -0.008644105190600548, 0.01018398977633339, -0.01974921919509054, -0.01599425258927578, 0.0005702100265869703, -0.00768539031250981, -0.0029983397973918358, -0.0033978043299294214, -0.01796494428313178, -0.008058223876199477, 0.0030735210971615246, 0.00890570327221063, 0.011036180779071536, 0.01689499392293925, -0.01860408753517362, -0.002998339797398941, -0.00041513582034102825, 0.002434377845094815, -0.0007879693840155966, -0.006194056057710284, -0.005128817304278499, 0.003233306910193079, -0.0037972688624705597, -0.002119517825809325, -0.0011341719788813265, 0.002008282343719081, 0.006375761232812138, 0.013432967974280174, -0.009975653632379178, -0.0028918159220649997, 0.0030468901283287053, 0.0003305313070702809, -0.003371173361101043, -0.0019331010439636032, -0.00779191418783487, 0.008958965209886927, -0.008084854845032297, -0.009762605881699749, -0.015248585461868025, 0.006721963827675204, 0.004351807601290503, 0.009118751022895388, 0.005896403793751226, 0.0016088178112072526, -0.01559478805673109, -0.006300579933052219, -0.004702721802897436, 0.0036860333803927503, 0.015590076449989887, -0.002039624919325078, -0.01317136989267187, 0.0007566268084282513, -0.016047514526958295, -0.007072878029270591, -0.008830521972448047, 0.013459598943129869, -0.007206032873455115, 0.0037659262868743326, -0.009336510380323126, -0.005022293428923241, 0.0047512721338272, 0.0015555558735300679, 0.008559500677346676, -0.009070200691954966, 0.0017153416865385296, 0.008479607770834008, 0.0136992776626359, 0.006588808983503114, 0.008239929051318207, 0.007440999986233265, 0.007760571612256406, 0.0025142707516012663, -0.009256617473813122, -0.021932958639661493, 0.0020881752502415196, -0.00092112422818591, -0.00395705467548968, -0.005421757961439511, -0.01234580985877276, 0.000969674559135214, 0.002620794626955636, 0.00744099998622616, 0.008080143238299087, 0.00823992905131199, 0.004484962445466145, 0.009038858116383608, 0.013646015724984473, 0.011701954999965736, 0.0009164126214429302, 0.008106774207123912, 0.00323330691016821, 0.014657992540744402, 0.0042985456635964425, -0.0033711733610992667, 0.0022745920321014523, 0.0076806787057686066, 0.009571477493103053, -0.01628719324647321, 0.01721456554895262, 0.001235984247496269, 0.004192021788243849, 0.019451566931186548, 0.01316665828593866, 0.010823133028381449, 0.009464953617763783, 0.009811156212618855, 0.012154681470171624, -0.009043569723123035, -0.023504185800960364, 0.0062159754197885775, -0.013171369892669205, -0.002732030109051209, -0.015328478368378029, 0.012953610535241467, 0.00517736763518073, 0.010689978184191595, -0.010428380102580626, -0.002545613327194829, 0.014950933197929395, 0.003978974037581295, 0.004911057946815234, -0.0015602674802792649, 0.004511593414300741, 0.01116933562324185, -0.0019331010439804786, -0.0073125567488094845, 0.009385060711261772, -0.00851095034642757, -0.005341865054957928, 0.005789879918430607, 0.0022745920320828006, -0.0026787681713962286, -0.014023560895413567, 0.00019737646289108568, 0.007494261923909562, 0.014950933197919625, -0.007339187717630757, -0.00012219516311873235, 0.007307845142062064, -0.004063578550844937, -0.003930423706660413, -0.009842498788195542, -0.0018265771685994636, -0.010934368510456594, 0.0048045340714875096, 0.034231754635058564, 0.0015022939358537712, 0.0025941636581228167, 0.000783257777288604, 0.006269237357454216, -0.003078232703903616, 0.002354484938594581, 0.0031800449724883606, 0.01276719375339841, -0.004915769553581306, 0.0016354487800365192, 0.008559500677352005, -0.009869129757030137, 0.008745917459179964, -0.010082177507722001, 0.0126074079403935, 0.002247961063238435, 0.006136082513267915, 0.008958965209894032, 0.01633574357738876, 0.0033398307855323495, 0.0021414371879302507, -0.005261972148424832, 0.0179602326763737, 0.00270068753345587, -0.006087532182350586, -0.00800496193852851, 0.0017153416865465232, 0.021848354126401404, -0.008750629065955806, 0.004618117289637347, 0.006961642547177682, 0.008745917459197727, 0.016389005515057953, 0.017241196517808532, -0.009789236850535232, 0.003286568847850724, -0.008670736159424486, -0.0025988752648604674, 0.0006767339019360108, -0.007712021281316872, -0.004196733394993046, -0.013011584079651861, -0.006273948964194531, 0.005843141856082035, 0.008293190988982957, -0.006700044465586252, 0.0020082823437119757, -0.013304524736842183, 0.0030202591594932215, 0.01574986226302233, 0.010290513651679767, 0.006189344450943324, 0.0018484965307044021, -0.010348487196083056, 0.0014756629670413801, 0.010556823340038157, 0.01777381589452709, 0.0030202591594985506, -0.014156715739609638, 0.001741972655392665, 0.003180044972504348, -0.014662704147482053, 0.0012892461851778947, 0.0050175818221553925, 0.01894557852330525, -0.003637483049452328, -0.00459619792754129, 0.008479607770826902, -0.00997565363238273, 0.01574986226301256, -0.002252672669996514, -0.007259294811117201, -0.002092886856967624, 0.004138759850598639, 0.006215975419785025, 0.008825810365714837, -0.008297902595726825, -0.0014004816672379405, -0.011387094980666923, 0.009864418150294263, 0.006162713482109616, 0.006642070921172305, 0.013672646693829726, -0.004755983740556857, 0.006322499295121631, -0.0107479517286313, -0.0050222934289143595, 0.0022213300944136094, 0.003632771442712013, -0.00811148581387755, -0.006353841870708088, 0.007973619362934947, -0.0037173759559694375, 0.010716609153054613, -0.016846443591996163, -0.006859830278568957, 0.009944311056796273, -0.002492351389522085, -0.003344542392245131, -0.002998339797398053, 0.022061401877113695, 0.009438322648925634, 0.01090302593489767, -0.00845768840872374, 0.0026207946269334315, -0.0029717088285652338, 0.01114270465441436, -0.0013205887607421474, -0.00867073615941738, -0.01820462300264758, 0.003765926286881438, 0.00043705518242909136, 0.002274592032085465, -0.015648049994411828, -0.01628719324645722, -0.01833777784681434, 0.005257260541683628, -0.0017999461997852961, 0.010370406558181777, 0.0026740565646266035, 0.01114270465439482, 0.01423189703936334, -0.023211245143775372, -0.0007879693840404656, 0.004192021788255396, 0.011222597560922587, 0.00989104911911376, 0.01670857714109175, -0.012425702765276547, -0.0068331993097601185, 0.00214143718790627, -0.0004151358203179356, -0.013331155705721187, -0.027472200157510507, 0.01092965690372516, -0.007898438063176805, 0.0003305313070622873, -0.0018798391063103992, 0.0016088178112019236, 0.004112128881753385, -0.006913092216288774, 0.01737435136198684, 0.0028338423776474997, 0.015883017107195307, 0.0027273185023144464, 0.005496939261206535, 0.0020082823437466146, 0.004431700507773861, 0.008745917459184405, 0.005337153448222942, -0.0033179114234238583, 0.006002927669104707, 0.020969532154818893, -0.0017733152309569178, 0.0278403221144643, 0.013725908631490036, 0.0042719146947893805, 0.00448496244545904, 0.003180044972509677, -0.005022293428942781, 0.011888371781827445, 0.002940366252971671, 0.005124105697517756, 0.030716466748720528, 0.007307845142047853, 0.006935011578344863, 0.008612762614998104, 0.002913735284158392, 0.0017952345930432045, 0.007520892892739717, 0.017667292019181602, -0.000787969384037801, -0.004276626301521702, 0.002141437187902717, 0.0007033648707750473, 0.002247961063258863, 0.002221330094432261, -0.02044162438484065, -0.00901693875429288, 0.017214565548998806, 0.00025063840057271136, -0.0037972688624794415, 0.006535547045811718, -0.018923659161193207, 0.009145381991713109, 0.0018218655618778001, -0.004329888239196222, -0.0028385539843815977, 0.006881749640662349, -0.005608174743302108, -0.006460365746061569, -0.012132762108066686, 0.00629586832630924, -0.0029717088285741156, -0.00222604170118057, 0.023126640630522388, 0.0014224010293517608, -0.002439089451844012, -0.014636073178643016, 0.007680678705767718, 0.013113396348253481, -0.007046247060454647, -0.010827844635108441, 0.021954878001763767, 0.0011827223098119788, -0.008910414878958939, -0.0015070055425807638, -0.0005482906645086771, 0.0017686036242094971, -0.015381740306051661, 0.01076987109072558, 0.0021680681567533, -0.005874484431664051, -0.009922391694695776, -0.010561534946766926, -0.0031581256104100675, 0.01489767126026642, 0.010476930433513054, -0.0029983397973802894, 0.0038191882245577347, -0.010428380102558421, 0.02088963924831777, -0.006407103808377279, -0.008457688408737063, 0.0037925572557258036, -0.01567468096322422, 0.008080143238319515, -0.007259294811134076, 0.017001517798287402, -0.005368496023788971, 0.006695332858840608, 0.00914538199171755, 0.01290034859756961, -0.0016934223244362556, 0.0006501029331191788, -0.01985574307045379, 0.004378438570127763, 0.028239786646987675, 0.0063491302639766545, 0.01777381589452265, 0.020916270217163913, 0.01332644409894268, -0.00640710380839149, 0.015350397730455434, 0.0034729856296999984, -0.011333833043015495, -0.011227309167662902, -0.0023591965453473307, 0.004325176632458572, -0.010747951728608207, -0.005927746369351006, -0.013171369892678086, 0.009598108461923438, -0.039775707759652335, 0.0002772693694002015, -0.012931691173151627, 0.007307845142056735, 0.0019283894372019716, -0.01831114687799129, -0.008031592907369323, -0.0015602674802774885, -0.0039836856443304924, -0.008404426471067872, -0.004303257270338534, -0.01375725120706317, 0.0013691390916665824, -0.002811923015536344, -0.005022293428933011, -0.0013205887607572464, -0.000654814539849724, -0.006859830278597379, -0.0035043282053024427, -0.0022526726699885202, -0.007419080624154972, 0.007867095487609, -0.0032380185169209597, -0.009443034255667726, 0.0026740565646381498, -0.006700044465576482, -0.0023591965453366726, -0.012106131139239196, -0.01093436851047791, 0.008053512269463603, -0.013171369892686968, 0.014125373164025845, -0.018018206220797417, -0.015514895150225527, -0.0008146003528715084, 0.010982918841391687, 0.010183989776317404, 0.0032066759413389434, -0.005315234086131326, 0.010397037527017261, -0.00696635415393132, 0.004378438570105558, -0.004835876647058868, -0.006460365746058017, 0.005177367635186059, 0.006109451544445754, 0.008559500677334242, -0.006513627683704115, -0.0018532081374669218, 0.00648228510814608, -0.0010809100412467743, 0.01274056278457536, 0.005230629572870349, 0.006349130263971325, 0.022274449627760262, -0.007179401904625848, -0.012026238232729192, 0.008266560020148361, -0.003344542392254013, -0.002332565576512735, 0.004618117289636459, -0.00685983027860626, -0.0022793036388506493, 0.011329121436264522, 0.0019283894372197352, 0.013912325413328652, -0.005847853462833008, 0.00163544878003119, -0.012638750515948871, -0.022625363829377854, -0.0017733152309746814, -0.005421757961472373, 0.0020349133125678875, -0.006433734777232303, 0.0024876397827702235, 0.003020259159499439, 0.0016354487800374073, 0.02424514132163047, 0.005257260541697839, -0.00369074498712596, -0.008004961938546273, 0.019744507588369764, 0.003899081131055304, 0.009358429742404972, -0.009443034255676608, 0.01396558735101916, -0.0031314946415594846, -0.007046247060445765, -0.005022293428927682, -0.0014803745737461682, -0.006486996714885507, -0.012372440827608244, 0.014764516416062357, 0.015190611917466512, -0.009443034255665061, -0.00012219516314804224, -0.0042233643638454055, 0.002088175250232638, 0.0019283894372321697, 0.006748594796516905, -0.009709343944018123, -0.0025988752648853364, -0.008617474221763288, 0.011568800155777659, -0.0024657204206892658, 0.01268730084688574, -0.0015868984490952087, -0.013064846017345921, -0.010082177507726442, -0.008324533564552539, 0.0008631506837799563, 0.0008897816526358682, 0.0020082823437315156, -0.014369763490281073, 0.0014490319981783628, -0.003131494641581689, -0.00616742508885082, 0.007574154830392921, -0.0013738506984219967, -0.01833777784682411, 0.01194163371948509, 0.006082820575587178, 0.00033053130708449174, 0.013219920223630055, -0.010241963320744674, -0.010241963320749115, 0.01029051365167355, 0.0090388581164067, 0.013006872472902664, 0.00557683216772098, -0.016393717121795603, 0.0035528785362100024, -0.0035575901429583112, -0.003371173361101043, -0.006486996714901494, 0.0004903171201009471, 0.0036061404738889635, 0.00235448493858037, -0.009629451037524106, -0.01056153494676515, -0.004969031491238951, 0.0011560913409933704, 0.0006501029331165142, -0.008777260034777079, 0.0002240074317327867, -0.015088799648859563, 0.016468898421567957, 0.012607407940378401, -0.009975653632385395, -0.011680035637862574, 0.006029558637943744, -0.004223364363842741, -0.013011584079671401, 0.010077465900972804, 0.008293190988977628, 0.004831165040326546, -0.005075555366586215, 0.000756626808462002, -0.004596197927539514, 0.0016620797488702266, 0.009038858116373838, -0.002705399140205955, 0.010903025934876354, 0.006029558637964172, -0.01301158407967673, -0.00757886643714567, 0.003765926286891208, 0.01061008527770202, -0.01112078529232896, -0.0040103166131677526, -0.013837144113556299, 0.012580776971554464, 0.009491584586594826, 0.002487639782772, 0.013592753787313505, -0.006353841870718746, -0.006646782527889528, -0.002066255888141022, -0.0024390894518511175, -0.007339187717628981, 0.007174690297863329, -0.005182079241936144, 0.010530192371177804, -0.006859830278598267, -0.002785292046709742, 0.0030468901283295935, -0.011067523354648223, 0.010743240121874997, 0.029171870556265134, 0.01391232541333487, 0.017827077832178517, -0.01146698788718048, 0.001635448780025861, 3.7590649879959415e-05, 0.018652637866106936, 0.007387738048543646, -0.00677993737208471, -0.0011075410100316319, -0.0024124584830094165, -0.002732030109046768, -0.006992985122775686, 0.004591486320800087, -0.001373850698428214, 0.0029137352841575037, -0.011040892385825174, -0.01106752335465977, -0.00720603287346222, -0.018311146877993956, 0.00014411452521567725, -0.011147416261152898, 0.004484962445475915, -0.0011341719788822147, 0.01186174081297775, 0.014897671260248657, 0.00512410569751065, -0.0026787681713695832, 0.03694811345629745, -0.006327210901877933, -0.001986362981646117, 0.015350397730461651, -0.013171369892682527, 0.005097474728682272, -0.0008678622905495814, 0.0037126643492308986, -0.004942400522415902, -0.005475019899124689, 0.002194699125570132, 0.003686033380406073, -0.0028385539843771568, 0.01572323129414155, 0.01167532403110716, 0.010903025934890564, 0.0035262475673594196, -0.002492351389522973, 0.007121428360216342, -0.015195323524197057, -0.0029983397973767367, -0.0012140648853860014, -0.008404426471072313, -0.00257224429605607, -0.0002287190384704374, -0.0064869967148695196, 0.008612762615015868, 0.013166658285936883, 0.0015555558735274033, 0.008958965209877157, 0.03966447227756653, -0.0059277463693439, 0.0005169480889293254, 0.01636237454624645, 0.0012626152163282, -0.0044364121145434865, 0.01974450758836177, -0.003397804329916987, -0.002279303638828445, 0.0062692373574622096, -0.012478964702942186, -0.018790504317030887, 0.009172012960571685, 0.012021526625997758, -0.013650727331722123, -0.012665381484810112, -0.008164747751568946, -0.002492351389532743, 0.002434377845105473, 0.0043784385701162165, -0.009549558131006108, 0.0205434366534476, 0.005523570230053565, -0.004196733395025909, -0.005368496023772984, -0.023344399987975883, 0.006988273516044252, -0.0031314946415834655, 0.014791147384920045, -0.018870397223534674, -0.007898438063187463, -0.0024657204206866012, -0.0033711733611072603, 0.015590076449989887, 0.008559500677338683, -0.014050191864251715, -0.0020129939504638372, -0.015248585461859143, 0.006375761232802368, -0.02257210189170511, 0.001795234593044981, 0.006508916076979787, 0.013033503441757688, 0.01319328925478036, 0.004857796009169135, 0.00842634583317281, 0.0008631506837906144, -0.00419673339502058, 0.011488907249278313, -0.005022293428925018, 0.014657992540727527, 0.004964319884507518, 0.00829319098898118, -0.004436412114534605, -0.006992985122766804, -0.0013738506984113386, -0.0010010171347216712, 0.00626923735745244, 0.0046447482585021405, -0.0004683977579906795, -0.002359196545324238, 0.005656725074241642, 0.0027006875334771863, -0.004223364363854287, -0.0030516017350636915, 0.01188837178182034, 0.0015289249047034659, 0.004351807601275404, 0.007467630955058091, -0.0007347074463437409, -0.0016667913555998837, -0.0021727797634891743, 0.002647425595778685, 0.009118751022882954, -0.0026255062337225965, -0.0017200532932832857, 0.003659402411570589, -0.017405693937568856, -0.0008944932593726307, -0.0035309591741379265, -0.021560125075962944, -0.009283248442648606, 0.0012093532786527916, 0.00946495361776023, 0.018972209492146064, 0.0010495674656230136, -0.0157812048385928, 0.0011560913409871532, -0.006167425088864142, 0.002807211408818233, -0.003424435298774675, 0.0018751274995327805, -0.0024657204207025885, 0.020836377310645915, -0.0014537436049151253, 0.016255850670885863, 0.0047246411649677356, -0.006593520590223889, -0.018391039784510177, -0.010455011071423215, -0.005821222493989531, -0.013198000861510906, 0.030583311904559096, -0.004516305021017963, -0.006034270244679618, -0.014502918334477144, -0.003238018516917407, 0.015563445481147298, 0.005603463136574227, 0.004351807601273627, 0.0008365197149533543, -0.0003618738826496326, -0.016074145495787562, 0.015643338387670624, 0.00605618960676324, -0.0020129939504860417, -0.0031581256104296074, 0.003419723692040577, -0.01029522525842097, -0.0060875321823496975, 0.002807211408802246, -0.0016135294179475679, 0.0030202591595136496, -0.014476287365635443, 0.014657992540752396, 0.0048844269780019545, -0.010987630448139996, -0.002998339797397165, 0.0031267830348387093, 0.006881749640688994, 0.0029403662529823293, -0.0002819809761511749, 0.004751272133812989, -0.00627394896419986, -0.0007347074463508463, -0.005554912805628476, 0.016628684234583524, 0.006881749640677448, -0.01450291833445494, 0.004990950853340337, -0.005128817304267841, 0.0034197236920272545, -0.008537581315247067, 0.0145248376965732, -0.008191378720393772, -0.014156715739606085, 0.009544846524260464, -0.00640710380836218, 0.013938956382159695, -0.015035537711169056, -0.017299170062233138, -0.008244640658055857, 0.016841731985276276, -0.01218602404577851, 0.014365051883540758, 0.011302490467422821, 0.007840464518758417, -0.008697367128280398, 0.00656217801464809, 0.003899081131069515, 0.0010495674656558762, 0.00365940241154572, 0.00589640379377343, 0.016042802920197552, 0.008799179396859813, -6.893322546108749e-05, -0.006060901213500891, -0.015674680963254417, 0.006455654139340794, -0.002412458483012969, -0.002252672670021383, -0.011786559513204509, -0.0017466842621107759, 0.010903025934910104, -0.016606764872501678, -0.0008944932593726307, 0.012420991158511363, 0.01436505188353987, 0.018732530772610723, -0.0055549128056222585, 0.005576832167721868, 0.03449806432342495, 0.006082820575614711, -0.00912346262964725, -0.004835876647077519, 0.01969124565071656, -0.013570834425205014, 0.003872450162227814, 0.005603463136559128, 0.011622062093459284, -0.017991575251951275, -0.010934368510460146, 0.008133405175956732, -0.0057945915251469415, -0.007472342561820611, 0.012900348597567834, 0.0026207946269636295, 0.013938956382161471, 0.0038990811310526396, 0.0035262475673532023, 0.005869772824929065, 0.0068551186718526225, 0.006828487702994934, -0.012052869201577998, 0.0016354487800249728, 0.02302011675518667, 0.001528924904699025, 0.013406337005449132, -0.0013205887607394828, -0.009629451037509895, -0.011120785292323632, 0.008852441334542327, -0.005501650867970831, -0.018763873348198068, 0.002700687533450541, 0.012580776971531371, -0.01506216868001875, 0.0032066759413407198, -0.017618741688262496, 0.0057898799184128436, 0.022434235440807804, -0.010108808476571696, -0.011280571105312553, -0.0034244352987862214, -0.0031314946415692546, 0.021235841843167513, -0.0028385539843851504, -0.004755983740559522, -0.0015602674802659422, 0.025283749106216113, 0.012181312439017766, 0.017560768143837002, 0.014258528008221028, 0.0002772693694144124, -0.0004950287268323805, -0.00835116453338447, 0.011568800155789205, 0.008559500677331577, 0.014072111226340667, -0.008431057439888257, -0.004782614709406552, -0.0100821775077371, 0.01636237454621181, -0.005315234086110898, -0.007685390312513363, -0.003024970766244195, -0.006327210901881486, -0.0031048636727319945, -0.005767960556321228, -0.01554152611904236, -0.012612119547111611, 0.0066953328588432726, 0.0013957700605171652, -0.004303257270371397, -0.0016667913556078773, 0.005976296700285211, -0.022039482514993658, 0.006375761232812138, -0.007738652250178113, 0.001182722309822637, -0.004915769553565319, -0.015568157087909817, -0.010401749133744254, -0.003131494641571919, -0.014423025427948488, 0.018066756551714747, -0.005128817304242972, -0.004463043083376306, -0.008830521972431171, 0.0007299958396176365, -0.0072592948111411815, 0.0036594024115466084, 0.009704632337279584, -0.007845176125503173, -0.009336510380330232, -0.002039624919309091, 0.008532869708508528, -0.01162677370019427, 0.002168068156754188, -0.008084854845042067, 0.006215975419765485, 0.01790697073868408, -0.012798536328978649, -0.012825167297816797, 0.0025941636581157113, -0.0021727797634891743, 0.0018218655618733592, -0.00470272180287612, 3.759064987818306e-05, -0.0167132887478445, 0.018466221084262102, -0.0025722442960196545, -0.004569566958724458, -0.011573511762530408, 0.002620794626951195, -0.004569566958718241, -0.01618066937111795, 0.0046447482584675015, -0.009363141349172821, 0.006349130263956226, -0.015381740306059655, -0.009842498788208864, -0.009922391694699328, 0.0030468901283491334, -0.011626773700203152, 0.0007566268084611139, 0.0020615442814087004, 0.00858613164616262, -0.004782614709402999, 0.005630094105394612, -0.004596197927549284, -0.003424435298768458, -0.009469665224501433, -0.016660026810159323, 0.010556823340031052, 0.00784046451875664, -0.01961606435095309, 0.009598108461957189, 0.013592753787311729, 0.0058697728249326175, 0.009331798773571265, -0.0019331010439591623, -0.01444965639679463, -0.00291844689088272, 0.004138759850588869, -0.01090773754165486, 0.012367729220856383, -0.004036947581993466, -0.014742597053993833, 0.0018484965307310475, 0.00927853683591362, 0.029225132493920114, -0.019802481132802363, 0.002674056564624827, -0.0073658186864680175, 0.007973619362955375, 0.014125373164006305, 0.003765926286896537, -0.013810513144729697, -0.00459619792756083, -0.007605497405990924, -0.0193763856314062, -0.006620151559069143, 0.002381115907421183, 0.004085497912925007, 0.007121428360206572, -0.0070995089981016335, 0.0061893444509522055, 0.003606140473875641, -0.002652137202535876, 0.01569660032533271, 0.010743240121890096, 0.005150736666339917, -0.0005216596956589825, 0.013912325413328652, -0.010694689790921252, -0.0068065683409237465, -0.00014882613194799887, -0.0023858275141881435, 0.01947819790000782, 0.01859937592843508, -0.012984953110833253, -0.014423025427952041, -0.00393042370664709, 0.010183989776336055, -0.010082177507733547, -0.014609442209791546, 0.015004195135608356, -0.008910414878949169, -0.0035575901429591994, -0.00036187388266029075, -0.0006015526021636575, -0.0076853903124876055, 0.0064822851081496324, -0.007046247060432442, 0.011941633719491307, -0.0021727797634794044, -0.0020662558881525683, 9.085258755092696e-05, 0.008373083895490296, 0.010237251713999918, -0.0032380185169289533, -0.013251262799194308, 0.011781847906461529, 0.011568800155798087, 0.00041042421357850856, -0.00217277976348651, -0.010401749133727378, -0.01796494428311668, 0.00778720258109189, -0.00028198097616094486, 0.007627416768096751, 0.0010761984344798137, 0.0028338423776377297, -0.0021195178258128777, 0.021022794092491637, -0.0071527709357877, 0.003100152066000561, -0.000974386165879082, -0.0008678622905362587, 0.0014224010293411027, -0.009549558131022984, -0.01431650155263231, 0.003579509505030387, -0.005475019899132683, -0.005688067649809447, -0.021719910888980287, 0.001955020406060548, 0.00648228510812654, 0.011755216937637591, 0.009172012960570797, -0.015701311932068585, -0.0076321283748290725, 0.006189344450963752, 0.009358429742444052, 0.004538224383167311, 0.01721456554897305, 0.009970942025637974, -0.005075555366571116, 0.0029137352841477338, 0.0016887107177057104, 0.01282045569105783, -0.006753306403256332, -0.0024390894518457884, 0.014365051883548752, -0.011999607263903478, 0.026135940108964917, 0.002194699125589672, -0.008857152941262214, 0.0009430435902926249, 0.014258528008191718, -0.005315234086116227, 0.008266560020141256, 0.004138759850590645, -0.010055546538882965, -0.0019863629816345707, 0.013992218319843097, -0.0026521372025438694, -0.0042233643638383, 0.009065489085217315, 0.003819188224559511, -0.02092098182389357, -0.011600142731351681, -0.01990900500814785, 0.029890906714815202, -0.0007879693840235902, 0.01132912143626097, 0.0033664617543402997, 0.005417046354717847, 0.005656725074246083, -0.00867073615942271, 0.004751272133824536, -0.022465578016373833, -0.002359196545354436, -0.00638047283953469, -0.0006548145398541649, 0.02363262903841079, -0.003717375955952562, -0.015488264181380273, -0.01522195449303343, -0.006779937372066058, 0.0027006875334647518, 0.020676591497645447, 0.0028338423776315125, -0.01378388217591997, -0.0070728780292652615, -0.01809809912727811, -0.0027586610778636, -0.013890406051245918, -0.0061141631511913985, 0.013512860880791955, -0.008937045847792646, 0.01143564531159047, -0.0031048636727168955, -0.0023325655764958597, 0.008799179396874024, -0.007472342561831269, 0.02083637731064414, -0.0017466842621098877, -0.0033978043299391913, 0.0008098887461205351, -0.006646782527895745, 0.001449031998169481, 0.008186667113633028, -0.004010316613163312, 0.003899081131073956, -0.0028385539843762686, -0.012931691173152515, 0.006801856734167444, 0.00634913026395445, 0.0008365197149533543, -0.01229254792108403, 0.00533715344820429, -0.00480924567823493, 0.011382383373926608, 0.01878579271028613, 0.00030390033822857987, 0.009331798773589028, 0.006508916076970017, -0.00036187388265584985, -0.00206625588815168, -0.007046247060450206, 0.0022479610632517577, 0.011515538218108468, -0.007365818686503545, 0.004431700507792513, 0.0084263458331586, 0.007414369017401334, 0.0010761984344886955, 0.0021148062190716743, 0.00019737646288930932, -0.006779937372098921, 0.003153414003677746, 0.0073877380485551924, 0.009305167804739334, -0.0010276481035349505, -0.0021994107323264345, 0.010024203963296507, -0.01458281124096672, -0.004170102426181543, -0.008218009689204386, -0.0020129939504753835, -0.006513627683721879, 0.010050834932154196, -0.0037972688624794415, 0.00035716227593063365, -0.01631382421532379, -0.015994252589270452, -0.002518982358363786, -0.00981586781935917, -0.009389772317978107, 0.001901758468402015, 0.00544367732355866, -0.0049956624600877575, 0.009092120054059016, -0.004969031491215858, 0.00954484652428178, -0.0018532081374571518, -0.02140033926293139, 0.006695332858838832, 0.002008282343718193, -0.003930423706661301, -0.010508273009083524, -0.01175992854437613, -0.008937045847789094, 0.0024610088139445097, 0.0217950921887331, -0.008191378720398212, -0.007978330969682368, 0.010237251713996365, -0.004409781145676028, 0.0036860333803794276, 0.015909648076022798, 0.008532869708499646, -0.015488264181405142, 0.01066334721534723, -0.02113402957458277, -0.009789236850538785, 0.0023278539697564327, 0.0018218655618751356, -0.002146148794660796, -0.007392449655324818, -0.015248585461874242, -0.013890406051229043, -0.0017999461997737498, -0.009469665224488999, 0.004058866944094852, 0.0047246411649721765, -0.010135439445395633, 0.0005435790577710264, 0.02693486917406407, -0.005741329587479527, -0.011174047229991935, -0.005554912805644463, -0.010721320759794928, 0.011249228529733202, -0.010002284601216438, 0.0031800449725229996, -0.00880389100359924, -0.004036947581965933, -0.004170102426174438, -0.0017466842621374212, -0.00030861194497155964, -0.0012140648853975478, -0.022625363829383183, -0.0016135294179422388, -0.003983685644332269, -0.003797268862461678, -0.0019064700751272312, -0.005634805712140256, -0.017059491342697797, 0.014977564166756885, 0.0007033648707661655, -0.02608738977805647, 0.010024203963297396, -0.002705399140199738, -0.005182079241953019, 0.010370406558171119, 0.015084088042114807, -0.0020396249193117555, -0.02134707732525687, 0.010050834932146202, 0.002700687533470081, 0.010104096869818058, -0.006007639275861898, -0.007765283219016261, 0.016282481639728452, -9.556419428413676e-05, 0.008133405175960284, -0.008004961938529398, 0.006881749640703205, -0.01154688079369759, 0.00416539081944034, 0.005789879918419061, -0.0020396249193224136, 0.014444944790069414, -0.004143471457353165, 0.013912325413332205, 0.0036594024115528256, 0.014871040291426496, -0.006700044465564048, -0.00917672456732177, 0.004165390819424353, -0.006486996714887283, -0.007765283218998498, -0.020068790821154536, 0.004032235975259368, -0.0034510662675772963, -0.018444301722158052, 0.002594163658129922, -0.003397804329927645, -0.0017999461997826316, 0.005283891510567074, -0.003930423706643538, -0.004622828896392761, -0.002119517825824424, -0.0023591965453269026, 0.01670857714111751, 0.0038191882245666164, 0.0053105224793581485, -0.0029717088285634574, 0.0073877380485702915, 0.014737885447248189, 0.0184395901154204, -0.02052151729134888, -0.015301847399528334, 0.010050834932155972, -0.012265916952255651, 0.00451159341430607, 0.0015289249046821496, -0.00017545710082167432, -0.0029717088285643456, -0.006886461247444409, 0.004458331476632438, -0.006380472839548013, -0.0008146003528501922, -0.006806568340927299, 0.0011827223098350714, -0.015461633212560777, -0.0008678622905371469, 0.0028871043153149145, -0.005741329587486632, 0.0013158771540231484, 0.0008365197149435843, -0.00917672456730756, 0.003180044972496354, 0.0011294603721472285, 0.01724119651778988, 0.009145381991745083, 0.0008897816526367563, -0.007072878029292795, 0.011781847906467746, 0.01641563648388722, -0.0007080764775313497, -0.01242570276527033, -0.008218009689194616, 0.0040056050064283255, 0.015643338387675065, 0.02911860861858262, -0.000628183571027563, 0.007201321266713023, 0.00025063840056915865, -0.010801213666288945, 0.006455654139296385, 0.002833842377667928, -0.01205286920156734, -0.0011341719788910964, 0.005789879918411067, -0.0033978043299391913, 0.00730784514205407, -0.00635384187071697, -0.004143471457334513, -0.009043569723128364, -0.008431057439898026, 0.015856386138362488, -0.007818545156692558, -0.005022293428913471, 0.010769871090722916, 0.01849285205309048, 0.011435645311578035, -0.011759928544387677, 0.01529713579280223, 0.006615439952316393, -0.002865184953204647, -0.009549558131023872, -0.0009743861658728648, 0.004591486320822291, -0.0081381167827006, -1.5671287792784483e-05, 0.00927853683590385, -0.02496888908692263, 0.0036594024115617074, -0.0037173759559685493, -0.028883641505792923, -0.013490941518712773, 0.012367729220849277, -0.006087532182341704, -0.010428380102596613, -0.005261972148434602, 0.0007033648707794882, -0.01397029895774704, 0.008293190988995391, -0.018657349472850804, 0.008666024552658413, -0.012798536328959997, -0.004649459865213146, 0.003446354660872508, -0.01689970552970177, 0.0026740565646425907, 0.01007746590097458, 0.0015022939358502185, 0.006615439952330604, 0.009944311056783839, -0.006833199309761007, -0.01689970552969111, -0.009682712975218166, 0.0007299958396096429, -0.007845176125512054, -0.016287193246470544, 0.0030735210971659654, -0.0004950287268368214, -0.005981008307024638, -0.007046247060425337, -0.008404426471063431, -0.026912949811971565, -0.008990307785478713, 0.005683356043071797, -0.01362409636288664, 0.0029137352841521746, 0.003419723692055676, -0.007738652250183442, 0.0003039003382268035, -0.0007613384151978764, 0.015643338387671513, 0.004298545663610653, -0.0019331010439591623, -0.014902382867004071, 0.0015022939358599885, -0.011759928544374354, 0.0025142707516261353, -0.015701311932089013, -0.0065668896214141625, -0.00036187388265673803, -0.0006548145398648231, 0.02195487800175666, -0.0036374830494390054, -0.004116840488509688, -0.016526871965996115, -0.0006281835710062467, 0.018679268834938867, 0.010796502059534419, -0.0012140648853851133, -0.002598875264869349, 0.006881749640687218, -0.002785292046729282, 0.003153414003683075, -0.012958322141989775, -0.008697367128275069, -0.008138116782698823, -0.008058223876208359, -0.006433734777197664, -0.007818545156681012, 0.0013158771540000558, -0.010108808476563702, -0.002305934607675475, 0.0024077468762753185, 0.016016171951370062, -0.0012406958542392488, -0.005341865054935724, -0.006859830278602708, 0.003659402411543944, 0.003686033380400744, 0.017960232676376364, 0.007068166422540045, 0.013619384756147213, 0.012926979566406871, -0.0029450778597226446, 0.01662868423459507, -0.005634805712145585, 0.006908380609516485, -0.010774582697447244, -0.0032113875480774823, -0.0008146003528306522, -0.01538174030602768, 0.013832432506818648, -0.0044364121145124, -0.015355109337217066, -0.002678768171373136, -0.003957054675485239, 0.009757894274946999, 0.0016620797488799965, -0.01658013390365287, -0.001080910041235228, -0.001027648103562484, -0.005182079241936144, 0.013113396348250816, -0.0033445423922779938, 0.019265150149347043, -0.0046228288963900965, -0.0015336365114002604, 0.0035795095050277226, -0.009895760725863845, 0.0077339406434164815, 0.001422401029342879, 0.012154681470185835, 0.00046368615125214063, -0.004116840488492812, -0.015541526119069893, 0.006508916076984228, -0.00547501989912913, -0.013064846017345033, -0.0034244352987773397, 0.0010495674656612053, -0.004063578550835167, 0.012953610535256566, 0.01279382472224544, 0.0022213300944233794, 0.00741436901739867, 0.020010817276751247, 0.005816510887248327, -0.009815867819370716, 0.013752539600319302, -0.012159393076924374, -0.00017545710079502896, 0.015883017107195307, -0.01801820622079031, 0.0034729856296999984, -0.0008146003528635148, 0.006375761232797039, 0.0027006875334638636, -0.0008412313216981104, -0.0026255062336986157, -0.009016938754284887, -0.016154038402283355, -0.013251262799171215, 0.006482285108153185, -0.005475019899135347, 0.007201321266721017, -0.017858420407788955, 0.0030202591594816752, 0.010343775589332083, -0.025767818152019117, -0.002332565576518064, -0.015088799648874662, 0.0023811159074238475, -0.004782614709409216, -0.0053152340861126746, -0.008324533564564085, -0.00057492163333972, -0.0028651849532224105, 0.013113396348257922, 0.0012626152163202065, 0.0025409017204491846, 0.010317144620502816, 0.006482285108169172, -0.003744006924798704, 0.007014904484852202, -0.0031048636727382117, -0.012771905360152935, -0.008111485813883768, -0.008750629065935378, -0.004329888239195334, 0.0038724501622393603, 0.002807211408821786, -0.001986362981645229, -0.0012406958542481306, 0.004857796009169135, 0.004112128881766708, 0.011994895657141846, -0.004622828896381215, -0.008111485813874886, 0.011009549810228947, -0.009203355536147484, 0.009305167804749992, -0.0017999461997968424, 0.012287836314358813, 0.014125373164032062, -0.008377795502235053, 0.007494261923904233, -0.014742597054017814, 0.002780580439976532, 0.009411691680094592, 0.0006767339019315699, 0.0017686036242023917, -0.0027053991402086197, 0.01076987109070604, -0.00584785346284189, 0.02909197764974536, -0.006140794120017112, -0.008990307785459173, -0.004569566958729787, 0.00845297680198609, 0.0038191882245612874, 0.007840464518779733, -0.0026521372025394285, -0.009096831660807325, 0.015856386138338507, 0.014072111226346884, -0.023477554832150638, 0.010849763997207162, 0.0012626152163273119, -0.008111485813884656, 0.004511593414305182, -0.006620151559068255, 0.010130727838667752, 0.010769871090712257, -0.005741329587483079, -0.015435002243737728, -0.00994902266354547, -0.009043569723131917, 0.004751272133810325, -0.0013205887607430356, -0.007152770935781483, 0.0132731821612726, -0.01128057110534364, -0.007791914187836646, 0.01335307506777017, -0.008803891003605457, 0.002354484938593693, -0.006913092216271899, -0.0012406958542277025, -0.003930423706636432, -0.016926336498523042, -0.009629451037521441, -0.0031581256104091793, -0.013277893768031568, -0.00811148581387755, 0.016069433889034812, 0.0012626152163246473, -0.002332565576496748, 0.018759161741457753, -0.008750629065913174, 0.006721963827660105, -0.01538174030604722, -0.019909005008124758, 0.0032333069101824208, -0.007126139966952216, 0.003739295318074376, 0.00808014323828754, 0.009411691680102585, -0.00930987941149386, -0.00044176678915430756, -0.0060875321823496975, -0.013091476986173411, -0.014156715739612302, 0.007787202581098107, 0.0033930927231846653, 0.0031534140036812985, 0.00017074549404050288, 0.013512860880805277, -0.0063538418707072, -0.017272539093369232, 0.0012093532786527916, -0.01082784463513864, -0.0034510662675986126, 0.015137349979771564, -0.023797126458166673, 0.016096064857876513, 0.0026207946269583005, -0.008670736159409387, -0.0069929851227703566, -0.0011874339165496295, 0.03092951449941861, 0.00792035742527819, -0.02427648389720627, 0.0009696745591130096, 0.0012626152163202065, 0.004777903102646697, -0.008963676816610366, 0.006082820575621817, -0.0012140648854019886, -0.012798536328962662, 0.002194699125585231, -0.004436412114526611, 0.003100152066000561, 0.0057366179807489814, 0.0005169480889382072, -0.007738652250170119, 0.00816003614480465, -0.010588165915589975, -0.007365818686466241, -0.00369074498712596, 0.009305167804729564, 0.008053512269452945, 0.006429023170476, -0.0040369475820192235, 0.009811156212622407, -0.0028918159220587825, -0.03293154876885129, -0.0184709326909962, -0.012905060204321472, -0.007259294811118089, -0.00017545710081634525, -0.00132058876075547, -0.002465720420690154, -0.008750629065942483, 0.0147378854472624, -0.010907737541618445, 0.0097845252437736, 0.010317144620503704, -0.012345809858770096, 0.006189344450953982, 0.0027273185022806956, -0.0011874339165380832, -0.01263875051596397, 0.006535547045815271, 0.008000250331797076, 0.009864418150292487, -0.002838553984378933, -0.003238018516923624, -0.0190301830365609, -0.006700044465571153, -0.006273948964195419, 0.023339688381204482, 0.004085497912930336, -0.014316501552620764, 0.006295868326282594, 0.010476930433536147, 0.0009164126214589174, -0.007419080624129215, 0.008399714864314234, 0.00762741676808254, -0.00755223546831818, -0.006353841870698318, 0.0056567250742496356, 0.005070843759851229, 0.006828487703019803, -0.002758661077878699, 0.009411691680089262, -0.0014004816672565923, -0.0018798391062908593, 0.0010229364968123988, -0.003051601735066356, -0.013144738923841714, -0.010375118164921204, 0.0012359842474953808, 0.023100009661677134, -0.014875751898180134, -0.0036374830494594335, 0.0025142707516110363, -0.008191378720366238, -0.02249220898519333, 0.01785370880102466, 0.008239929051300443, 0.0006767339019404517, -0.003264649485759996, 0.008958965209878045, -0.01250559567178744, 0.0035795095050312753, -1.5671287791896304e-05, -0.010774582697464119, 0.004378438570126875, -0.007898438063185687, -0.014156715739592762, -0.002119517825819095, -0.007871807094341321, 0.015989540982515038, 0.003339830785519915, 0.008133405175970942, 0.0041653908194083655, 0.001049567465630119, -0.014742597053992057, 0.0030202591594932215, 0.004831165040330099, 0.00959810846194209, 0.01750750620615804, -0.000521659695661647, 0.016522160359248694, 0.013779170569156562, -0.01705949134270579, -0.008297902595715279, -0.011759928544378795, -0.009336510380318686, -0.001773315230953365, 0.00911875102290427, 0.011382383373938154, 0.006562178014652531, 0.02557668976341798, 0.0038458191934145347, 0.02376578388261308, 0.010263882682842507, 0.030396895122697387, -0.003451066267625258, -0.0032380185169245124, 0.0025675326892757866, -0.0009211242282169962, 0.024458189072317893, -0.000228719038478431, -0.002625506233705721, -0.003957054675487015, 0.019371674024686314, -0.0014537436049222308, -0.018177992033817425, 0.0029403662529636776, 0.014285158977028978, 0.00568335604308956, -0.020015528883464917, -0.0077120212813390765, 0.0077339406434076, 0.008026881300621902, -0.007738652250167455, -0.0020928868570049275, 0.002247961063268633, -0.0022260417011619182, 0.012021526626000423, -0.007365818686449366, 0.01143564531160024, -0.0006281835710169048, 0.0011560913409871532, 0.002993628190649744, 0.0054436773235364555, -0.01152024982485056, -0.001267326823081838, -0.01745895587523716, 0.00198165137488715, 0.009438322648911424, -0.007738652250176337, 0.004618117289648893, -0.0048625076159147795, 0.014444944790038328, -0.011759928544380571, 0.005816510887240334, -0.0006814455086789906, 0.002274592032089906, -0.0007347074463490699, 0.007414369017414657, 0.004271914694776946, -0.00672667543440042, 0.015643338387659966, -0.009016938754300874, -0.0023591965453215735, 0.002514270751613701, -0.002811923015550555, -0.003424435298789774, 0.0248310226360271, -0.010135439445389416, -0.012638750515967523, -0.0009211242282027854, -0.004569566958715576, -0.00038850485148600455, -0.022811780611235122, 0.005310522479381241, 0.014844409322585683, -0.004622828896367004, 0.0037925572557400145, 0.001981651374892479, 0.0044317005077791904, 0.0027006875334691927, -0.00504892439776139, 0.024245141321617147, -0.010082177507726442, -0.004755983740549752, -0.015488264181394484, 0.006056189606800544, 0.002008282343723522, -0.012825167297815021, 0.001955020406071206, -0.0030516017350645797, -0.019376385631423965, 0.009864418150295151, 0.010610085277698467, -0.004649459865227357, 0.004271914694791157, 0.008479607770825126, -0.015435002243710194, -0.010881106572789179, 0.017853708801025547, -0.003930423706658637, 0.003579509505054368, -0.0023591965453269026, 0.001422401029342879, 0.0003837932447510184, 0.013353075067767506, -0.011147416261149345, -0.009336510380296481, 0.013086765379423326, 0.0028871043153086973, 0.00363277144269869, -0.006966354153939314, -0.02265199479820712, -0.006300579933038897, 0.012128050501333476, -0.009363141349162163, 0.001901758468382475, -0.01117404722998927, 0.011382383373933713, 0.003233306910193079, -0.008111485813873998, -0.0009211242282072263, -0.00592774636932436, 0.009704632337284913, 0.00440506953896147, 0.004192021788262501, 0.00475127213381743, 0.0019283894372170707, -0.001373850698437984, -0.01578120483858303, 0.003073521097164189, -0.009629451037519665, 0.0035528785362197723, -0.0072859257799677835, 0.0016887107176870586, 0.0035795095050525916, 0.007920357425279967, -0.005501650867958396, 0.005709987011892181, 0.004431700507791625, -0.002119517825813766, 0.0008897816526243219, 0.0032865688478498356, -0.0067799373721069145, 0.00046368615125480517, -0.00837779550221196, 0.013219920223598969, -0.013277893768026239, -0.010401749133754024, 0.015190611917470065, 0.007334476110905541, 0.0024610088139445097, -0.009762605881702413, 0.018785792710280802, 0.0002240074317407803, 0.0009696745591316613, 0.010317144620500152, 0.0015821868423664398, -0.01359746539403961, 0.008639393583849575, 0.007121428360205684, -0.014689335116326419, 0.004112128881752497, 0.011755216937619828, -0.02350418580094704, 0.023579367100722948, 0.01878579271028169, -0.0009477551970560327, 0.014365051883527435, 0.012207943407850586, 0.0005968409954411058, 0.0012626152163397464, -0.0032380185169360587, -0.008723998097099006, 0.0009164126214633583, 0.0032599378790232336, 0.00778720258111143, 0.0022745920320872415, 0.005283891510540428, -0.004303257270347416, -0.01434313252145536, 0.013113396348252593, 0.003899081131080173, 0.0183064352712492, -0.007658759343690313, -0.01301158407966252, 0.007467630955071414, 0.005017581822185591, -0.009176724567285355, -0.004755983740561298, 0.012234574376675411, -0.011040892385824286, -0.004729352771735584, 0.005816510887231452, -0.0035575901429485413, -0.02054814826017992, -0.014529549303301081, -0.00872399809708746, 0.021368996687361808, -0.020628041166705913, -0.0029717088285678983, -0.015594788056743525, 0.013938956382157919, 0.0048844269779921845, -0.007898438063190127, 0.0077605716122581825, 0.002887104315327349, 0.005949665731432852, 0.0024876397827906516, 0.014498206727728835, 0.01055682334002217, 0.0006234719642730369, -0.013517572487519836, 0.013779170569155674, 0.0009963055279644806, -0.0013738506984104504, 0.0029137352841477338, 0.005683356043074461, -0.003424435298769346, -0.013544203456381076, -0.019616064350940654, 0.004245283725937021, -0.0023858275141837026, 0.005044212791024627, 0.012713931815711454, -0.005954377338169614, 0.009251905867073695, -0.02054814826018969, -0.012878429235483324, 0.004351807601276292, 0.008399714864315122, 0.005869772824941499, -0.0044630430833700885, -0.0055282818368151965, -0.0019331010439698204, -0.0012673268230649626, -0.00329128045459548, 0.003872450162238472, 0.011195966592087103, -0.008138116782727245, -0.009842498788193765, -0.0076587593436610035, 0.007813833549918492, -0.008830521972419625, 0.013592753787314393, 0.013246551192424683, -0.01434313252145536, 0.005683356043078902, -0.00025535000731569113, -0.005927746369347453, -0.008058223876217241, 0.003606140473877417, 0.0019283894372374988, -0.004383150176870743, -0.0026521372025252177, 0.002620794626946754, 0.00858613164616795, 0.016735208109928124, 0.0004903171200787426, -0.005874484431662275, -0.016207300339951658, 0.008559500677326248, 0.003393092723192659, 0.009997572994469017, 0.0008631506837950553, -0.00036187388266384346, -0.008058223876201254, 0.00467137922731542, 0.014524837696558102, -0.010455011071441866, -0.006273948964193643, -0.00315812561041362, -0.009043569723114153, -0.008777260034764645, -0.0198291121016263, 0.00802688130062812, -0.001613529417962667, 0.008373083895490296, -0.006513627683735201, -0.0016135294179298043, 0.0026474255958053305, -0.0030782327038814117, -0.01580783580742473, 0.006349130263985536, 0.010183989776336944, -0.006114163151177188, -0.011227309167671784, 0.008346452926649484, 0.0022213300944100567, -0.00797833096969125, -0.013171369892674534, -0.0022526726699840793, -0.011600142731364116, -0.0003086119449697833, 0.0014490319981934618, -0.004489674052224224, -0.017245908124573717, 0.007707309674591656, 0.018466221084270096, 0.012074788563649186, -0.007845176125520048, -0.01996226694580905, 0.011728585968799443, 0.0077073096745898795, 6.422161870833776e-05, 0.007148059329032286, -0.00432988823917313, 0.003632771442736882, 0.004618117289643564, 0.024351665196942207, -0.0015602674802819294, -0.0018532081374589282, 0.0009696745591396549, -0.006433734777207434, 0.012527515033875503, -0.0050222934289294585, 0.015430290636967214, 0.009518215555432974, -0.0008412313216856759, -0.010348487196096379, 0.003765926286892096, -0.013304524736855505, -0.0018798391062935238, 6.422161869945597e-05, -0.0046494598652113694, 0.013459598943130757, 0.0018751274995416622, 0.01452483769655899, 0.002381115907415854, 0.01838632817776986, 0.020836377310650356, -0.011786559513212502, -0.006593520590242541, 0.01242099115852291, 0.022274449627770032, -0.004356519208028153, -0.010401749133774452, -0.00044176678916318934, -0.0069397231850967245, 0.024511451009975538, -0.0112006781988363, -0.00949629619333514, -0.00907020069197273, 0.001422401029342879, -0.004862507615915668, 0.002727318502297571, -0.015168692555374896, 0.005683356043078902, -0.012425702765288982, 0.014418313821209061, 0.0022745920320810242, 6.42216187314304e-05, 0.009092120054065234, -0.014316501552614547, -0.015940990651589715, -0.010907737541638873, 0.003526247567340768, -0.009496296193321818, -0.007738652250186107, -0.00539512699263156, -0.005821222493996636, 0.01226120534551356, 0.013273182161269936, -0.013837144113564293, -0.0027053991402175015, 0.01119596659206934, -0.0067799373720669465, 0.008266560020138591, 0.0007566268084531202, 0.006402392201657392, -0.0028651849532179696, -0.004596197927527967, 0.002700687533470969, 0.015297135792799565, -0.007818545156673906, 0.012314467283169428, 0.022008139939419635, -0.010774582697444579, 0.01186174081299285, -0.0017999461997968424, -0.013224631830357936, -0.01977585016397132, 0.01031714462051525, 0.0004370551824113278, 0.006109451544435096, -0.0014004816672459341, 0.010610085277699355, 0.009464953617744243, 0.0074409999862385945, -0.013277893768022686, 0.003712664349227346, 0.0054703082923932556, -0.0021461487946323743, -0.018071468158463055, 0.013672646693806634, -0.002039624919323302, -0.00539512699263156, 0.007307845142059399, 0.004777903102641368, 0.005310522479369695, -0.015381740306059655, 0.013193289254774143, -0.014289870583744424, -0.01138709498068291, 0.008239929051301331, 0.0013158771539893976, -0.0014271126360840825, -0.01338441764336551, -0.0005216596956802988, 0.007307845142071834, -0.003877161768977011, 0.006402392201641405, -0.0227585186735606, -0.005022293428911695, -0.018950290130030467, -0.010055546538886517, -0.009602820068677076, -0.0061940560577111725, -0.013224631830373923, -0.0010542790724050732, -0.013544203456378412, -0.006060901213534642, 0.003126783034841374, -0.009629451037515224, -0.008617474221744637, 0.011515538218123567, 0.005150736666363009, 0.013885694444480734, -0.018630718504033972, 0.021102686999018516, -0.015861097745098363, 0.006961642547200775, 0.0005968409954348886, -0.0023325655765109587, 0.005283891510543981, 0.008000250331779313, 0.008293190988980292, -0.013357786674519367, 0.013938956382160583, 0.0008897816526278746, 0.007707309674590768, 0.006029558637946408, 0.008452976802008294, -0.008138116782721028, -0.013863775082410434, -0.005288603117281632, -0.004090209519661769, 0.011355752405108, 0.0024343778451028086, -0.01455618027211436, 0.0027273185023011237, -0.005901115400486212, -0.002226041701166359, 0.00014411452521656543, -0.006486996714881954, -0.016553502934814723, -0.0010542790723668816, 0.008000250331783754, 0.003180044972499907, 0.023020116755164466, -0.003823899831328248, 0.024032093570930613, 0.011195966592074669, 0.008879072303364488, 0.01465799254074529, -0.01365072733171857, 0.006881749640689883, 0.01540365966815127, 0.01316665828593333, -0.007632128374832625, 0.0007566268084353567, 0.0035528785362144433, 0.014551468665401579, 0.004218652757131736, -0.00789843806318924, -0.018790504317026446, 0.017134672642453275, -0.004223364363864057, 0.006988273516014942, -0.0049690314912460565, 0.004218652757081998, -0.0046494598652069286, -0.002598875264872902, 0.00610945154443332, 0.0017419726553864479, -0.014449656396806176, 0.017294458455483053, 0.011355752405082242, 0.0008631506837772918, -0.003477697236427879, 0.004431700507796954, -0.007312556748800603, -0.017032860373860537, -0.00022871903848109554, -0.0036108520806319433, -0.017299170062235802, -0.013703989269404637, -0.005794591525152271, 0.004298545663607101, 0.0015022939358644294, 0.01598954098253813, 0.006215975419779696, -0.009602820068671747, 0.005923034762588486, 0.006721963827668986, 0.00043705518241221597, -0.0061674250888597015, 0.01604280292018956, 0.013379706036616312, 0.0058165108872492155, -0.013757251207077381, -0.006779937372071387, 0.017534137175006848, -0.014662704147505146, -0.013304524736836854, 0.000703364870738632, -0.005847853462838337, 0.0019550204060738707, -0.002092886856972065, 0.013353075067769282, -0.005208710210760081, 0.02030375793394157, -0.0021195178258270886, 0.0015555558735069752, 0.0034463546608636264, -0.002838553984387815, -0.004196733394998375, 0.004058866944077977, 0.011062811747914125, -0.008510950346410695, 0.001262615216343299, 0.0009430435902988421, -0.015062168680017862, -0.007498973530669417, 0.004911057946830333, 0.01156880015579631, 0.02115594893666639, 0.010476930433499732, -0.00749897353064366, 0.009065489085226197, -0.010827844635131534, -0.019030183036558235, -0.0020129939504842653, 0.004431700507772085, -0.007392449655299949, 0.012367729220869705, 0.007627416768070994, -0.028777117630461646, -0.008883783910088816, -0.012692012453631385, -0.003983685644318946, -0.000681445508670997, 0.002700687533471857, -0.004569566958705806, 0.00959810846195186, -0.007445711592986903, 0.027201178862390485, -0.018204623002659126, -0.008644105190615647, -0.0009477551970418219, -0.017432324906417662, -0.009043569723111489, 0.0040854979129383295, 0.00903885811640226, 6.422161872965404e-05, -0.0017200532932859502, 0.009678001368432554, 0.009970942025641527, 0.0014756629670200638, 0.00736110707973836, 0.006801856734163003, -0.0030782327039160506, -0.029043427318814707, -0.01796494428310602, 0.02440492713463449, -0.008963676816617472, -0.004090209519667987, -0.004383150176885842, 0.015163980948611488, -0.0031847565792659793, 0.009278536835919837, 0.002940366252981441, 0.021182579905510757, 0.010743240121872333, -0.00827127162687713, -0.021000874730373376, 0.013432967974263299, 0.007307845142071834, 0.004378438570102006, 0.0005169480889257727, -0.01514206158652076, 0.018998840460962008, 0.009438322648899877, 0.021235841843179948, 0.001422401029352649, -0.01000228460121999, -0.010108808476548603, 0.0016887107177083749, 0.016096064857876513, 0.014045480257529164, -0.010694689790947898, 0.0010229364967866417, -0.011520249824855888, -0.001347219729587401, 0.006295868326295029, -0.004702721802886778, 0.005576832167728085, -0.00851095034640359, -0.000681445508686096, 0.00019737646289375022, -0.0011075410100591654, -0.0005749216333441609, -0.008857152941278201, 0.008373083895491185, -0.024782472305092007, -6.893322545131753e-05, 0.00043705518241754504, -0.004969031491230069, 0.011169335623239185, 0.016229219702038833, -0.0007613384152156399, 6.42216187189959e-05, 0.02357936710074604, 0.021821723157567696, -0.001879839106309511, 0.005417046354708965, 0.01351286088079462, -0.001400481667275244, 0.012926979566408647, -0.0014271126360956288, -0.002039624919309979, 0.0029403662529885466, -0.00012219516312672596, -0.005901115400482659, 0.00943832264893274, -0.004223364363846294, 0.0037659262869045307, -0.016873074560851187, -0.007685390312505369, -0.001959732012808857, 0.010370406558160461, 0.008719286490342704, 0.009092120054056352, -0.004835876647059756, 0.019664614681878412, 0.01372590863149803, 0.007094797391376417, -0.005554912805634693, 0.012207943407838151, 0.008879072303384028, 0.010610085277680703, 0.006508916076979787, -0.007791914187857962, 0.0008631506838225889, 0.016522160359254023, -0.008910414878937623, 0.004990950853359877, 0.005044212791021074, 0.00853286970849787, 0.004804534071509714, -0.005235341179609776, -0.009895760725883385, -0.00688646124743908, -0.005315234086123333, -0.0074723425618197226, -0.0006814455086665561, 0.0027006875334683045, -0.008910414878950057, -0.006540258652550257, -0.002518982358364674, 0.010876394966051528, -0.008857152941276425, -0.008191378720364462, -0.010162070414231117, -0.007658759343653898, 0.002913735284153951, -0.008830521972440941, -0.0007879693840360247, 0.008532869708513857, 0.003925712099927203, -0.016739919716679097, 9.085258755980874e-05, 0.015084088042105037, -0.0006281835710071348, 0.004378438570117105, 0.002088175250233526, -0.003957054675483462, -0.0011341719788831028, 0.0027006875334745217, -0.0022526726700089483, -0.013357786674520256, 0.021155948936669944, -0.0047826147093896765, -0.013863775082401553, 0.00539041538588414, 0.0018751274995381095, -0.003690744987125072, -0.01269201245363405, -0.004436412114514177, 0.014817778353760858, -0.010002284601223543, 0.0037126643492353395, -0.00259887526487379, 0.0031800449725141178, 0.0014490319981970146, -0.010321856227237802, -0.0036641140183100163, 0.001688710717713704, -0.002598875264848033, -0.004516305021041944, 0.0013691390916719115, -0.0003885048514966627, -0.0019597320127919815, 0.016122695826716438, 0.020277126965095427, -0.01985574307045912, 0.005417046354718735, 0.0015555558735220743, -0.027392307250996062, 0.0030735210971650773, 0.004351807601262969, 0.01066334721537121, 0.017667292019201142, 0.0003305313070898208, -0.005315234086106457, 0.0186792688349513, 0.004032235975259368, -0.002332565576486978, 0.008133405175960284, 0.023126640630528605, -0.010028915570061692, 0.017454244268502173, 0.012554146002705657, -0.00917672456728802, 0.009731263306106186, -0.0017999461997808552, -0.00020208806963672998, -0.0032912804545981444, 0.000969674559129885, -0.022066113483830918, -0.009762605881687314, 0.021635306375720198, 0.0010761984344691555, 0.002700687533450541, 0.0012359842474944926, -0.003744006924809362, -0.003610852080620397, 0.003872450162232255, -0.007019616091620939, -0.008883783910114573, -0.008138116782703264, 0.0009430435903015066, 0.004644748258484377, 0.009118751022919369, 0.008319821957801565, 0.0041920217882500665, 0.010450299464679347, 0.0005968409954402176, -0.02800481953423617, 0.01798686364520652, 0.006908380609538689, -0.008777260034770862, -0.005821222493999301, 0.010929656903726048, 0.007307845142068281, 0.005789879918406626, -0.013357786674536243, 0.006429023170468895, 0.012128050501339693, -0.009522927162189276, 0.004644748258501252, 0.007227952235568047, -0.005714698618645819, 0.006109451544458189, 0.00802688130060858, 0.003206675941322956, 0.010263882682806091, -0.0016135294179360216, -0.00036187388266828435, -0.003957054675487015, 0.009651370399605064, -0.0010276481035447205, -0.008777260034786849, 0.0072279522355458425, 0.003366461754362504, 0.00975789427495144, 0.0033930927231997643, -0.008883783910114573, 0.011568800155793646, -0.014156715739606973, -0.009735974912854495, 0.005017581822160722, 0.007227952235544066, -0.003530959174124604, -0.0020662558881481274, 0.031222455156610707, 0.0030735210971526428, 0.0038458191933887775, -0.020255207602978054, 0.008239929051311101, 0.00291373528413974, -0.012186024045747423, -0.01165340466904663, -0.005395126992647548, 0.009518215555424092, -0.001160802947715922, -0.0028651849532028706, 0.0069882735160211595, 0.004192021788272271, -0.017219277155717805, 0.0017419726553615789, -0.007072878029288354, -0.0011075410100502836, 0.021182579905520527, -0.004276626301509268, -0.006460365746065122, -0.013304524736859058, 0.004857796009149595, 0.006375761232795263, 0.0038458191934092056, -0.0015070055426180673, -0.0007879693840093793, 0.015616707418844022, 0.0025142707516074836, 0.005257260541700504, -0.005261972148441707, 0.03212790809701627, 0.0016620797488533512, 0.007094797391372865, 0.02336631935004796, 0.005630094105381289, 0.008666024552680618, 0.0014490319981765865, 0.009704632337279584, -0.007339187717632534, 0.011089442716733622, 0.014977564166756885, -0.01077458269746323, -0.0023858275141570573, 0.014498206727735052, -0.004116840488492812, 0.0044317005077694205, -0.020281838571838406, 0.011915002750636283, 0.0018484965307168366, 0.01598954098254257, 0.003952343068728936, -0.006220687026517346, -0.005448388930304304, 0.0072279522355458425, 0.0014224010293508726, 0.013219920223604298, -0.00813811678271481, 0.0013691390916683588, 0.00786709548762321, -0.007019616091617387, 0.012847086659920848, -0.02193295863966771, -0.01474259705399561, 0.01106281174791146, -0.01210613113924719, 0.009837787181441016, 0.002940366252985882, -0.008510950346426682, 0.0012892461851610193, -0.010215332351896755, 0.004591486320781435, -0.007925069032012289, -0.013863775082419316, 0.0016088178111974827, -0.006726675434424401, -0.007845176125524489, -0.011600142731358787, 0.006136082513269692, 0.0035262475673745186, 0.010024203963308054, 0.002487639782768447, -0.0014803745737586027, -0.007072878029270591, -0.026380330435234356, -0.0007347074463570635, 0.004058866944080641, -0.0053152340861073455, -0.0025456133271974934, 0.008239929051318207, 0.010423668495849192, 0.00445833147662178, -0.002971708828572339, -0.006486996714876625, -0.00829790259572949, -0.004596197927530632, 0.005017581822166051, 0.0003571622758995474, 0.013566122818472692, -0.010002284601204892, -0.015168692555357133, 0.01444494479008096, 0.0018751274995594258, -0.012558857609453966, 0.007867095487593012, -0.007712021281321313, 0.0015022939358591003, -0.012718643422463316, 0.023925569695609106, -0.006060901213500891, -0.0036374830494407817, 0.0030468901283198235, -0.0009743861658897401, -0.011946345326229846, -0.005155448273095331, -0.0010010171347083485, 0.0024343778451161313, 0.007334476110897548, -0.007818545156683676, -0.007419080624154084, -0.0038771617689601356, 0.01708141070480984, 0.004857796009167359, 0.002647425595798225, 0.002940366252991211, 0.003632771442717342, -0.005847853462831232, -0.011466987887173374, -0.007605497405995365, -0.001373850698418444, -0.025075412962259236, -0.003530959174124604, -0.00544838893031141, 6.422161870922594e-05, -0.0011075410100751526, -0.017645372657113967, 0.001741972655362467, 0.01939830499351647, 0.0025142707516065954, -0.01634045518412286, -0.0010276481035553786, -0.009389772317984324, -0.010614796884458322, -0.00954955813101055, 0.026375618828490488, -0.0023325655765251696, -0.013224631830342837, -0.00821800968922215, 0.008426345833159488, -0.005688067649819217, -0.004303257270349192, -0.0029717088285634574, 0.0020615442813882723, -4.2302256616721934e-05, -0.002332565576501189, 0.014897671260261092, -0.018683980441682735, 0.019558090806521378, -0.011067523354655329, 0.005257260541701392, 0.0007832577772921567, 0.005789879918428831, -0.01543500224372174, -0.013224631830351719, 0.011728585968811878, 0.0026740565646408143, -0.008510950346396484, 0.015829755169511017, -0.0010542790723917506, 0.0013425081228284341, -0.002652137202507454, 0.00989104911912797, 0.0032333069101824208, 0.00507084375983613, 0.03156865775147377, -0.0045695669587138, 0.005150736666349687, 0.0008098887461356341, -0.004862507615925438, -0.009735974912873147, 0.027707167270271782, -0.0014803745737657081, -0.015834466776254885, 0.004964319884510182, -0.005954377338174943, 0.00381918822456484, -0.002066255888146351, 0.006002927669102931, -0.003184756579228676, 0.009092120054062569, -0.006540258652539599, -0.0013738506984113386, 0.013619384756127673, -0.003877161768966353, -0.007951700000843331, 0.011755216937629598, -0.0002819809761342995, -0.0010276481035607077, 0.01883905464795177, 0.004165390819439452, 0.005496939261218081, -0.0008412313216821232, 0.00022400743173012216, -0.00483587664706242, 0.0005702100266020693, -0.00275866107788314, 0.00014411452522455903, -0.012851798266659387, -0.0164736100283287, -0.00014882613197020333, 0.010183989776322733, -0.008404426471066984, 0.013805801537992046, -0.006380472839540907, -0.005741329587476862, -0.012478964702934192, 0.006508916076979787, 0.008426345833154159, -0.01689970552970177, 0.010317144620493046, -0.0041434714573309606, 0.013592753787293965, 0.002700687533460311, 0.002088175250238855, 0.008452976801993195, 0.016708577141093528, -0.006060901213521319, -0.0021994107323202172, 0.012234574376682517, 0.0114889072492943, -0.001879839106284642, -0.0035043282052766855, 0.02259402125378962, -0.004889138584750263, 0.0025409017204625073, 0.0028604733464829835, 0.005789879918409291, 0.0024077468762664367, -0.011067523354643782, 0.00792035742526842, -0.0034510662675977244, -0.0025456133271832826, -0.012771905360125402, -0.006167425088858813, -0.007419080624140761, -0.004196733394989494, 0.01162206209348593, -0.006806568340927299, -0.00795170000083889, 0.005017581822178485, 0.008266560020147473, -0.004463043083370977, 0.019265150149323063, 0.006136082513300778, 0.0037126643492362277, -0.0022526726699947375, -0.009256617473806017, 0.021422258625023893, 0.005656725074239866, -0.014902382866987196, -0.0035575901429503176, 0.0035795095050410453, -0.007179401904603644, -0.009389772317988765, 0.0168417319852896, 0.00895896520988071, -0.0032380185169254005, -0.011307202074167577, -0.0055549128056417985, 0.012740562784572695, 0.0011560913409924822, -0.013464310549879066, 0.0013957700605020662, 0.013193289254783913, 0.001315877154016043, 0.004564855351949504, -0.011866452419717177, 0.008506238739667715, 0.019531459837691223, -0.0005216596956776343, 0.014711254478428692, 0.011808478875315664, -0.013757251207067611, -0.0001754571008056871, 0.002487639782787099, -0.008857152941258661, 0.00011748355639085162, -0.0074989735306507654, -0.00350432820529889, -0.008644105190588114, -0.0014803745737470564, -0.003184756579239334, -0.014502918334478032, -0.005981008306995328, -0.0050222934289196886, -0.01586109774510991, 3.759064988173577e-05, 0.010636716246530398, -0.008377795502238605, -0.003903792737842693, -0.008457688408751274, 0.005443677323547114, 0.0010229364968141752, 0.004405069538960582, -0.008697367128272404, -0.0009211242282090026, 0.009624739430766027, -0.0018798391062881947, 0.01614932679554304, 0.008026881300616573, -0.0056614366809633054, 0.007121428360220783, 0.017880339769858367, 0.00011748355638374619, 0.0007033648707786, 0.004271914694776946, 0.005656725074221214, 0.008186667113654345, -0.00920335553613949, -0.00909683166081443, 0.008479607770836672, 0.004777903102643144, -0.003104863672735547, 0.007840464518769075, -0.011094154323466832, -0.007472342561807288, -0.011387094980682022, 0.02376578388258821, -0.016100776464598177, -0.01144035691834322, -0.005368496023773872, -0.0035309591741388147, 0.0013691390916577006, 0.002913735284144181, -0.01743232490641322, -0.012825167297807027, -0.01969595725746842, 0.020223865027407584, 0.004192021788265166, 0.01931841208700824, 0.016548791328081514, 0.011249228529762512, -0.016526871965989898, -0.00883052197244183, 0.0013425081228151114, 0.0005435790577781319, 0.0003305313070693927, -0.002865184953229516, -0.02020194566531508, -0.008058223876199477, 0.015616707418834253, 0.005017581822168715, -0.011893083388559766, 0.00842634583316837, 0.006935011578358186, 6.422161871988408e-05, 0.00821329808246496, -0.001480374573750609, -0.011972976295070659, 0.009917680087966119, 0.00930516780473667, -0.004889138584735164, -0.007019616091601399, 0.006535547045819712, 0.0058697728249264, -0.00970934394403411, 0.005203998604019766, -0.01162677370018983, -0.00954955813101499, 0.007787202581098107, 0.012101419532505986, -0.013304524736857282, -0.006700044465566712, 0.010290513651671773, -0.0016401603867537418, -0.001906470075136113, -0.0021994107323477508, -0.0036641140182815946, -0.0007347074463561754, -0.01090773754163088, 0.0012626152163335291, 0.000756626808431804, 0.01513734997978311, -0.002199410732319329, 0.0031001520659916793, -0.006779937372089151, -0.00800496193851874, 0.01061008527769669, -0.003211387548106792, 0.007520892892734388, 0.0004903171200778544, -0.0041168404884990295, 0.0036594024115617074, -0.005182079241925486, -0.0010010171347021313, 0.0004903171201089407, 0.004245283725915705, -0.003477697236448307, 0.004644748258480824, 0.01100954981024671, -0.006806568340929964, -0.006726675434416407, 0.01750750620616337, 0.004644748258509246, 0.0007832577772717286, -0.00028198097615383944, 0.008745917459170194, -0.004329888239176682, 0.00555020119889349, 0.003526247567395835, -0.021826434764306235, -0.012665381484814553, 0.010823133028393883, -0.008510950346405366, 0.007973619362958928, 0.0063491302639819835, 0.0020349133125678875, 0.012847086659888873, 0.011648693062304538, -0.0014004816672663623, 0.010689978184190707, -0.003983685644327828, 0.011116073685568217, -0.0064869967148988295, -0.00622068702652534, 0.016362374546220693, -0.01788505137660934, -0.007472342561818834, -0.010960999479300959, -0.013544203456383741, 0.001981651374882709, 0.015004195135618126, 0.003419723692029031, -0.0022526726699849675, 0.004618117289642676, -0.006913092216262129, 0.011275859498598884, 0.01859937592844929, 0.008319821957837092, 0.0015821868423548935, -0.012984953110831476, -0.017059491342709343, -0.015328478368379805, 0.010849763997224038, -0.008510950346387602, -0.0021461487946421443, -0.008084854845027856, -0.0019331010439618268, -0.004542935989857888, 0.006828487703000263, -0.0015602674802623895, 0.011515538218100474, 0.0037659262868929844, -0.0042499953326720075, -0.0005749216333370555, 0.007148059329031398, -0.003504328205283791, -0.018976921098891708, 0.01995755533905541, 0.00531052247938657, 0.0034463546608449747, 0.021981508970592145, 0.006215975419806341, -0.0033179114234300755, 0.00608282057559606, 0.007627416768090534, -0.002865184953230404, 0.009491584586605484, -0.013783882175901319, -0.0034244352987755633, 0.004484962445480356, 0.012128050501346799, -0.006992985122775686, 0.008559500677349341, 0.01561670741883514, 0.00690838060951382, -0.0039037927378364756, 0.005683356043063803, 0.011728585968800331, 0.005470308292385262, -9.556419430012397e-05, 0.005124105697513315, 0.005656725074240754, -0.0013472197295785193, 0.002674056564609728, 0.0035795095050525916, 0.0011560913409978113, 0.006801856734179879, -0.0010542790723908624, 0.009012227147556118, -0.002811923015566542, 0.013566122818471804, 0.00922527489822933, 0.009598108461940313, 0.000996305527986685, -0.016553502934818276, -0.014715966085151244, -0.006673413496738334, -0.015461633212546566, -0.005182079241941473, -0.019269861756082918, -0.026087389778037817, -0.0038238998313255834, -0.001906470075106803, 0.006988273516020271, 0.0027805804399685385, -0.011466987887178703, 0.0007033648707865936, 0.0019283894372010835, 0.0016354487800143147, 0.0007299958395936557, -0.008857152941272872, -0.005208710210777845, -0.01175992854438146, 0.019105364336301278, 0.0036327714427013547, 0.006642070921146548, -0.00496903149124428, -0.012638750515951536, 0.017161303611310075, 0.0066420709211545415, -0.0017466842621436385, 0.0022479610632348823, 0.014551468665363387, 0.0056567250742043385, 0.00416539081944034, 0.007840464518770851, 0.0013425081228612967, 0.008586131646184825, -0.013757251207062282, 0.0011028294033099684, 0.002887104315298039, -0.004596197927542178, -0.006939723185086066, -9.556419429657126e-05, -0.019323123693729016, 9.085258756247327e-05, 0.0020615442813936014, -0.009922391694707322, 0.0029669972218240304, -0.0014803745737594909, 0.006455654139314149, 0.00011748355635976537, 0.005443677323547114, 0.01175521693761361, -0.0196160643509371, 0.007148059329048273, 0.0023544849385759292, -0.004755983740551528, -0.014822489960506502, -0.022199268328027877, 0.01577649323184538, -0.0010542790723633289, -0.017725265563582226, 0.014125373164036503, 0.01026388268283629, -0.0022260417011583655, -0.022518839954032366, -0.006673413496742775, -0.0016401603867706172, 0.006082820575597836, -0.013490941518690569, -0.017245908124554177, -0.014289870583779951, 0.008186667113653456, 0.01106281174789192, -0.007712021281326642, -0.005554912805620482, -0.005102186335433245, 0.010183989776329838, -0.016660026810161987, -0.013437679581040918, 0.0056567250742345365, -0.0020662558881241466, 0.002540901720435862, 0.006295868326285259, 0.024804391667166747, -0.004489674052215342, 0.0017419726553891124, -0.0033445423922655593, 0.014604730603074323, -0.0043565192079935144, -0.0012140648854099823, 0.0015555558735274033, 0.0160694338890357, -0.011067523354666875, 0.015749862262979697, 0.011409014342754986, 0.0016887107177057104, -0.013996929926595847, 0.018519483021936622, -0.009443034255657068, -0.004329888239183788, -0.0003352429138034907, 0.016096064857872072, 0.007281214173230133, -0.007898438063167923, 0.013033503441752359, 0.010397037527023478, -0.0019331010439502805, -0.015568157087900936, 0.0012892461851681247, -0.0042766263015137085, 0.005337153448181198, -0.0030782327039142743, 0.008399714864314234, -0.010348487196067069, 0.004032235975259368, 0.009917680087953684, 0.0018484965306972967, -0.002678768171368695, 0.0048844269779770855, -0.010401749133738925, 0.012926979566405095, -0.009789236850511251, -0.0048891385847360525, -0.00219941073233354, 0.007840464518780621, -0.0014803745737737017, -0.010082177507730883, 0.0004903171201027234, 0.011382383373937266, 0.003632771442707572, 0.009784525243792253, -0.014396394459122774, -0.006140794120016224, -0.016819812623187325, 0.0016887107176852822, 0.0023811159074442756, -0.012372440827602915, 0.01308676537942155, -0.0016934223244415847, 0.0009963055279706978, -0.0009211242281841336, -0.018098099127275447, -0.005315234086121556, -0.011706666606708716, -0.014929013835867089, 0.009331798773573041, 0.006695332858830838, 0.008958965209868275, 0.006082820575609382, -0.015701311932105888, -0.008910414878929629, -0.007099508998099857, -0.008084854845029632, 0.0033398307855270204, -0.002332565576512735, 0.015510183543461231, -0.00014882613195865702, 0.0011294603721490049, 0.003180044972504348, 0.006695332858838832, 0.0012359842474936045, -0.003797268862487435, -0.006859830278600931, 0.005257260541693398, -0.01634045518413174, -0.008058223876187931, 0.0032599378790267863, -0.0026787681713704714, -0.032239143579099405, 0.008399714864332886, -0.0032380185169156306, -0.0031314946415790246, -0.0013205887607474764, -0.00022871903848109554, 0.004698010196143798, -0.002332565576508294, -0.008218009689206163, -0.020281838571853505, 0.005816510887257209, -0.006593520590234547, -0.005981008307032631, 0.0016887107177101512, 0.006056189606772122, -0.002598875264869349, -0.010375118164944297, 0.011888371781816787, 0.004271914694768952, 0.007760571612282163, -0.006913092216267458, -0.004303257270358962, 0.006588808983490679, 0.013699277662646558, -0.010375118164921204, -0.013251262799177432, 0.008745917459185293, 0.010423668495839422, -0.0007613384151925473, 0.0034197236920334717, -0.0027852920467115183, 0.0047512721338387465, 0.02373915291374562, -0.0004683977580111076, 0.0029137352841415165, -0.011680035637882114, -0.006513627683738754, -0.006327210901867275, -0.008590843252914482, -0.010082177507706014, -0.009229986504984744, -0.00012219516312317324, -0.023104721268443207, -0.0021195178258226477, -0.0017466842621178813, 0.011941633719488642, 0.0002772693694002015, -0.010614796884423683, -0.0012140648853957714, 0.012660669878054698, 0.005177367635193164, 0.020916270217154143, 0.01298024150408672, -0.01791168234544749, -0.006407103808386161, 0.003606140473885411, -0.01069468979093724, -0.0077386522501754484, -0.0028119230155585484, -0.0004950287268501441, -0.0066734134967552095, 0.008452976801982537, -0.004356519208029042, -0.0018798391062988529, 0.004058866944107287, -0.015781204838590135, -0.00555491280564091, -0.0019331010439840313, -0.015648049994402058, 0.011062811747908796, -0.003770637893630635, -0.0006015526021689865, -0.011387094980666923, 0.0013957700605100598, 0.01292697956640243, 0.0006767339019475571, 0.016069433889043694, -0.009150093598472075, 0.01100954981024227, 0.0004636861512405943, -0.007259294811111872, -0.0024390894518573347, -0.0027852920466964193, 0.0011560913409738305, -0.00851095034641336, 0.011568800155792758, -0.0023858275141792618, 0.0021148062190770034, 0.012074788563670502, 0.001955020406054331, 0.013805801537997375, -0.002305934607665705, 0.00493768891567381, 0.008293190988973187, -0.005528281836816085, 0.007121428360199467, 0.0055502011989077005, 0.005923034762591151, -0.0036641140182904763, 0.00017074549406981276, -0.002652137202522553, -0.011200678198822978, 0.003206675941347825, -0.020548148260211896, -0.005661436681002385, -0.0052087102107511996, -0.006673413496758762, 0.024032093570935054, -0.0033179114234211937, 0.02126247281203497, -0.002092886856992493, -0.002385827514171268, 0.00837308389548408, -0.0030249707662433067, 0.004644748258473719, -0.009150093598459641, -0.012585488578276127, 0.012820455691061383, 0.0013691390916710233, -0.006380472839549789, -0.008857152941280866, 0.010903025934894117, -0.0041701024261771025, -0.0019331010439787022, 0.010343775589355175, -0.007046247060435107, -0.017485586844075307, 0.006908380609522702, 0.0016088178111974827, 0.0065355470458206, 0.008452976802001189, 0.0016354487800391837, -0.01077458269745879, -0.005927746369351006, 0.00991768008797056, -0.0069397231850771846, 0.001502293935857324, 0.019052102398632087, 0.004937688915681804, 0.016175957764393623, 0.02259402125377985, -0.018044837189596485, 0.004458331476622668, -0.0007347074463712744, -0.007791914187842863, 0.007840464518777956, 0.00693501157836085, -0.008324533564545433, -0.004223364363834747, -0.013011584079649197, 0.008506238739663274, -0.00571469861865026, -0.005927746369330578, 0.004698010196148239, 0.010397037527021702, -0.0020662558881392457, -0.013863775082406882, -0.013970298957758587, 0.002860473346481207, -0.006167425088866807, -0.010002284601222655, 0.006082820575594283, -0.01556815708790893, 0.004298545663605324, 0.001475662967020952, 0.005203998604033089, -0.011360464011844762, -0.00840442647107853, -0.01900355206771831, -0.013970298957736382, -0.008111485813870445, 0.008799179396860701, 0.008532869708510304, -0.0124257027652801, 0.012713931815714119, 0.004245283725938798, -0.010987630448124897, 0.004884426977978862, -0.0014537436049391061, -0.0098158678193494, 0.0034197236920423535, -0.019775850163959774, 0.001475662967030722, -0.008830521972459593, 0.005816510887262538, 0.011116073685582428, -0.003797268862477665, 0.02570984460760073, -0.01008217750771756, -0.005315234086125997, 0.015669969356494562, -0.024942258118116456, 0.0029137352841415165, -0.0032380185169165188, -0.00909683166080999, -0.007791914187846416, -0.021853065733142607, -0.011520249824842566, 0.011728585968806549, -0.002012993950462061, 0.009731263306129279, -0.0019597320128168505, 0.00464474825846839, 0.00967800136843433, -0.007765283219009156, -0.007019616091604064, 0.012980241504076062, 0.005576832167742296, 0.012474253096208088, -0.00592774636935367, -0.007206032873465773, 0.015323766761643043, 0.01383243250686128, 0.000703364870793699, 0.013113396348267692, 0.012420991158533567, -0.0010542790723482298, 0.016894993922941026, -0.002838553984383374, -0.0001488261319630979, -0.0021727797634740753, -0.0029184468909093653, 0.011515538218108468, -0.00504892439775162, -0.011067523354657105, -0.02235905414102657, 0.011595431124628242, 0.011968264688335672, -0.018204623002655573, -0.005022293428916136, 0.008879072303362712, -0.011813190482033775, 0.010503561402376071, -0.0023591965453553243, -0.001054279072369546, -0.012558857609426433, -0.001853208137452711, -0.005634805712150026, -0.012585488578293003, -0.011653404669030643, -0.03269187004933016, -0.017751896532426592, 0.010503561402344097, -0.01476922802281333, 0.01670857714109708, -0.010641427853285812, 0.015323766761643931, -0.0016401603867670644, -0.0024390894518324657, -0.00643373477722875, 0.006855118671848182, -0.010960999479294742, -0.017219277155722246, -0.012851798266663828, 0.003180044972520335, -0.007951700000845996, 0.0022213300944136094, -0.02052151729135865, -0.0014271126360885233, 0.009544846524265793, -0.016340455184130853, -0.010215332351904749, 0.010183989776313851, 0.005390415385879699, 1.0959681031152968e-05, 0.00991768008796079, 0.005550201198918359, 0.00536378441701757, 0.0020349133125936447, -0.011706666606699834, 0.0027273185022949065, -0.0003086119449937641, -0.006753306403251891, 0.007707309674598761, 0.002833842377663487, 0.008985596178695765, 0.009438322648919417, -0.0016401603867803871, 0.006615439952335933, -0.005688067649823658, -0.009123462629633039, 0.013140027317092517, 0.0026740565646230507, -0.005075555366587103, -0.01974921919512873, 0.022407604471951004, -0.02073456504204252, 0.017294458455487494, -0.006300579933044226, -0.020308469540657903, -0.001613529417933357, -0.0034776972364438663, 0.014844409322580354, -0.018657349472873896, -0.014289870583770181, 0.0074942619239317665, 0.0008897816526296509, 0.011861740812967092, -0.0023325655765038533, -0.00997565363238273, -0.007472342561825052, -0.0253417226506345, -0.009203355536150148, 0.006455654139315925, -0.010028915570042152, -0.0035309591741219393, 9.085258754826242e-05, 0.013193289254779472, -0.000628183571017793, 0.014844409322607, -0.013730620238238345, 0.00523062957286502, -0.007206032873449786, 0.002487639782763118, -0.002838553984387815, -0.002518982358347799, -0.013810513144735914, -0.0030516017350645797, -0.009309879411485866, 0.006482285108159402, -0.001720053293279733, -0.0007080764775153625, -0.012771905360137836, -0.007046247060445765, 0.010397037527027031, 0.010610085277683368, -0.004489674052201131, -0.00022871903846954922, 0.0023544849386025746, 0.006295868326292364, -0.008324533564546321, 0.00581651088725188, 0.010716609153052836, -0.0037173759559658848, -0.0009211242282063381, 0.0128204556910827, -0.016686657778999248, -0.016660026810164652, 0.00043705518242997954, 0.006189344450941547, 0.0024876397827897634, 0.02254075931613375, 0.010876394966037317, 0.0005435790577585919, -0.0028918159220587825, 0.021981508970587704, 0.018333066240067808, -0.003744006924782717, -0.010561534946761597, -0.013011584079670513, 0.006349130263963332, 0.0035795095050419334, 0.005070843759851229, -0.003291280454581269, -0.014769228022836423, 0.005550201198899707, 0.002434377845104585, -0.006566889621397287, 0.004138759850602192, -0.007019616091607617, -0.006300579933033568, -0.010428380102601942, -0.0015336365114375639, -0.010668058822106197, -0.0004950287268270515, 0.0017419726553793424, 0.011622062093454844, -0.0064603657460473585, -0.023877019364662466, -0.01010880847655038, 0.005656725074239866, 0.007547523861584082, -0.006140794120015336, 0.003925712099891676, 0.012367729220840395, 0.0056567250742443065, -0.006593520590230106, 0.002327853969759097, 0.0028072114088288913, 0.009944311056798938, 0.0029669972218160368, -0.018177992033798773, -0.010375118164939856, -0.005741329587484856, -0.021027505699249716, 0.012926979566405983, 0.009118751022877625, 0.0038191882245657283, -0.007339187717629869, -0.005501650867961949, -0.019962266945807272, -0.009150093598457865, -0.019163337880735654, 0.003180044972515894, -0.006673413496736558, 0.0003305313070782745, 0.01023725171397949, 0.005576832167723644, -0.010401749133763794, -0.0026787681713464906, -0.0017200532932655221, 0.0009963055279804678, -0.011733297575528212, 0.0010761984344744846, 0.0014490319981836919, 0.001715341686555405, -0.01309147698618851, -0.019749219195117185, 0.008879072303366264, -0.00129395779190844, -0.008191378720411535, -0.0026521372025136714, -0.014502918334475368, -1.567128779456084e-05, 0.0012892461851530257, -0.0012140648854055414, -0.00470272180288589, -0.007392449655291955, 0.0009430435902970657, 0.00930516780473667, -0.005554912805623147, -0.012851798266642511, -0.013411048612205434, 0.009917680087969671, -0.0035842211117955713, 0.006721963827660993, 0.00030390033824545526, -0.00632721090186994, 0.005763248949572919, 0.007148059329051826, -0.006060901213521319, -0.011280571105336534, -0.009576189099846033, -0.0021727797634909507, -0.016233931308785365, -0.00475598374057018, 0.0032599378790081346, 0.016522160359257576, 0.0011294603721481167, -0.000548290664488249, 0.00142240102933755, 0.0019017584683833633, 0.007787202581094554, 0.0044583314766262205, 0.009678001368447653, 0.01100954981024671, 0.004857796009168247, -0.0019597320128017515, -0.005981008306999769, 0.005337153448190968, -0.004436412114545263, 0.011888371781804352, 0.0009164126214606938, 0.02118257990551342, 0.0023278539697502154, 0.00525726054170228, 0.009598108461943866, 0.00816003614479932, -0.00640710380838172, 0.012820455691059607, -0.011946345326236063, -0.0048625076158996805, -0.009789236850537897, -0.009416403286836683, -0.0023325655765047415, 0.01356612281847891, -0.0019064700751227903, 0.0008098887461231996, -4.2302256622051004e-05, -0.011307202074181788, 0.005736617980752534, 0.004431700507782743, -0.011546880793693148, 0.007520892892749487, 0.0012093532786661143, 0.015243873855133927, 0.009731263306116844, -0.003797268862472336, -0.0036907449871268483, 0.018226542364754295, -0.007126139966945999, -0.004755983740555969, 0.0066953328588281735, 0.022700545129170635, -0.0035043282052971136, -0.005395126992623567, -0.0019863629816425643, -0.01109415432348726, 0.003952343068752917, 0.008426345833169258, 0.013592753787301959, 0.01047693043352016, -0.013038215048492674, 0.007867095487591236, -0.018790504317037104, -0.006114163151187846, -0.0051021863354145935, -0.01279853632896355, -0.001054279072383757, 0.001156091340971166, 0.015989540982516814, 0.016042802920195776, 0.003925712099927203, -0.009416403286822472, 0.00014411452523699353, -0.00382389983131759, 0.006002927669087832, -0.0037173759559605557, -0.015727942900916503, 0.0022213300944136094, 0.011781847906463305, 0.004085497912919678, 0.010024203963281408, 0.014631361571911583, -9.556419428768947e-05, 0.0006501029331076325, -0.013198000861506465, -0.004702721802893883, -0.005048924397757837, 0.021368996687364472, 0.0134862299119618, -0.019802481132792593, 0.002913735284153951, 0.00509747472869293, -0.004755983740561298, -0.0009477551970507037, -0.008404426471050996, -0.0054483889303051924, 0.0037392953180415134, -0.003744006924799592, 0.026988131111725266, 0.01444494479005698, 0.013006872472915987, -0.01998889791463565, 0.013965587351008502, -0.007365818686464465, 0.014578099634205977, -0.009043569723107048, -0.00094775519704271, -0.007712021281334636, -0.002918446890903148, -0.009096831660796667, -0.013277893768022686, -0.0006548145398541649, -0.0045429359898747634, 0.007680678705751731, 0.000543579057763921, 0.006482285108152297, 0.00989104911913774, 0.009065489085228862, -0.004170102426180655, -0.0011874339165887093, 0.012021526625980883, 0.02445818907230013, -0.009789236850528127, -0.008670736159437809, -0.002945077859725309, -0.008351164533372923, 0.009464953617754013, 0.029651227995312723, 0.004964319884489754, -0.0007347074463526226, -0.008697367128271516, -0.0027053991401979616, -0.003477697236447419, -0.010375118164924757, 0.013006872472915099, 0.0017153416865367532, -0.009895760725879832, 0.006082820575601389, -0.02065467213552008, 0.006242606388622285, -0.0032380185169289533, 1.0959681031152968e-05, 0.015377028699295359, -0.0008412313216883405, 0.0043251766324878815, 0.015909648076020133, -0.00731255674881659, -0.029176582163009, -0.012106131139219656, 6.422161870922594e-05, 0.022008139939419635, 0.0007299958396158601, 0.006642070921160759, 0.026002785264778616, -0.0026787681713811295, -0.025448246525991536, 0.0012093532786430217, 0.003552878536203785, 0.021368996687367137, -0.008031592907371987, 0.0030468901283349226, -0.010295225258410312, 0.002487639782778217, 0.009438322648918529, 0.004937688915652494, 0.002461008813941845, -0.004649459865210481, -0.008883783910099474, 0.004564855351981478, 0.0066687018899864725, 0.000756626808431804, -0.019136706911917045, 0.01519061191745319, 0.0002506384005593887, -0.0068864612474186515, 0.005736617980732994, -0.0063005799330326795, 0.01487104029141939, 0.014791147384931591, -0.004010316613149989, 0.00720132126672457, -0.0025722442960240954, -0.003184756579253545, 0.009598108461935873, -0.007578866437163434, 0.00895896520988071, 0.00778720258108212, -0.0074190806241363205, -0.011120785292329849, 0.0015555558735176334, 0.006402392201637852, 0.008186667113645463, 0.00512410569753996, 0.004564855351961938, 0.004777903102667125, -0.000841231321706104, -0.006060901213501779, 0.004378438570102894, 0.008160036144805538, 0.011036180779066207, 0.002940366252981441, -0.005048924397759613, -0.006407103808393266, -0.008351164533395128, -0.004995662460092198, 0.0032066759413407198, -0.030055404134591512, 0.012074788563672278, -0.006407103808373726, -0.007072878029288354, -0.0016934223244398083, -0.00800496193852318, 0.00584314185607937, 0.010130727838653542, 0.029491442182278504, 0.025763106545269032, 0.011968264688311692, -0.005475019899139788, 0.005337153448211396, -0.008963676816622801, 0.0028072114087906996, 0.005124105697524861, 0.008479607770843778, 0.007547523861576089, -4.230225661761011e-05, -0.004276626301540354, -0.005794591525174475, 0.007174690297873099, -0.0010010171347181185, 0.016389005515077493, 0.007041535453694792, 0.010503561402352979, 0.007707309674578333, 0.00347298562971865, -0.0019863629816496697, 0.01827980430241194, -0.009549558131048741, 0.01750750620616426, 0.01159543112461936, -0.00041513582032504104, 0.007494261923908674, 0.0011827223098297424, -0.023504185800983457, -0.005235341179580466, -0.006673413496748992, 0.009145381991718438, -0.004755983740579062, -0.004489674052199355, -0.007578866437159881, 0.011542169186947504, 0.01170195499995419, 0.010157358807468597, 0.012527515033879055, 0.008106774207143452, 0.0005169480889311018, 0.010050834932140873, 0.00043705518240511054, -0.007365818686476011, 0.00869265552152143, -0.011759928544370801, -0.006673413496741887, 0.0045115934142945235, -0.009443034255667726, -6.893322547085745e-05, 0.0021414371879044936, 0.0054436773235364555, -0.010241963320727798, -0.006779937372083822, 0.0156167074188307, 0.027840322114477623, -0.013863775082390006, 0.015669969356506996, -0.015887728713913418, -0.01988237403929105, -0.0015336365114144712, 0.01503082610443851, 0.004325176632455019, -0.01732580103104997, 0.0036860333803980794, -0.00030861194498310596, -0.009363141349143511, -0.013064846017320164, 0.005017581822179373, -0.004702721802877008, -0.014263239614956014, -0.0008944932593601962, -0.003770637893624418, 0.0001441145252254472, -0.005528281836786775, 0.000863150683808378, 0.008080143238319515, -0.015541526119069005, -0.006673413496743663, 0.012713931815691026, 0.0003571622759119819, 0.021049425061325344, -0.007925069032035381, 0.008373083895495625, -0.010881106572815824, -0.0060342702446716245, 0.000836519714926709, 0.00235448493858037, 0.005816510887250992, 0.0038191882245657283, 0.0095714774931146, 0.015084088042105037, -0.007738652250170119, 0.003100152065999673, -0.009150093598481845, 0.019930924370226144, -0.0003086119449724478, -0.006726675434411966, 0.008319821957811335, 0.0116753240311267, -0.01503553771118149, -0.00129395779191821, -0.015435002243725293, -0.011653404669022649, 0.004058866944093964, 0.01556344548115085, -0.0136507273317239, -0.0011608029477532256, -0.015008906742352224, 0.011435645311609122, 0.019504828868857516, 0.0036860333803847567, -0.009256617473825557, -0.008910414878945616, 0.006935011578361738, -0.007419080624145202, 0.01449820672774127, 0.009411691680087486, 0.00403223597523894, 1.095968104092293e-05, 0.008373083895502731, -0.006593520590234547, -0.005874484431656057, -0.011253940136501939, 0.002860473346499859, -0.014209977677277053, -0.0038505308001415273, -0.007712021281326642, -0.00749897353061435, 0.0072545832043875436, -0.0017999461997764143, -0.023051459330766022, 0.006828487703032238, -0.027259152406822196, -0.009895760725883385, -0.002625506233695951, -0.009895760725864733, -0.007712021281333747, -0.00946966522448367, -0.02291830448656995, 0.004511593414303405, 0.014285158977027201, -0.004915769553583971, -0.006913092216271899, 0.01865263786613447, -0.003317911423431852, 0.017028148767133544, -0.003264649485775095, 0.0021946991255772375, 0.0013425081228239932, 0.007148059329063372, 0.00909212005404747, -9.556419431078211e-05, -0.009709343944037663, -0.0022793036388257804, 0.006056189606775675, 0.002034913312580322, -0.0009211242282072263, -0.002758661077897351, 0.0015555558735478314, -0.01050827300910484, -0.01793831331427942, 0.013086765379418885, -0.01215939307691194, -0.0030516017350779023, -0.011733297575539758, 0.014258528008216587, 0.006855118671857063, 0.005523570230042019, -0.008297902595725937, -6.893322547085745e-05, 0.004698010196157121, -0.0012406958542419133, 0.002088175250233526, -0.012505595671778558, -0.02648685431056652, -0.0017466842621249867, -0.006114163151204721, 0.020942901185986962, 0.008559500677346676, -0.02651348527940023, 0.011222597560903047, 0.002913735284145069, -0.004436412114554145, -0.0102685942895695, -0.01018870138305239, 0.00813340517597716, -0.017885051376627104, -0.011493618856026622, -0.007845176125510278, 0.007121428360211013, 0.005896403793768101, 0.008905703272213294, -0.017911682345435942, 1.0959681023159362e-05, -0.002572244296040971, 0.010183989776321845, 0.005470308292383486, 0.006322499295124295, 0.008133405175970054, -0.0028918159220596706, 0.014072111226351325, -0.01546163321256877, 0.009278536835904738, 0.002407746876243344, -0.01506216868002852, -0.0073391877176263165, -0.010987630448146213, -0.0024657204206821604, 0.004857796009169135, -0.012345809858756773, 0.011195966592076445, -0.019030183036542248, -0.0025456133271921644, 0.0005435790577648092, 0.0036594024115528256, -0.00888378391011102, 0.005337153448202514, -0.0119463453262183, -0.009203355536150148, -0.002359196545343778, -0.004409781145689351, 0.00025063840057804043, -0.0031581256104162847, 0.010823133028371679, 0.018120018489374168, -0.027205890469151228, 0.004618117289639123, 0.009544846524278228, 0.011515538218109356, -0.008191378720397324, -0.013917037020086731, -0.0006548145398364014, -0.007765283219013597, -0.0008678622905380351, 0.004085497912904579, 0.009624739430780238, -0.007712021281324866, 0.01479114738493692, 0.0035262475673834004, -0.01666002681017087, -0.012319178889926619, 9.085258756869052e-05, -0.013517572487544705, -0.013863775082406882, 0.00528389151052977, 0.016442267452726256, 0.001102829403323291, 0.000783257777273505, 0.0027539494711277257, 0.013646015724981808, 0.0031001520660041137, 0.012607407940378401, 0.003073521097154419, 0.009065489085233303, -0.0006814455086887605, -0.013224631830344613, 0.007760571612257294, 0.009598108461918997, 0.012021526625998646, 0.00989104911912797, -0.0004950287268465914, 0.025816368482952434, 0.011568800155790981, -0.006700044465588029, 0.00850623873964107, 0.006935011578348416, 0.0010761984344807018, -0.00033524291382924787, -0.005981008306987334, 0.01873253077261694, 0.001022936496813287, -0.0027053991402183897, -0.0032646494857511144, 0.0025941636581228167, -0.0015070055425860929, -0.00046839775801288397, 0.007867095487620546, -0.0022526726699938493, -0.004596197927549284, 0.021981508970571717, -0.004782614709405664, 0.013033503441742589, 0.014338420914700833, 0.016309112608555054, -0.006966354153966847, 0.0016088178111965945, -0.015807835807422066, 0.012420991158519357, -0.0038238998313255834, 0.003180044972494578, 0.0066687018900015715, 0.0015555558735238506, -0.005554912805648016, -0.009869129757039907, -0.005714698618642267, -0.010827844635144857, 0.005949665731424858, -0.0038238998313060435, -0.01783178943894015, 0.009837787181459667, 0.0056300941054177045, -0.018577456566338135, -0.014929013835834226, -0.004969031491253162, -0.004036947581980144, -0.008111485813876662, 0.017587399112686697, 0.0012892461851672365, -0.005235341179614217, -0.01037511816493275, -0.010002284601213773, 0.013938956382177459, 0.001262615216322871, -0.0025456133271868353, 0.0024343778451019205, -0.007232663842296816, -0.0006281835710124639, 0.023765783882574, 0.009704632337270702, -0.009043569723112377, -0.01202623823273452, -0.007232663842284381, 0.0038191882245710573, 0.005124105697537296, -0.010055546538891846, 0.0025409017204394146, -0.001533636511443781, -0.004542935989883645, -0.02638033043524679, -0.010055546538892735, -0.01010880847653528, 0.0013425081228302105, -0.006806568340926411, -0.007951700000861983, 0.009118751022893612, -0.01660676487248569, -0.009256617473810458, -0.005874484431672045, -0.004862507615920109, -0.01615403840229046, 0.005923034762574275, -0.012478964702957285, 0.004777903102656467, 0.003100152065994344, 0.0012892461851565784, 0.01918525724281217, 0.006508916076965576, 0.001156091340991594, -0.009070200691974506, -0.018231253971473294, -0.0005482906645148944, -0.0038238998313167016, -0.006220687026528893, -0.003877161768991222, 0.006908380609508491, -0.011333833043010166, 0.009012227147542795, 0.01705477973596814, 0.0012626152163370818, 0.005683356043088672, 0.016202588733228218, 0.011915002750639836, -0.010455011071436537, 0.013885694444496721, 0.008799179396854484, -0.0019064700751298957, -0.01527521643068308, 0.007600785799249721, -0.0021195178258359704, -0.021480232169465374, -0.016393717121774287, 0.013273182161265495, -0.011653404669037748, 0.006721963827668986, -0.00014882613197908512, 0.004405069538930384, -0.0019331010439547214, -0.016899705529684894, 0.009731263306125726, 0.0014224010293499845, -0.005688067649812112, -0.006726675434425289, 0.00869265552150722, 0.011915002750654935, 0.01401884928868391, -0.0008678622905406996, -0.0008678622905406996, 0.004298545663601772, -0.009842498788204423, -0.0028651849532215223, -0.005208710210783174, -0.008457688408727293, -0.007472342561826828, 0.0056567250742443065, 0.008506238739668603, -0.0007879693840209256, 0.00014411452523077628, 0.011648693062290327, 0.012580776971554464, -0.015994252589282, -0.008537581315249732, -0.0051288173042811636, 0.004831165040328322, 0.0007299958396096429, -0.0073391877176609555, 0.0014490319981872446, -0.017458955875254922, 0.013166658285937771, 0.012953610535238802, 0.016921624891783615, -0.002359196545358877, 0.007760571612281275, -0.00832453356457652, -0.015168692555361574, 0.010743240121892761, -0.0013472197295696375, -0.001853208137462481, -0.0037440069248102503, 0.022620652222648197, -0.0030249707662370895, -0.001320588760719943, 0.002434377845100144, -0.018204623002634257, 0.020596698591120344, -0.005794591525154047, -0.0013472197295776311, -0.02416996002185723, -0.006593520590230106, -0.013597465394043162, 0.019797769526029185, -0.014156715739588321, 0.007494261923911338, -0.010827844635121764, -0.002385827514181038, 0.0010761984344709319, 1.0959681050692893e-05, 0.012261205345510895, -0.007898438063176805, 0.005390415385887692, 0.0036860333803891976, -0.016633395841314957, 0.007680678705751731, 0.01116933562326583, 0.003446354660867179, 0.0017686036242059444, -0.0045961979275679354, -0.009416403286824249, -0.005634805712135815, -0.010960999479306288, 0.004964319884509294, 0.0121546814701734, 0.010397037527011044, -0.00057492163333972, 0.0007832577772894922, -0.002226041701176129, 0.0023278539697395573, 0.019691245650700573, 0.005603463136570674, -0.0011075410100662708, 0.010290513651646016, 0.0017686036242112735, -0.0027053991402015143, -0.007712021281340853, 0.004165390819428794, 0.010397037527007491, -0.0027053991402068434, 0.010317144620506369, -0.0015070055425931983, -0.00033524291382569515, 0.01636237454624201, -9.556419430367669e-05, -0.0028918159220578943, 0.0017952345930440927, -0.013384417643352187, -0.0014537436049275598, 0.00033053130706317546, 0.020463543746942925, -0.003424435298768458, -0.010534903977956311, -4.230225663093279e-05, 0.009118751022889171, 0.00030390033825078433, -0.01713938424920869, -0.004649459865242456, -0.012345809858747003, -0.0003352429138105961, -0.022731887704732223, 0.01007746590100389, -0.011493618856023069, -0.0022260417011725764, -0.006300579933061989, 0.003313199816679102, 0.011861740813006172, -0.005395126992609356, -0.013304524736869716, 0.00813340517596206, -0.012239285983425496, -0.007818545156673906, -0.0012140648854277458, 0.00965137039960684, 0.005869772824933506, 0.0012093532786758843, -0.006327210901867275, -0.001453743604928448, 0.0012626152163450755, -0.012692012453623391, 0.011142704654433011, -0.006992985122787232, -0.0166333958413194, 0.011142704654400148, -0.005315234086134879, -0.00944303425567572, -0.003557590142957423, 0.003899081131074844, -0.0011608029477319093, 0.0158297551695048, -0.015435002243709306, 0.004032235975257592, 0.010476930433512166, -0.010801213666290721, -0.01064142785327249, -0.0024124584830191864, -0.010721320759786046, 0.029544704119977006, -0.009123462629617052, -0.009309879411497413, -0.0014803745737523855, -0.02116066054340049, -0.019349754662604468, -0.008484319377576988, -0.012159393076919933, -0.006327210901871716, -0.002385827514175709, -0.018604087535178948, -0.001267326823077397, 0.008080143238280435, 0.024218510352790545, 0.007361107079733031, -0.00962945103752233, 0.01223457437668074, 0.0005435790577665855, 0.010343775589341853, -0.009389772317996758, -0.004676090834039748, -0.005688067649831652, 0.005443677323545337, 0.006082820575613823, 0.019478197900035354, -0.00622068702651557, -0.024116698084183597, -0.0014271126360894115, -0.0005749216333406082, -0.011600142731380103, 0.0047512721338138775, -0.019509540475590725, 0.00869265552152143, -0.008510950346419577, 0.006109451544440425, 0.008133405175965613, 0.00216806815673376, 0.0029936281906621787, -0.011014261416963045, -0.0020129939504762717, 0.006615439952329716, -0.012532226640626476, -0.00041513582033658736, -0.010455011071414333, -0.008351164533396904, -0.015488264181388267, 0.009438322648915864, -0.002492351389526526, 0.003552878536222437, -0.0006015526021805329, 0.006961642547186564, 0.004458331476615562, 0.004218652757112196, -0.006593520590249646, -0.004010316613158871, -0.006859830278600043, -0.012558857609444196, 0.0009164126214473711, -0.011786559513210726, 0.009118751022903382, 0.003499616598540811, -0.02217263735917374, 0.008586131646175055, -0.006540258652546704, 0.008985596178707311, -0.0004950287268377096, -0.01239907179645705, -0.004702721802888554, 0.0008365197149604597, -0.00614079412001356, 0.002807211408806687, 0.0012093532786465744, 0.002407746876258443, 0.004990950853336784, -0.004702721802882337, -0.0040103166131624235, 0.009757894274960321, 0.015643338387654637, 0.0006234719642570496, 0.0006234719642668196, -0.011120785292321855, 0.01785370880103443, -0.015754573869747546, 0.02030375793392558, 9.085258756602599e-05, 0.014871040291423832, -0.001906470075115685, 0.019185257242808618, 0.003419723692040577, 0.006029558637928645, 0.023419581287713598, 0.003419723692029919, 0.010263882682851388, 0.009172012960553921, -0.002385827514174821, -0.0034244352987577997, 0.001715341686555405, 0.010663347215362329, -0.009389772317978995, -0.0015070055425896456, -0.008644105190606766, 0.0008098887461285287, 0.016628684234613722, -0.013544203456391735, -0.01271864342248552, 0.0040056050064185555, -0.0011075410100609417, -0.007019616091588077, 0.021129317967822026, -0.01104089238583228, 0.01636237454622602, 0.015989540982537243, 0.004671379227317196, -0.0008412313216883405, 0.0036061404738729763, 0.00323330691017798, -0.01644697905948167, -0.001427112636082306, 0.018972209492122083, 0.02256739028497634, 0.004671379227312755, 0.004911057946832997, 0.005816510887247439, 0.009917680087971448, -0.01599425258928644, 0.00706816642253294, -0.0016135294179555615, 0.006615439952314617, 0.0030735210971553073, 0.0013691390916612534, 0.00781383354992915, 0.00475127213381743, -0.0072859257799633426, 0.0004104242135678504, -0.002678768171374024, -0.0028651849532037588, -0.01639371712183202, 0.006056189606775675, 0.0014224010293508726, 0.007094797391355101, -0.0018798391062864184, -0.00941640328683313, 0.0026474255957946724, 0.009225274898238212, -0.006593520590230995, 0.005257260541698727, -0.014423025427934277, 0.005949665731438181, -0.003983685644308288, -0.0074989735306463245, 1.0959681043587466e-05, 0.007281214173220363, -0.005554912805627588, 0.000916412621451812, -0.013650727331726564, -0.006726675434409302, 0.004618117289627577, 0.0022745920321023405, 0.007121428360193249, 0.005177367635192276, 0.0020881752502299733, -0.002545613327185947, -0.00017545710077548904, -0.014023560895414455, -0.013730620238220581, 0.016362374546244673, -0.01519532352419084, -0.0017733152309649114, 0.0060295586379321975, -0.001427112636076977, 0.007494261923895351, 0.01700151779828918, 0.0089855961787082, -0.008457688408727293, 0.013219920223601633, 0.010956287872560644, -0.0006015526021734274, -0.009522927162169736, -0.01618066937111795, -0.005448388930289205, 0.010610085277697578, 0.010876394966041758, -0.008670736159431591, -0.01263875051596397, 0.007440999986243035, 0.006295868326280818, -0.01564804999440117, -0.01705949134271023, -0.0020928868569907166, -0.005954377338167838, 0.0006767339019377872, 0.0003305313070702809, 0.0009696745591316613, 0.0030468901283260408, 0.014684623509593209, -0.007232663842278164, -0.010774582697464119, 0.012101419532489999, 0.0028338423776324007, 0.00781383354994869, 0.003978974037569749, 0.003526247567340768, 0.002114806219084997, -0.005608174743316319, -0.009336510380317797, 0.00741436901739867, -0.010401749133756688, -0.0101887013830666, -0.00028198097614939854, 0.0021946991255781256, -0.0020396249193055382, -0.0009743861658613184, -0.007179401904645388, 0.013166658285937771, 0.0010761984345109, 0.008532869708522739, 0.022940223848677554, -0.004143471457328296, -0.0006281835710000294, 0.0006234719642623787, -0.00579459152514783, 0.0002506384005673823, 0.0001973764628866448, 0.0019017584683931332, -0.007019616091595182, 0.012634038909212997, 0.008239929051318207, 0.013539491849618557, -0.011972976295056448, -0.015221954493036094, 0.005257260541696063, -0.0019331010439742613, 0.00019737646290796107, -0.006353841870708088, 0.0066420709211447715, 0.011275859498579344, -0.005821222493991307, 0.009678001368440547, -0.00329128045458571, 0.005124105697531078, -0.005608174743303884, -0.005341865054956152, -0.0019331010439920249, -0.009416403286829578, -0.0013472197295811839, 0.005496939261212752, -0.008830521972439165, -0.0065668896214186034, 0.005816510887236781, 0.002487639782768447, -0.015248585461864472, -0.0039570546754941205, -0.0014803745737621554, -0.005182079241929927, 0.014764516416092555, -0.0015868984491147486, 0.015217242886289561, 0.008373083895504507, -0.015142061586523425, -0.010668058822101756, 0.010263882682817638, -0.0049424005224247836, 0.0078937264564507, 0.006695332858829062, 0.0028871043153291254, -0.015408371274893362, -0.012212655014605112, -0.012718643422458875, -0.004889138584763586, 0.0004903171201018353, 0.015510183543483436, -0.0016934223244522428, 0.007813833549945137, -0.007285925779950908, 0.0023811159074043076, 0.01862600689729188, -0.006034270244692941, 0.0059762967002692235, -0.01783178943894015, 0.0032865688478400656, -0.012505595671789216, 0.021262472812024313, -0.007152770935789476, 0.005550201198886384, 0.0038458191933896657, -0.011120785292313862, -0.00922998650496698, -0.005661436680973075, -0.011493618856003529, 0.017081410704784084, 0.010530192371166258, -0.01729917006224646, -0.002598875264863132, 0.015616707418834253, -0.0020928868569765058, -0.0042499953326871065, -0.005688067649814776, 0.015483552574642623, -0.018897028192382592, -0.006939723185100277, -0.011067523354648223, 9.085258756247327e-05, 0.005656725074248747, 0.0009164126214580293, -0.003903792737808054, -0.008723998097099006, 0.004618117289641788, -0.004436412114515065, 0.007467630955082072, 0.010689978184210247, 0.01393895638217657, 0.0023811159074398347, -0.01980248113279348, 0.005070843759867216, -0.006247317995370594, -0.0009743861659003983, -0.015461633212550119, 0.008958965209870051, -0.01183982145088791, -0.002492351389527414, -0.013331155705700759, 0.005203998604024207, -0.00550165086796639, 0.015909648076022798, -0.006992985122766804, -0.01570131193206059, -0.0057146986186369375, 0.002780580439970315, 0.022141294783590837, -0.0010809100412174644, -0.005767960556323004, 0.00802688130063789, 0.004351807601271851, 0.0032599378790081346, 0.0033664617543349706, 0.008852441334538774, -0.018950290130057112, -0.0012406958542419133, -0.0037440069247915986, 0.00435180760127718, -0.009762605881696196, -0.012319178889941718, -0.006646782527907291, -0.00510218633542614, -0.006726675434425289, -0.010055546538876747, -0.014103453801921795, 0.011595431124616695, -0.011786559513201844, 0.022008139939434734, -0.004489674052195802, 0.01417863510169326, -0.004596197927543955, -0.015674680963232213, -0.0003618738826709489, -0.004649459865205152, -0.01114741626115201, -0.013890406051237036, -0.0048358766470730785, 0.006615439952319946, -0.0067266754344288415, -0.005235341179603559, -0.002385827514165051, -0.0007613384152023173, -0.020148683727660988, 0.00011748355640861519, 0.009544846524255135, 0.005470308292385262, -0.022758518673552608, -0.006833199309751237, 0.008479607770829567, -0.008457688408745945, -0.004223364363859616, 0.0020615442813936014, -0.005421757961451057, 0.010343775589350734, 0.0056034631365511345, -0.009150093598456976, -0.009016938754294657, 0.008532869708508528, -0.005155448273072238, -0.014982275773490983, 0.0053105224793830175, -0.01921659981840751, 0.0014490319981783628, 0.005656725074243418, -0.010481642040270245, -0.007046247060450206, -0.0018265771686234444, -0.01415671573961852, -0.015674680963241094, 0.00195502040605966, 0.0031800449724972424, -0.003823899831292721, -0.004383150176873407, -0.004809245678250029, 0.015510183543494982, 0.010423668495846528, -0.004356519208013054, -0.005581543774463071, -0.010694689790952339, 0.007387738048567627, -0.0035575901429689694, 0.004112128881756938, 0.008239929051320871, 0.0031800449725087887, -0.01389040605124059, -0.002785292046714183, -0.02654011624824637, 0.016948255860612882, 0.010769871090717587, -0.008351164533383582, -0.008058223876211912, -0.013411048612181453, -0.015514895150235297, -0.004702721802884113, 0.0009164126214740165, -0.011946345326236063, 0.0009430435902952894, 0.014551468665398914, 0.011089442716735398, -0.01729917006222248, -0.008297902595726825, -0.004542935989858776, 0.006322499295137618, 0.012341098252028004, -0.007365818686465353, 0.013140027317094294, -0.004782614709409216, -0.0074457115929575934, 0.016974886829463465, 0.016229219702051267, 0.004112128881771149, -0.017512217812925, 0.0008897816526225455, 0.009411691680084822, 0.0015022939358413367, -0.013783882175898654, -0.0007613384152005409, 0.006455654139309708, -0.014902382866981867, 0.002434377845115243, -0.005688067649826323, -0.0029983397973953885, -0.006913092216271899, 0.0028871043153202436, 0.001395770060505619, 0.005443677323537344, -0.01197297629506977, -0.0007080764775295734, -0.003131494641587018, 0.004511593414303405, 0.0047246411649775055, -0.00424999533268533, 0.0019550204060490017, 0.0049643198844968595, -0.00467609083406284, 0.006482285108146968, -0.01687307456086007, 0.005230629572873902, 0.0014490319981774746, 0.01822654236475163, 0.017560768143845884, 0.0007299958396087547, -0.0040103166131526535, 0.010317144620513474, 0.0013425081228302105, -0.002678768171367807, -0.00020208806963939452, 0.01644226745272004, -0.015621419025566574, -0.01495564480467948, 0.00014411452523166446, -0.0038771617689885574, -0.016526871965990786, -0.01298495311081016, 0.0021946991255887838, 0.0015289249046679387, 0.006508916076982452, 0.013166658285925337, -0.0007613384151996527, 0.006082820575616488, 0.0020881752502504014, -0.0070728780292652615, 0.005097474728716023, -0.0015070055425923101, 0.004005605006434543, 0.00022400743172923399, -0.01383714411357495, -0.002918446890888937, 0.008799179396863366, 1.0959681010724864e-05, -0.032878286831175885, 0.0335659804141768, -0.001453743604918678, -0.017352431999904105, 0.004245283725958338, -0.0007613384151792246, 0.010610085277703796, 0.007973619362939388, 0.015137349979795545, -0.013783882175895101, 0.010343775589343629, 0.008293190988953647, -0.014156715739599868, -0.006273948964211407, 0.007920357425275526, -0.0024124584830209628, 0.009331798773575706, 0.0007832577772797222, -0.007206032873431134, -0.01495564480467948, -0.014156715739594539, -0.022412316078693095, -0.020841088917388007, -0.004383150176846762, -0.00781854515667657, 0.001901758468396686, -0.011200678198823866, 0.002114806219084997, 0.011142704654405478, 0.0035795095050632497, 0.00927853683591362, 0.0008897816526314273, -0.024835734242752316, 0.006588808983492456, 0.008666024552680618, 0.0032066759413389434, -0.011946345326221852, 0.012820455691060495, -0.01053490397794743, -0.014955644804670598, -0.0025456133271877235, 0.0012892461851601311, 0.010317144620508145, 0.007574154830415125, -0.007339187717622764, -0.006407103808386161, -0.005421757961452833, -0.004809245678238483, -0.005981008306996216, 0.0212624728120252, -0.008510950346414248, 0.009704632337295571, 0.0066687018900113415, 0.015643338387674177, 0.004058866944098405, -0.012292547921092023, -0.011147416261133358, -0.007445711592980686, 0.008000250331786418, -0.0010010171347278884, 0.009331798773577482, 0.0031267830348387093, -0.01948290950677034, -0.0037440069248173558, -0.019189968849572026, 0.0033398307855163623, -0.009789236850521021, -0.013464310549856862, -0.013251262799180985, 0.0016354487800267492, 0.009624739430775797, -0.012638750515977293, 0.0036594024115510493, -0.003610852080639937, 0.016362374546234904, 0.017187934580153552, 0.00357950950504371, -0.010827844635127981, 0.00038379324475723564, -0.011440356918342331, -0.005634805712124269, -0.0009477551970364928, 0.009837787181477431, -0.0037972688624785533, 0.009598108461931432, -0.011200678198807879, -0.014476287365654983, -0.002891815922066776, 0.006136082513269692, -9.55641942992358e-05, -0.0006015526021636575, -0.001986362981646117, 0.012713931815704349, 0.0013957700605038426, -0.014715966085164567, 0.013672646693814627, -0.010614796884438782, 0.009358429742410301, -0.006646782527901962, 0.020809746341812208, 0.014844409322592789, 0.00994431105680249, -0.006327210901870828, 0.0076540477369313464, -0.004622828896375886, 0.015456921605804474, -0.007312556748807708, -0.005261972148463023, 0.006429023170468895, 0.008799179396847379, 0.0019550204060729826, -0.006327210901870828, 0.006136082513288343, -0.010774582697455237, 0.0027805804399791967, -0.0010276481035687013, 0.00672196382766721, -0.0023858275141543928, 0.011009549810237829, -0.004649459865223804, 0.020623329559946946, -0.022811780611246668, 0.007946988394108345, 0.015803124200665764, 0.005496939261218969, -0.00677993737208471, -0.002998339797408711, 0.002034913312566111, -0.0061141631511860695, 0.004564855351965491, -0.010375118164910546, -0.014130084770763496, 0.009411691680086598, 0.001342508122847974, -0.01016207041423467, -0.003557590142947653, -0.0195095404756076, -0.004809245678232266, 0.008213298082466736, -0.011280571105330317, -0.011120785292336066, 0.004804534071473299, -0.024835734242770968, 0.006162713482114057, 0.015137349979795545, -0.004969031491237175, 0.0065888089834915675, -0.006060901213502667, -0.0010542790723802042, -0.005235341179616881, -0.001933101043958274, -0.003371173361110813, 0.010210620745159993, 0.007414369017403999, 0.009864418150301368, -0.000974386165879082, -0.0019863629816283535, 0.009624739430770468, -0.0018532081374669218, 0.010530192371168923, -0.010188701383067489, 0.004484962445466145, -0.010188701383071042, 0.008772548428021665, -0.014236608646103655, -0.0029717088285536875, 0.00443170050778896, 0.0038990811310624096, -0.02193295863966238, -0.010668058822126625, -0.01977585016394645, -0.014050191864248163, -0.0040902095196724275, 0.007760571612266176, 0.003499616598535482, -0.013650727331723012, -0.011360464011846538, -0.005102186335437686, -0.004995662460090422, 0.012287836314349043, -0.013064846017336151, -0.013890406051238813, -0.002971708828551023, 0.010663347215379204, -0.018098099127301204, -0.01069468979094168, 0.01950482886886018, 0.00523062957285525, 0.007867095487601006, 0.01087639496607018, -0.001693422324457572, -0.0014004816672565923, 0.003180044972495466, -0.01042838010258329, 0.01604280292020377, -0.012692012453640267, -0.009123462629639256, 0.0005435790577674737, -0.0002020880696314009, -0.010428380102590395, 0.0011294603721472285, 0.012900348597601585, 0.006375761232804145, 0.004112128881761379, -0.0008678622905229361, -0.004276626301511932, -0.0025456133271779535, -0.0009477551970533682, -0.010934368510480574, -0.0004417667891436494, -0.004303257270368732, -0.004276626301521702, 0.020863008279479622, 0.012660669878064468, 0.014551468665391809, 0.003446354660867179, 0.006136082513292784, -0.0010276481035598195, -0.006992985122762363, 0.0036327714427146773, 0.01412537316401874, -0.0022526726699698685, -0.007445711592976245, -0.009336510380296481, 0.016628684234607505, -0.006992985122772133, -0.004649459865210481, 0.0005169480889151146, -0.0030516017350787905, 0.006961642547209657, 0.020543436653441383, -0.004889138584733388, 0.013086765379413556, -0.020814457948548082, -0.013837144113574062, -0.0011874339165842684, 0.006349130263950009, 0.0072812141732239155, 0.000197376462902632, 0.0016088178111930418, 0.002913735284143293, -0.007898438063191016, 0.0007832577772655114, 0.01457809963423351, -0.0011075410100609417, 0.004538224383138001, 0.003739295318060165, 0.012154681470176953, -0.01575457386974044, 0.002301223000936936, 0.00022400743173189852, -0.016074145495782233, -0.001400481667280573, 0.004458331476628885, 0.008559500677344012, 0.012154681470184059, 0.020010817276719273, -0.015994252589265123, 0.00802688130062812, -0.00989576072587095, 0.007414369017414657, -0.008191378720373343, 0.017960232676387022, 0.006642070921166088, 0.0022213300944278203, 0.007254583204385767, 0.0011560913409995877, -0.002279303638838215, 0.020996163123651712, -0.008750629065939819, -0.005102186335423475, 0.005923034762607138, -0.005741329587507948, -0.00017545710079591714, 0.0026207946269698468, -0.00864410519058545, 0.0013957700605091716, -0.009949022663557905, -0.017006229405024165, 0.004005605006420332, 0.00179523459305031, -0.010881106572790955, -0.011387094980691792, -0.0006015526021769801, 0.026215833015467815, -0.013517572487539375, 0.010530192371196456, -0.008191378720391107, 0.0017686036241864045, -0.015514895150251284, -0.016739919716676432, -0.0013205887607536937, -0.028430915035600357, -0.005288603117294954, -0.0058212224940144, -0.008084854845043843, 0.0028871043153086973, -0.0025988752648604674, 0.006056189606771234, 0.01697488682946169, -0.014636073178659004, -0.007072878029280361, 0.0018218655618804647, -0.021560125075953174, 0.0013158771539849567, 0.0001174835564041743, -0.013757251207060506, -0.004729352771729367, -0.002678768171383794, -0.007525604499503125, 0.015829755169527004, -0.004915769553575977, -0.0018532081374447174, 0.00688174964067656, -0.005821222494005518, -0.009682712975181751, -0.00920335553613949, 0.00341972369202459, 0.007467630955081184, -0.0003086119449724478, 0.013353075067787046, -0.00057492163333972, 0.015749862263009895, 0.007121428360198578, -0.014289870583787945, -0.013624096362875981, -0.012478964702947515, -0.007871807094360861, -0.0035575901429538703, 0.0004636861512459234, -0.002811923015561213, 0.02198150897057438, 0.015909648076009475, -0.0024657204206990357, 0.0020082823437315156, 0.007654047736914471, 0.0007033648707768236, -0.007365818686490222, -0.00483587664708196, -0.019962266945806384, 0.003845819193416311, -0.0008944932593664134, -0.02222589929685448, 0.00022400743171768767, 0.00946495361774602, -0.013490941518701227, -0.005901115400511081, -0.007419080624143426, 0.006375761232792598, 0.009518215555419651, -0.006673413496734781, 0.004165390819434123, -0.010002284601191569, -0.006966354153917997, -0.020095421789958046, 0.017720553956858787, -0.005341865054962369, 0.005363784417043327, 0.004458331476627997, 0.0093584297424254, -0.005288603117264756, -0.00022871903848908914, -0.010561534946782913, -0.004170102426160227, -0.011813190482062197, 0.0025409017204376383, 0.007627416768089645, 0.008452976801971879, -0.001373850698418444, 0.016175957764381188, -0.018470932690993536, -0.0063272109018841505, 0.0033930927232113106, 0.0010495674656390008, -0.008404426471070536, -0.0005482906645033481, 0.012314467283194297, -0.014289870583776398, 0.009172012960546816, 0.011622062093452179, -0.006779937372105138, 0.007547523861576977, -0.006247317995376811, -0.005155448273111318, -0.026886318843115653, 0.005150736666359457, -0.013411048612185894, -0.0024124584829996465, 0.0024610088139391806, 0.003952343068748476, -0.018204623002629816, 0.003952343068751141, -0.017592110719400367, 0.006349130263970437, -0.0030782327039098334, 0.013805801537976059, -6.893322545309388e-05, -0.0013205887607457, 0.0014756629670147348, -0.0031314946415736955, -0.01335778667452825, 0.012074788563675831, -0.0067533064032456736, -0.014023560895406462, 0.0014756629670289456, -0.008644105190602325, -0.00462282889639809, -0.004569566958724458, -0.02321124514377093, -0.006380472839540907, -0.0005749216333255092, 0.012074788563666061, -0.016686657778996583, -0.016100776464612387, -0.0029983397973945003, -0.01093436851046281, -0.00606090121351599, -0.010827844635127981, -0.011360464011834104, 0.008213298082485387, 0.0071214283602039075, 0.004511593414282089, -0.013171369892672757, 0.003925712099927203, -0.007712021281342629, 0.01867926883493798, 0.0005169480889302136, -0.006087532182367461, -0.012558857609460183, 0.002301223000917396, 0.0025941636581228167, 0.014684623509555017, -0.007392449655302613, 0.0024610088139391806, -0.006700044465585364, 0.006295868326312792, -0.017166015218042396, -0.0007613384151667901, 0.009571477493101277, 0.014578099634208641, -0.005182079241932591, -0.002918446890888049, -0.003424435298774675, -0.009895760725877167, -0.008990307785478713, -0.007791914187865956, 0.020969532154804682, -0.002385827514175709, -0.0003618738826611789, 0.008799179396866919, 0.0040322359752646975, -0.004542935989892527, 0.0036327714427164537, 0.006109451544431543, 0.015030826104445616, 0.015936279044876933, -0.009389772317987877, -0.01681981262317045, 0.0015289249046910314, -0.007552235468323509, 0.0018751274995514322, -0.011280571105332982, -0.0029184468908951544, 0.004351807601307378, 0.002727318502287801, 0.0030735210971712945, 0.014977564166755108, 0.005789879918402185, 0.013113396348261475, 0.0008897816526181046, -0.00683319930977877, 0.006935011578335093, 0.0009963055279982314, -0.0024923513894998806, 0.012793824722222347, 0.010530192371184022, 0.005097474728670726, -0.00329128045459548, -0.011253940136488616, 0.002301223000932495, -0.007019616091604064, 0.005017581822166939, -0.01247896470294485, -0.0013472197295634203, -0.009256617473811346, 0.007760571612267064, 0.004458331476630661, -0.005208710210771628, 0.00493768891565427, 0.0005435790577585919, -0.010960999479298295, -0.004116840488500806, -0.00954955813101499, 0.013299813130113414, -0.005608174743298555, 0.004671379227323413, -0.0004950287268226106, -0.0035309591741174984, -0.008670736159423598, -0.0004151358203268174, -0.004303257270377614, 0.0034463546608529683, -0.006433734777241185, 0.0005169480889177791, 0.02280706900449747, -0.0022260417011628064, 0.004644748258480824, -0.004729352771710715, -0.0010542790723757633, -0.021693279920137698, -0.007126139966963763, -0.014369763490281073, -0.011546880793691372, 0.0016088178111921536, -0.008297902595726825, -0.006034270244675177, 0.0022745920320863533, -0.0016135294179351334, -0.004090209519659105, 0.007494261923882917, -0.006034270244687612, -0.000947755197037381, 0.007627416768098527, 0.005603463136557352, -0.007791914187855298, 0.014737885447249965, 0.010397037527009267, -0.0036641140182824827, -0.0077919141878437514, 0.012580776971528707, 0.01835969720891306, 0.0008365197149373671, -0.010481642040244488, -0.0003618738826576262, -0.013597465394072472, 0.000969674559135214, 0.01298024150408672, 0.006508916076970017, -0.014316501552618988, 0.005816510887254545, 0.007094797391387964, 0.00123598424750071, -0.005315234086115339, 0.006588808983484462, -0.004303257270376726, -0.007525604499499572, 0.020596698591101692, -0.005341865054944606, -0.006939723185105606, -0.013331155705683884, -0.005821222493997524, -0.005182079241946802, 0.002620794626961853, 0.01340633700545446, 0.0035262475673878413, 0.001502293935852883, 0.009092120054063457, 0.008373083895486744, -0.00590111540050664, -0.007179401904625848, -0.015568157087883172, -0.0023059346076736986, -0.007206032873460444, -0.0053152340861073455, 0.005763248949581801, -0.0027852920467124065, 0.012021526625988876, -0.010028915570050145, -0.017618741688258943, 0.008745917459190622, -0.0015070055425949747, 0.009997572994474346, 0.00818666711362237, 0.005869772824908637, 0.008266560020147473, -0.013064846017343257, -0.0018798391062979647, -0.009975653632381842, -0.0021461487946581315, -0.019163337880729436, -0.008058223876200366, 0.00046368615126013424, 0.005976296700260342, -0.007445711592970028, 0.003845819193390554, -0.010854475603945701, 0.007707309674587215, -1.5671287796337197e-05, -0.0004417667891649657, 0.004698010196139357, -0.0017200532932815094, 0.009385060711241344, 0.01071660915302175, 0.0068018567341843195, 0.005017581822182926, -0.021746541857795343, -0.0035842211117902423, -0.015648049994412716, -0.005102186335440351, -0.0037972688624634543, -0.0006548145398452832, -0.011067523354662434, 0.00608282057559606, -0.005927746369341236, -0.0006814455086887605, -0.00366411401827893, 0.011169335623250731, 0.019611352744197674, -0.005688067649809447, 0.010876394966062186, 9.085258755536785e-05, -0.0025988752648506974, -0.0070462470604386596, 0.0027273185022913538, -0.012878429235466449, 0.008000250331778425, -0.013091476986179629, -0.00046839775799689676, -0.022172637359190617, 0.0062426063886205085, -0.004383150176868078, 0.0013691390916559243, 0.004138759850588869, -0.0018265771686341026, -0.023131352237258263, 0.006615439952335933, -0.010561534946762485, -0.00739244965529906, -0.005581543774461295, -0.011200678198821201, 0.004058866944093076, -0.001959732012799087, -0.013703989269389538, 0.0062426063886302785, 0.01369927766264123, -0.004303257270331429, -0.007845176125535147, -0.012905060204325025, 0.004458331476618227, -0.004383150176868966, -0.023797126458155127, 0.0130601344105985, 0.002487639782778217, 0.0065888089834817976, -0.0014803745737559382, -0.006913092216261241, 0.01937167402467388, 0.005097474728688489, 0.013459598943139639, -0.006407103808363068, 0.0001707454940520492, 0.0062426063886205085, -0.009123462629644585, 0.01021062074516621, 0.01681510101643724, -0.0012140648853913305, 0.00445833147663155, -0.010295225258408536, 0.008666024552697493, 0.010050834932143538, -0.007046247060454647, -0.000468397757978245, -0.023317769019114643, -0.014050191864250827, -0.013011584079641203, 0.006322499295127848, -0.0055815437744639596, -0.019882374039314143, -0.0010010171347163421, -0.006220687026529781, -0.002705399140219278, 0.000357162275917311, 0.002247961063263304, 0.014072111226346884, -0.0005482906645015717, 0.0175075062061687, -0.003983685644318946, 0.001662079748856904, 0.0022745920320828006, 0.009198643929392958, -0.005475019899145117, -0.001187433916582492, -0.005661436680973075, 0.0023278539697644263, -0.010002284601199563, -0.004249995332687995, 0.016042802920218868, -0.005102186335452785, 0.007494261923906009, -0.006700044465578259, 0.02027712696507855, 0.017347720393166455, -0.0039037927378213766, -0.0036907449871366182, 0.003659402411543944, -0.01346431054987729, -0.00952292716216352, 0.009438322648921194, -0.016873074560857404, 0.01018398977633339, -0.005901115400495982, -0.012345809858761214, 0.003313199816688872, -0.0047027218028752316, -0.005048924397772048, -0.008058223876196813, 0.007973619362963369, -0.010641427853281371, 0.008958965209867387, -0.001080910041215688, -0.013171369892677198, 0.01588301710719975, -0.002971708828566122, -0.00494240052242656, -0.0006814455086923132, 0.0005169480889186673, -0.0178850513766049, 0.005550201198895266, -0.008084854845043843, 0.016522160359230043, -0.005741329587496402, 0.006961642547187452, 0.005789879918421725, -0.005501650867955732, -0.006007639275847687, -0.005847853462819685, -0.0020129939504851535, 0.013406337005448243, -0.004835876647058868, 0.0038990811310624096, -0.024169960021889203, -0.016526871966011214, 0.004751272133828088, -0.004303257270366068, -0.009682712975195962, -0.003238018516907637, 0.010104096869804735, 0.018226542364718767, -0.005261972148428384, 0.0038458191934296337, 0.02621583301549446, 0.0016620797488657857, -0.004542935989885422, -0.003024970766219326, -0.00494240052239725, -0.0016934223244300384, -0.003477697236442978, 0.0045914863208089685, 0.015350397730464316, 0.006109451544422662, 0.017773815894520872, -0.006913092216273675, -0.009096831660811766, 0.023552736131901675, 0.009145381991733537, 0.004112128881770261, 0.011941633719491307, 0.020649960528794864, -0.010295225258425411, -0.010534903977916343, 0.011728585968802996, -0.004649459865238903, 0.019930924370225256, -0.0035842211117804723, -0.01516869255537312, 0.01636237454623668, -0.012612119547120493, 0.00794698839413499, 0.00861276261500521, 0.007680678705739297, 0.014551468665391809, 0.0033131998166915366, -0.014502918334470927, 0.005443677323540896, 0.024378296165799895, -0.01069468979096655, 0.0012093532786527916, -0.0032912804545874863, -0.001986362981654999, -0.0074723425618294925, 0.0016620797488782202, -0.00651362768372632, 0.009065489085216427, -0.006220687026541327, 0.0016887107176932759, -0.017565479750572877, 0.01367264669381818, 0.0006767339019315699, 0.004085497912931224, 0.004990950853329679, -0.003424435298773787, -0.0015602674802668304, 0.004484962445463481, 0.011222597560931469, 0.0009164126214598056, -0.007765283219012709, -0.02752546209517881, -0.014556180272141894, -0.002785292046725729, -0.017645372657094427, -0.014636073178634135, -0.0010809100411970363, -0.004409781145680469, -0.022944935455411652, -0.0019064700751325603, 0.0030202591594967743, -0.009203355536138602, 0.015430290636981425, 0.009704632337266261, -0.01740569393757241, 0.013779170569140575, 0.0033930927231944352, -0.006513627683712997, -0.004969031491238063, 0.0029936281906559614, 0.006322499295144723, 0.008532869708496982, 0.007121428360218118, 0.010716609153035073, -0.00113417197888932, -0.00560817474331099, -0.001879839106274872, 0.005283891510533323, 0.01002420396331516, -0.01072132075977894, -0.0058212224939984125, -0.015967621620437633, -0.01282516729780081, -0.009602820068687734, -0.006593520590246094, 0.02650877367266702, -0.015967621620431416, -0.0036374830494745325, -0.003983685644322499, -0.0004151358203277056, -0.023956912271160036, -0.00590111540049687, -0.007685390312506257, -0.011919714357405908, -0.0005482906645042362, -0.012212655014579354, -0.002625506233700392, -0.004303257270341199, -0.01162677370020937, -0.01796494428312556, 0.009065489085211986, 0.003792557255733797, 0.0012626152163095483, -0.011813190482080849, -0.01918996884956492, -0.0004151358203152711, -0.01748558684406909, -0.015648049994418933, 0.00033053130707916267, 0.005976296700252348, -0.0014271126360743125, -0.0002020880696314009, -0.011733297575532653, 0.009012227147572993, -0.011440356918364536, 0.004911057946838326, -0.01530184739953988, 0.020223865027431565, 0.009731263306126614, -0.0016934223244486901, 0.0014490319981668165, -0.004569566958704918, 0.004857796009176241, -0.009895760725882496, 0.008213298082481835, -0.0007347074463579517, 0.00046368615126013424, 0.0026207946269538596, -0.009975653632372072, 0.01678847004761508, -0.009229986504969645, 0.003339830785540343, 0.0010761984344833664, 0.007121428360216342, -0.013863775082425533, -0.0029184468909058126, -0.007206032873456891, -0.014076822833082758, 0.009092120054041253, -0.006806568340935293, -0.00707287802926615, 0.007494261923904233, -0.0032380185169209597, -0.003397804329937415, 0.0013957700605118362, -0.005581543774470177, -0.0027586610778636, -0.006593520590226554, 0.0014490319981712574, -0.009949022663568563, -0.0051021863354341335, 0.01473788544725707, 0.00733447611087179, -0.010401749133752247, 0.0071480593290358385, 0.016175957764382964, -0.009150093598475628, 0.00027726936939131974, -0.004729352771710715, 0.003100152066000561, -0.004063578550821845, 0.015403659668139724, -0.0030249707662308722, 0.002647425595787567, -0.002412458483011193, 0.006429023170491988, 0.0015555558735274033, -0.0003352429138283597, -0.0003352429138354651, -0.0013738506984228849, -0.00020208806964561177, 0.016948255860601336, 0.025044070386702977, 0.013166658285935107, -0.005448388930290093, -0.004170102426177991, 0.010476930433525489, -0.0017200532932912793, 0.01577649323184893, 0.006801856734170109, 0.00645565413930882, -0.01175992854436636, -0.006966354153926879, -0.002998339797408711, -0.000841231321706104, 0.016735208109933453, 0.010903025934889676, 0.006482285108151409, 0.009518215555438303, -0.016287193246456333, -0.017139384249210465, -0.0065935205902354355, -0.014769228022835534, -0.017698634594760065, -0.015088799648843576, -0.002652137202541205, -0.009309879411475208, -0.00872399809710167, 0.00523062957287479, 0.0007566268084460148, -0.0032646494857555552, 0.004911057946837438, 0.011728585968808325, 0.007174690297883757, -0.014556180272135677, 0.009757894274939893, 0.012607407940387283, 0.005550201198876614, -0.007072878029271479, 0.0007832577772957094, 0.0067485947964964765, 0.006029558637953514, 0.017960232676389687, 0.006748594796497365, 0.010716609153028855, 0.009651370399593517, 0.011542169186942175, -0.0014537436049177899, 0.00919864392939651, 0.013486229911973346, 3.759064988084759e-05, 0.011755216937634039, 0.004192021788260725, -0.00278529204669109, 0.015510183543498535, -0.012638750515948871, 0.00898559617871797, -0.0065402586525573625, 0.0003039003382472316, -0.010508273009116387, 0.00043705518241665686, 0.030370264153856574, 0.006642070921166976, -4.2302256605175614e-05, -0.0029184468908844963, 0.015483552574643511, 0.0017686036242254843, -0.0036108520805937516, -0.005075555366556017, 0.011329121436256528, -0.018444301722155387, 0.00339309272318733, 0.011568800155781211, 0.009571477493101277, -0.013411048612204546, -0.008670736159428039, 0.0042985456635964425, -0.005794591525168258, 0.007307845142048741, -0.0064071038084039245, -0.01146698788718492, -0.009869129757035466, -0.0031314946415594846, -0.007951700000869977, 0.017054779735965475, -0.0021727797634989443, 0.014844409322583907, -0.0007347074463686099, 0.014844409322575025, 0.0050708437598387945, 0.00608282057559606, -0.008963676816613919, 0.006109451544453748, -0.012239285983426385, -0.004835876647068638, -0.009123462629633927, -0.003983685644343815, 0.0003305313070702809, 0.003313199816692425, 0.007387738048562298, 0.016974886829464353, 0.00539041538588414, -0.007126139966944223, 0.009784525243805575, -0.019110075943059357, -0.001693422324443361, 0.011089442716750497, 0.007973619362954487, -0.004303257270382055, -0.010321856227250237, -0.01101426141697548, 0.0070947973913702, 0.016655315203426113, -0.0033711733610841677, -0.005581543774466624, 0.01124922852975807, -0.022944935455408988, -0.013570834425220113, -0.0015070055425940865, 0.012287836314366807, 0.01103618077908397, -0.003983685644342039, 0.005203998604024207, 0.008479607770849995, -0.011120785292311197, -0.0006814455086914251, 0.0025941636581112704, -0.007685390312515139, 0.0064556541393132605, -0.01061479688443967, 0.015590076449981893, 0.012154681470167183, -0.012026238232732744, -0.0023325655764887543, -0.019083444974216768, 0.009757894274950552, 0.01202152662599687, 0.0036061404738800817, 0.02014397212090646, -0.0020129939504709427, 0.001821865561882241, -0.0003086119449893232, -0.004036947582002348, -0.003664114018309128, 0.011675324031154233, 0.004538224383139777, -0.0008944932593832888, -0.007472342561817946, -0.0068331993097450194, 0.0017419726553811188, -0.0055016508679486265, 0.008053512269454721, -0.012345809858764767, -0.001214064885413535, -0.012319178889946159, -0.019882374039299933, -0.006513627683717438, 0.012181312439019543, 0.007121428360212789, -0.018444301722171375, -0.00022871903846066743, -0.02387701936467579, -0.01618066937112239, -0.007046247060446653, -0.0029450778597235328, 0.00440506953894193, 0.0033398307855128095, -0.005075555366595097, 0.007361107079731255, -0.009123462629636592, 0.014737885447227761, -0.020574779229049156, 0.015723231294172635, -0.017405693937559086, -0.011466987887185809, 0.006242606388616068, 0.016974886829452807, -0.001533636511433123, -0.01916333788074631, 0.0001441145252458753, 0.011302490467436144, -0.012585488578285009, 0.005656725074222102, 0.00501758182218115, -0.0016667913556034364, 0.009411691680076828, -0.007498973530674746, -0.0010010171347101249, -0.008750629065936266, 0.00411212888177559, 0.0021680681567257665, 0.015084088042107702, 0.009012227147538354, -0.018151361064983718, 0.0015022939358457776, -0.010455011071432097, -0.004995662460086869, 0.005310522479351931, 0.018839054647954434, 0.015163980948623035, 0.0010495674656514353, 0.01420526607052608, -0.0064603657460473585, -0.007392449655307054, -0.001267326823077397, -0.01474259705398584, 0.0019816513748596165, -0.017059491342693356, -0.005688067649808559, -0.005155448273105101, -0.0016934223244309266, 0.009970942025646856, 0.009518215555408993, 0.0055768321677343025, -0.003983685644342927, 0.008373083895492073, 0.015403659668142389, 0.002594163658119264, 0.015084088042119248, -0.0055549128056169295, -0.0014803745737479446, 0.00251427075160926, 0.008346452926656589, 0.026402249797316202, -0.013970298957749705, 0.005203998604033089, -0.013490941518719879, -0.0036641140182975818, 0.0030202591594967743, -0.0001754571008145689, 0.0037392953180530597, -0.02025520760300914, -0.013304524736855505, -0.01199960726390259, 0.011089442716717635, 0.0004370551824326441, -0.004782614709400335, 0.009411691680081269, -0.0074989735306409955, 0.0062426063886151795, 0.0008897816526314273, -0.010668058822111526, -0.01213276210808445, 0.010663347215364993, 0.003020259159500327, -0.004569566958719129, -0.007472342561810841, 0.006615439952310176, 0.007414369017370248, 0.016602053265747152, -0.005235341179609776, 0.0035528785362046733, 0.0009963055279698096, 0.020117341152070978, -0.009682712975173757, -0.00771202128132753, -0.0062739489642007484, 0.00938506071123868, 0.0007033648707919227, -0.00041513582031260654, 0.013938956382175682, 0.001209353278664338, -0.006540258652554698, -0.006407103808387049, 0.018546113990767665, 0.007148059329041168, -0.011147416261174214, -0.0018798391062873065, 0.002221330094426932, -0.010002284601208444, 0.001449031998189021, 0.009970942025627316, 0.007627416768066553, -0.010108808476569031, -0.005927746369337683, -0.0019331010439760377, -0.00832453356454188, 0.013805801537979612, -0.0037173759559552266, 0.011062811747903467, -0.01580783580743894, 0.006588808983471139, 0.003978974037575078, 0.007121428360206572, -0.001906470075160982, 0.016149326795535046, -0.002971708828551911, 0.002407746876263772, -0.0007613384151925473, 0.0004903171200680845, -0.000255350007305033, -0.004463043083362095, -0.0035575901429441004, -0.011706666606716709, 0.006375761232794375, -0.0064869967148935, -0.013144738923851484, 0.003952343068757358, 0.0026474255958088833, 0.006295868326291476, 0.01303350344173193, 0.004964319884497748, -0.008404426471066984, -0.0004683977579915677, 0.0075208928927388286, 0.00033053130707205725, 0.004271914694760071, 0.0006767339019511098, -0.006939723185082514, -0.013304524736851953, 0.002887104315301592, 0.015616707418829812, -0.008617474221739307, -0.0022260417011725764, 0.005390415385881475, 0.014178635101695036, -0.0040103166131642, -0.008857152941260438, 0.020516805684616557, -0.006140794120032211, 0.0020615442814184703, 0.012207943407874566, 0.0029669972218107077, 0.016442267452730697, -0.013437679581032924, 0.004218652757103314, 0.009864418150296927, -0.010135439445400962, -0.010934368510473469, 0.00392571209989967, -0.0043032572703403105, -0.010188701383059495, -0.010508273009109281, 0.009491584586599267, 0.02120921087434713, -0.00353095917411661, -0.014929013835867977, 0.0007033648707768236, 0.0004903171201036116, -0.005022293428920577, -0.015248585461862696, -0.0015070055425976392, -0.004809245678251806, 0.006695332858834391, 0.01087639496605508, -0.020414993416006944, 0.00014411452521922996, 0.021289103780851804, 0.0036860333803776513, -0.014582811240972049, 0.011329121436258305, -0.012425702765257896, 0.0033398307855030396, 0.006508916076988669, -0.00012219516313116685, 0.0024077468762504495, -0.0011341719788795501, -0.02459605552322497, 0.01303350344175147, -0.013703989269400196, -0.027578724032846225, 0.013725908631489148, -0.0027320301090352217, 0.007627416768068329, 0.006295868326318121, -0.010721320759802921, 0.006855118671844629, -0.007685390312498264, -0.0008944932593548671, 0.01617595776437941, 0.01090302593487813, 0.005709987011909945, 0.004644748258480824, 0.0037925572557302445, 0.006855118671844629, 0.007014904484869078, 0.007148059329043832, -0.01948290950676501, -0.0060875321823399275, 0.012767193753396633, -0.0033978043299454086, 0.005683356043094001, 0.011701954999955078, -0.009629451037494796, -0.009256617473826445, 0.015323766761614621, 0.006668701889995354, -0.006353841870724075, 0.0016620797488799965, 0.013725908631485595, 0.005843141856105127, 0.007760571612253742, -0.007126139966938894, -0.015701311932082795, -0.01386377508240244, 0.0165221603592407, 0.014950933197932947, -0.009043569723139022, 0.01018398977633872, 0.0017153416865394178, -0.01085447560395636, 0.011622062093457508, 0.003872450162247354, 0.004804534071484845, 0.010610085277690473, 0.009757894274959433, 0.004351807601291391, 0.013299813130116966, -0.007019616091628933, -0.00936314134919325, -0.0038238998313167016, -0.012905060204333019, -0.014023560895418896, 0.01431178994586979, 0.011941633719481537, -0.005022293428921465, -0.015301847399542545, -0.0014004816672361642, -0.00528860311729229, 0.0014490319981899091, 0.007281214173220363, -0.0039037927378169357, 0.00784046451876641, -0.005155448273088226, -0.01168003563786879, 0.004298545663597331, -0.0015602674802739358, 0.009251905867058596, 0.008772548428025218, 0.009624739430756257, -0.001986362981665657, -0.006034270244684947, -0.004516305021049938, -0.00840442647106876, -0.014689335116313984, 0.007254583204392873, 0.00107619843450113, -0.011733297575542423, -0.007845176125507614, 0.004085497912912572, -0.003238018516917407, -0.005528281836809867, -0.008004961938524957, -0.0030782327039240442, 3.759064986574856e-05, -0.0014271126360947406, -0.017751896532430145, 0.006855118671835747, 0.00448496244545904, -0.01655350293482183, 0.005816510887242998, -0.0077652832189922805, 9.085258755625603e-05, 0.00802688130061302, 0.010743240121867004, -0.006966354153940202, 0.01447157575888891, -0.01503553771118149, 0.004857796009159365, 0.010503561402338768, -0.004090209519659993, 0.011808478875315664, 0.00975789427493634, -0.002492351389507874, 0.0041653908194208, -0.012399071796450833, -0.011227309167662014, -0.0045163050210437206, 0.008000250331789971, -0.0004950287268181697, 0.008239929051311101, 0.001955020406044561, -0.0031048636727621926, -0.01101426141697015, 0.01380580153798494, 0.01479114738491738, 0.01574986226300723, 0.01971787661954938, -0.0021994107323406453, -0.005315234086118892, 0.006269237357455992, -0.0015868984491023141, -0.0006281835709947003, -0.012692012453642931, -0.003424435298769346, -0.0005216596956767461, -0.01026859428958371, 0.013060134410590507, -0.001693422324447802, 0.0019550204060481136, -0.014396394459130768, -0.0033711733610877204, -0.0011874339165487413, -0.00608753218234348, 0.0031267830348484793, 0.0013158771539929504, -0.007392449655297284, 0.007414369017412881, -0.011307202074162248, 0.007068166422541822, 0.015243873855139256, -0.004063578550856484, -0.005475019899125577, 0.0025941636580961713, 0.010796502059540636, -0.004409781145696456, -0.0060342702446662955, -0.0068065683409237465, 0.0005169480889275491, -0.0018265771686287735, 0.008133405175970942, -0.0064603657460624575, 0.0007566268084513439, -0.018604087535190494, 0.006029558637925092, -0.00475598374057018, 0.006002927669102931, -0.01679318165434296, -0.011600142731373886, 0.008106774207111478, 0.015749862263017, -0.022225899296850926, 0.0029936281906515205, 0.00584314185607937, -0.006673413496748104, -0.007632128374827296, 0.019238519180479585, 0.00536378441703711, 6.42216187314304e-05, 0.005976296700256789, -0.004143471457361159, 0.01058345430885499, 0.012101419532482893, 0.003339830785534126, 0.012607407940376625, -0.004755983740575509, -0.0038238998313202543, 0.014631361571892931, -0.004116840488519458, 0.004884426977984191, 0.0076540477369215765, -0.0015070055426038564, 0.0070415354536894625, 0.017880339769869913, -0.01423660864610099, 0.007840464518761081, -0.0057679605563247804, 1.0959681045363823e-05, -0.017911682345455482, 0.0015289249046750442, -0.0020928868569809467, 0.006961642547191005, -0.008484319377569882, -0.004196733395002816, -0.010028915570027941, 0.01625585067089741, -0.008084854845010092, 0.01801349461406243, -0.013597465394045827, -0.006007639275847687, -0.007925069032039822, -0.008937045847767777, -0.00470272180290543, -0.0032380185169396114, -0.0012939577918977818, 0.007227952235544066, 0.0007299958396247419, 0.00512410569753019, 0.0007299958396194128, 0.018439590115423066, 0.016575422296914333, 0.009544846524264905, -0.014369763490278409, 0.008452976802001189, 0.0064290231704768885, -0.004516305021054379, -0.0020129939504753835, 0.006668701889988249, -0.023477554832131986, 0.024884284573695403, -0.0006281835710240102, -0.0009743861658781938, -0.007925069032012289, 0.0007299958396185247, 0.0019283894372348342, 0.0036061404738827463, -0.0014803745737586027, 0.0015821868423460117, 0.014924302229105457, 0.00512410569752042, -0.009176724567316441, -0.00946966522450765, 0.01955809080650095, 0.011755216937612722, -0.003690744987131289, 3.759064988706484e-05, 0.011329121436248535, -0.0018798391062739839, 0.0032333069101921907, -0.015861097745082375, -0.003664114018294029, 0.012687300846892846, 0.02001081727673526, 0.008346452926654813, 0.013859063475671007, -0.0030516017350779023, 0.006508916077004656, 0.01335307506778971, -0.005288603117286961, 0.009571477493076408, -0.003584221111788466, 0.01766729201918249, -0.010481642040271133, 0.014311789945876008, 0.010689978184212912, 0.005789879918427943, -0.011253940136473517, 0.002727318502297571, -0.007072878029286578, -0.011866452419709184, -0.00017545710079946986, -0.00403694758200146, -0.004170102426176214, -0.014050191864273032, 0.018173280427058458, 0.005363784417059314, 0.006668701889987361, 0.0201173411520843, -0.009363141349160387, -0.005927746369318143, 0.014950933197939165, -0.0028651849532126406, -0.010188701383058607, 0.008879072303359159, -0.008457688408747721, 0.017241196517811197, 0.006642070921164311, -0.002678768171353596, 0.0027273185022904656, -0.017698634594770724, -0.019482909506776558, -0.0006814455086878723, -0.01138709498068824, 0.0019550204060676535, 0.011835109844131608, -0.010854475603961689, -0.004249995332669343, -0.0007879693840200375, 0.003978974037573302, -0.006859830278584944, -0.008351164533370259, 0.0018218655618795765, -0.008697367128257305, 0.002940366252976112, -0.011999607263904366, 0.013379706036614536, 0.0006767339019564389, -0.006380472839549789, -0.0017466842621143286, 0.003552878536193127, -0.0031048636727275536, -0.0007879693840440183, -0.002838553984393144, 0.011648693062314308, 0.0042985456636222, 0.000863150683793279, -0.011706666606714045, -0.0068331993097654475, 0.008080143238295534, 0.02011734115208963, -0.010960999479287636, -0.023317769019112866, -0.0008412313217025513, -0.006859830278590273, -0.022492208985215534, -0.001400481667269915, 1.0959681055133785e-05, -0.007339187717627205, -0.0048625076159245495, -0.00259887526486402, 0.004058866944093964, -0.003451066267610159, -6.89332254566466e-05, 0.01684173198527894, -0.01338441764336995, 0.007733940643412929, 0.0015555558735265151, -0.015275216430705285, 0.0027539494711561474, 0.0054170463547000836, 0.0002772693694250705, 0.0034463546608733964, 0.0025675326892704575, 0.0033131998166853194, -0.008377795502238605, -0.005155448273082008, -0.0026255062336915103, -0.0007879693840138202, -0.00904356972311593, 0.005203998604017102, -0.017006229405020612, 0.0048311650403389805, 0.0017419726553802306, -0.02078782697970727, 0.006082820575598724, -0.021107398605746397, -0.010108808476569031, -0.005208710210767187, -0.020548148260178145, 0.013459598943130757, -0.01237244082758604, 0.007893726456472017, 0.008958965209878933, -0.010455011071434761, -0.008404426471079418, 0.008319821957826434, 0.010849763997216044, -0.002732030109051209, -0.001693422324432703, -0.020228576634182538, -0.0015336365114242412, -0.021426970231765097, 0.00858613164618749, 0.014764516416093443, -0.004542935989880981, -0.008883783910109244, -0.011999607263905254, 0.0063491302639615554, 0.013592753787317946, -0.005794591525172699, -0.004170102426169109, 0.007547523861566319, -0.00515544827307135, -0.0010809100412272343, -0.0052087102107707395, -0.007472342561810841, 0.0005702100266047339, -0.009176724567318217, 0.0037126643492140232, 0.001821865561876912, 0.004458331476644872, 0.0005968409954428822, -0.014023560895410903, -0.011866452419738494, 0.005949665731428411, -0.0010542790723775397, -0.011387094980657153, 0.0014224010293286682, 0.008825810365695297, -0.0036641140182958054, -0.011067523354647335, 0.014391682852399335, 0.019238519180494684, 0.0053371534482096195, 0.0033664617543927022, -0.01527521643070795, 0.021182579905526744, 0.014338420914700833, 0.005097474728693818, 0.005390415385887692, -0.004755983740576397, 0.004192021788273159, 0.012847086659917295, 0.001395770060510948, -0.01559478805673109, 0.005177367635210928, 0.006056189606762352, -0.00933651038035066, -0.007072878029283913, 0.0048045340714919504, -0.00036187388266384346, 0.019691245650699685, -0.007152770935776154, 0.01417863510169326, -0.011546880793708247, -0.00526197214844526, 0.0003837932447634529, 0.0019550204060490017, 0.008932334241042561, 3.75906498764067e-05, 0.001981651374897808, 0.0007033648707812645, -0.0031314946415825773, 0.011009549810229835, 0.0023278539697555445, 0.0037925572557355736, 0.004884426977990408, -0.0006548145398559413, -0.0014803745737594909, -0.017458955875235382, -0.018790504317022894, -0.009043569723099942, 0.00895896520987538, -0.007019616091593406, -0.013331155705673225, -0.00731255674879705, -0.0008944932593788479, -0.005022293428926794, 0.007174690297881092, 0.007174690297866881, -0.015887728713911642, 0.00381918822457461, -0.0038238998312998262, -0.013304524736844847, -0.023264507081425023, 0.013459598943135198, -0.003078232703928485, -0.01921659981842705, 0.005976296700292316, -0.009842498788194654, 0.009944311056797162, -0.011972976295061777, 0.002088175250232638, -0.00606090121349645, 0.006855118671841076, -0.006966354153926879, 0.0011294603721534457, 0.026375618828510916, -0.0015868984491138605, -0.009363141349155946, 0.018519483021940175, -0.008564212284078998, -0.01596762162043408, 0.0037925572557213627, -0.00022871903848464825, 0.006668701889991802, -0.0036108520806141797, 0.004564855351964603, -0.014103453801910248, 0.0017952345930485336, -0.01293169117315962, -0.004063578550850266, 0.015057457073259783, 0.004351807601269186, 0.002487639782782658, 0.0025409017204536255, 0.014285158977036971, 0.015403659668128178, -0.006353841870727628, -0.0038771617689885574, -0.01724590812455773, -0.0003885048515011036, -0.005821222493992195, 0.010743240121863451, -0.010028915570041264, -0.016233931308796024, 0.010876394966047975, 0.003686033380375875, -0.00760549740598826, -9.556419430634122e-05, -0.0009743861658710884, -0.009443034255649074, 0.0005968409954091314, 0.007121428360227888, -0.007898438063204338, 0.020996163123655265, -0.014929013835829785, -0.0024657204206768313, -0.00401031661315443, 0.00879917939684649, -0.0002287190384864246, -0.015381740306063207, 0.006029558637941079, -0.004596197927556389, -0.0028918159220552297, 0.004564855351960162, 0.00493768891567381, 0.0034996165985434757, 0.01511071901095562, 0.007494261923911338, 0.0043784385701162165, -0.002172779763498056, 0.01668194617226426, -0.0014271126360947406, -0.011147416261178655, -0.003797268862467895, 0.0048844269779868554, 0.007920357425292401, -0.01258548857829922, 0.013033503441763905, -0.019616064350938878, -0.0152219544930281, -0.026380330435223698, -0.01197297629506, -0.016154038402307336, 0.005763248949579136, -0.00622068702654488, 0.007920357425271973, -0.006540258652580455, -0.02353081676981361, 0.006109451544438649, -0.008617474221733978, -0.007712021281360393, 0.0052039986040215425, -0.00185320813746781, 0.00017074549405471373, -0.011413725949521947, -0.009123462629621493, -0.0034776972364545244, -0.014955644804668822, 0.011275859498574015, 0.006642070921162535, -0.011094154323512129, -0.014982275773499865, -0.004969031491238063, -0.013198000861510906, -0.017938313314271426, 0.011488907249279201, 0.005656725074233648, 0.0016354487800169792, -0.0032912804546123553, -0.02108076763692246, 0.00041042421358650216, 0.01058345430885943, 0.005923034762584045, 0.008799179396862478, 0.01745424426851283, -0.010801213666290721, -0.0028385539844020258, -0.014423025427959146, 0.02861262021068356, 0.006668701889991802, -0.002518982358329147, -0.01223928598343349, -0.01703286037386409, -0.0010010171347039076, 0.01633574357738432, -0.0009743861658737529, 0.0019550204060676535, 0.014178635101690595, 0.0038724501622340313, -0.006060901213507108, 0.010077465900981686, 0.007068166422548039, 0.007014904484871742, -0.018257884940330094, 0.018785792710290572, -0.0070728780292697024, -0.004702721802891219, 0.0015821868423531171, -0.015461633212540349, 0.013113396348277462, 0.02006407921442488, 0.001475662967030722, -0.006034270244692053, 0.0044050695389517, 0.002966997221808043, 0.007574154830416013, 0.011382383373933713, 0.010876394966049752, -0.01594099065158794, -0.0076587593436858725, 0.017294458455481276, 0.0013691390916710233, -0.006566889621386629, 0.002700687533454982, -0.011360464011853644, 0.013086765379409115, 0.0017419726553589143, 0.004724641164986387, -0.011733297575532653, 0.015456921605809804, 0.012554146002706545, -0.005554912805634693, 0.006136082513286567, -0.013251262799184538, -0.002012993950462061, -0.009443034255674831, -0.0008146003528519685, 0.0030202591594878925, -0.01056153494678913, -0.001959732012808857, 0.013779170569164556, -0.00350432820528912, -0.0036641140182975818, 0.0029137352841326347, -0.004755983740564851, 0.0008897816526269864, 0.00680185673417899, 0.0033664617543740505, 0.016149326795540375, -0.009762605881689979, -0.020947612792721948, 0.0013957700605100598, 0.010716609153051948, 0.0012093532786456862, 0.006881749640667678, 0.0020349133125465713, -0.008510950346406254, 0.016788470047602644, -0.004835876647064197, 0.014072111226351325, -0.006913092216269234, -0.006673413496737446, 0.004058866944098405, -0.00976260588169886, 0.006242606388637384, 0.00648228510816562, -0.003104863672745317, -0.00949629619334047, 0.028799036992555038, 0.017880339769877907, -0.009815867819354729, 0.0013691390916630297, 0.0036860333803829803, 0.0009430435902872958, -0.013304524736871493, -0.0006281835710142403, -0.000681445508686096, -0.004143471457347836, -0.0011341719788910964, 0.016974886829464353, 0.023472843225400553, -0.01988237403931592, -0.000335242913839906, -0.0008944932593717425, 0.0006234719642712605, 0.002647425595792896, 0.0033398307855279086, 0.006961642547191893, 0.011728585968787009, -0.007791914187857962, -0.009416403286824249, 0.002274592032089906, -0.003317911423422082, 0.004165390819416359, -0.002359196545310027, 0.0016088178112019236, 0.009571477493110159, -0.01564804999440028, 0.0018484965307212775, -0.018630718503998445, -0.0038505308001290928, 0.0064556541393185896, 0.0015555558735078634, 0.00917201296054948, -0.01223928598343793, -0.007472342561810841, 0.002753949471123285, -0.0015868984491174132, -0.01575457386974133, 0.003978974037575966, -0.005661436680980181, -0.002465720420690154, 0.02019723405859075, -0.010188701383065712, 0.0070681664225507035, 0.002034913312570552, 0.0014224010293641953, -0.013597465394051156, -0.0035043282052722446, 0.006695332858826397, -0.009682712975178198, 0.010716609153043954, -0.010614796884442335, -0.004436412114537269, 0.010077465900996785, -0.0007879693840333601, -0.008723998097117658, 0.0007033648707839291, 0.0092252748982391, 0.014125373164001864, -0.005901115400479107, -0.007339187717647633, 0.0004903171200991707, -0.008537581315239962, 0.017640661050361217, -0.008351164533389799, 0.015350397730451881, -0.019642695319769032, 0.0004636861512707924, 0.012607407940356197, 0.003339830785511033, 0.011728585968785232, -0.008191378720362685, -0.002252672669997402, 0.011089442716755826, -0.012878429235488653, 0.015004195135594145, 0.0037925572557391263, 0.010583454308846996, -0.0039037927378204884, -0.012026238232732744, -0.0002553500072970394, 0.008985596178687771, 0.0013691390916630297, -0.005794591525175363, 0.009598108461918109, -0.016260562277632395, -0.0007613384151978764, 0.0006501029330863162, 0.008160036144793104, -0.004036947582003236, -0.006859830278591161, 0.011009549810230723, -0.021213922481100767, -0.005581543774476394, -0.0081647477515423, -0.0012673268230694035, 0.012074788563673167, 0.007121428360205684, -0.004755983740556857, -0.013437679581032924, 0.005709987011925932, 0.009997572994473458, 0.007227952235546731, 0.0062958683262932524, -0.0040369475820041245, 0.0005169480889160027, 0.005230629572862355, -0.001320588760759911, 0.008080143238278659, 0.0015022939358706466, -0.004622828896390985, -0.019030183036568005, 0.014365051883532765, -0.0007080764775295734, -0.003610852080636384, -0.008857152941263102, -0.005714698618636049, 0.004644748258480824, -0.009762605881691755, 0.015936279044867163, 0.0023544849385777056, 0.0008631506838074898, -0.0021195178258270886, -0.013783882175901319, 0.008319821957812223, 0.0012359842474891636, -0.007685390312493823, -0.004782614709395894, 0.006668701890006901, 0.0033664617543296416, 0.0018751274995478795, 0.012420991158510475, 0.010104096869833157, 0.013885694444493168, 0.021422258625031887, 0.0069350115783475275, 0.0053105224793679184, -0.016580133903669747, 0.00022400743172656945, 0.003100152065995232, 0.019398304993499593, 0.005310522479354596, 0.02168856831340893, -0.0014537436049302244, -0.004170102426169997, -0.011653404669037748, -0.0003885048514851164, -0.0016401603867644, -0.0039304237066675185, 0.01524387385513215, 0.009571477493108382, 0.005763248949569366, -0.014050191864250827, 0.0082132980824694, -0.012984953110837694, 0.00826656002016346, 0.0019283894372223997, 0.010397037527009267, 0.003792557255716922, -0.00944303425567039, -0.009762605881681985, 0.007520892892742381, 0.002514270751600378, -0.0038505308001575145, 0.014764516416064133, 0.0014756629670387156, -0.01088110657280339, -0.004969031491254938, 0.005896403793751226, -0.010428380102606383, 0.008373083895501843, -0.0008412313217052159, 0.0007566268084309158, 0.028985453774393655, 0.005949665731416864, -0.006806568340926411, -0.01066805882210975, -0.0017999461998030597, 0.011515538218120014, -0.013570834425222777, 0.009358429742420071, -0.0048625076159094505, 0.00011748355638019348, -0.004409781145681357, -0.004942400522396362, -0.012186024045746535, -0.0041434714573354015, -0.0056614366809837335, -0.025075412962275223, -0.003637483049446999, -0.004036947582005013, 0.015723231294162865, -0.0006281835709991412, -0.0042766263015137085, -0.0014271126361027342, -0.008537581315246179, 0.014684623509586103, -0.011786559513200956, -0.003744006924797816, -0.006273948964216736, 0.004458331476622668, 0.013592753787318834, 0.011089442716752274, -0.011333833043020825, 0.0008631506837879499, 0.0011560913410049167, 0.006775225765362158, 0.016602053265756922, 0.0034197236920281426, 0.0057898799184421534, -0.02222589929683405, -0.010827844635122652, 0.015803124200661323, 0.012687300846878635, 0.007787202581098107, 0.006189344450955758, 0.013699277662625242, 0.004831165040322993, -0.007498973530649877, 0.02080974634182553, -0.00925661747380957, -0.01996226694581793, -0.005927746369337683, 0.011701954999972841, -0.01439639445910057, 0.006082820575595171, -0.006673413496744551, 0.011195966592078221, -0.0017733152309515887, -0.006433734777215427, -0.015115430617687053, 0.009278536835891416, -0.007099508998109627, -0.0015868984490978733, 0.009784525243784259, 0.00704153545371522, 0.004138759850609297, 0.008799179396858925, -0.011333833043010166, -0.007498973530657871, -0.003903792737812495, 0.0033930927231757835, 0.007227952235529855, 0.002381115907410525, -0.001959732012794646, -0.006700044465570265, 0.004911057946830333, -0.013544203456380188, 0.01463136157189826, -0.00662015155906559, 0.0012093532786572325, 0.005496939261218969, -0.00792506903203094, -0.005315234086118004, 0.005470308292371051, -0.006779937372078493, -0.0026521372025190004, -0.010588165915608627, -0.0006548145398577176, 0.002594163658119264, -0.0060342702446813945, -0.018870397223532898, 0.01247425309618766, -0.002865184953205535, 0.012394360189702525, -0.002412458483021851, -0.005554912805634693, 0.0028338423776377297, -0.003557590142956535, -0.009336510380328455, 0.003952343068753805, 0.008319821957812223, -0.0019064700751503239, 0.0005435790577692501, -0.009949022663552576, 0.014551468665389145, -0.007765283219001162, 0.001928389437203748, 0.004511593414308734, -0.0010542790723730988, 0.02144888959387714, 0.0018484965306919676, -0.01077458269745879, -0.01231917888994083, -0.016739919716680873, 0.015057457073273994, 0.00605618960675347, 0.013086765379417109, 0.013486229911984893, 0.004804534071484845, -0.002758661077888469, 0.000863150683798608, -0.012505595671780334, -0.00843105743991135, -6.893322546375202e-05, 0.007254583204383991, -0.02781840275237446, 0.0007566268084451266, -0.00520871021077518, -0.00331791142343274, -0.0039836856443260515, 0.010237251713977713, -0.013730620238213476, 0.012607407940394388, 0.009198643929405392, 0.02507070135553935, -0.00630057993303712, -0.012478964702924422, 0.00272731850229313, 0.0017686036242219316, -0.006833199309766336, -0.004889138584749375, -0.005475019899125577, 0.010183989776339608, -0.00020208806965804627, 0.014365051883543423, 0.01300687247293375, -0.004436412114530164, -0.013331155705680331, 0.001475662967015623, 0.0066420709211696405, 0.003286568847850724, -0.008750629065930049, -0.005794591525161152, 0.008026881300624567, 0.002034913312585651, 0.004271914694790269, 0.0037925572557364617, -0.0029983397974007175, -0.0036907449871321774, 0.013299813130113414, -0.0058744844316667155, 0.011675324031112488, 0.0007299958395909911, -0.013437679581047135, 6.422161870478504e-05, -0.0019064700751343366, 0.0034463546608689555, 0.009678001368437883, 0.0027805804399694267, -0.006300579933030015, -0.005528281836806315, 0.02674845239218282, -0.01703286037386942, 0.006455654139316813, -0.0012406958542330315, -0.012186024045758082, -0.0003352429138354651, -0.007019616091617387, -0.012159393076918157, 0.015962910013678666, -0.01666002681017087, -0.020548148260187027, -0.015967621620427863, -0.011174047229986606, -0.005821222493987754, -0.0006548145398381777, -0.007712021281325754, -0.0031847565792562094, -0.0028385539843860386, 0.009997572994483228, 0.0057099870119179386, 0.0181999113958895, 0.018759161741442654, 0.00925190586705682, -0.00046839775798535044, -0.007259294811145622, 0.005124105697522197, -0.0006015526021672102, 0.0010229364968061816, -0.011227309167679778, -0.0027053991402032906, -0.00012219516314271317, -0.0047027218028947715, 0.017827077832202498, 3.759064987818306e-05, -0.002732030109051209, 0.00914538199172732, -0.014795858991654143, 0.020969532154826, 0.0069350115783528565, -0.00472935277173292, 0.0002240074317372276, 6.422161872432497e-05, -0.0065668896213839645, -0.00965608200634449, 0.004378438570108223, 0.013779170569148569, -0.012239285983413062, 0.00027726936939931335, -0.000548290664498019, -0.01018870138306216, -0.016500240997139315, -0.004676090834056623, -0.01077458269745346, -0.009922391694717092, 0.002247961063253534, -0.022918304486593932, -0.007099508998110515, 0.004538224383151324, -0.0025456133272028225, -0.006194056057684527, 0.007680678705752619, -0.013890406051241477, 0.006935011578361738, 0.00381918822456484, 0.0024343778451010323, -0.00030861194498754685, -0.0005216596956882924, -0.014023560895419784, -0.002865184953224187, -0.009522927162188388, 0.00019737646289108568, -0.007126139966949552, -0.00853758131525062, -0.0022793036388355503, 0.006242606388634719, -0.007312556748793497, 0.0173743513619824, 0.002061544281421135, -0.010428380102581514, -0.02326450708144634, -0.01863071850402509, 0.0009430435902890721, -0.0035309591741219393, 0.00656217801465786, 0.009092120054060793, 0.015456921605802698, 0.01449820672773594, 0.005683356043087784, 0.005017581822192696, -0.00424999533268533, -0.010960999479316058, -0.030374975760599554, -0.0063804728395373544, -0.0003086119449688951, -0.004276626301533248, 0.010956287872586401, -0.003717375955966773, -0.006540258652571573, -0.012345809858780754, -0.002226041701155701, -0.014209977677261065, 0.003899081131070403, -0.008244640658062963, 0.004378438570108223, 0.0030468901283144945, -0.01642034809063908, 0.007574154830424007, -0.013411048612195664, 0.015936279044845847, -0.016660026810178863, -0.0020396249192966565, 0.007148059329028733, -0.012532226640622923, 0.008586131646166173, -0.007206032873430246, -0.0011075410100529481, 0.005443677323541785, -0.01540837127489425, -0.0002553500073041448, 0.004671379227302985, -0.005608174743286121, 0.0035262475673540905, 0.008586131646183048, 0.00027726936941174785, 0.006482285108135422, -0.008191378720376008, -9.556419428768947e-05, 0.009997572994470794, 0.007227952235546731, -0.0011874339165593994, -0.017352431999899665, -0.010028915570053698, -0.0028651849532428386, -0.0028385539843869267, -0.007259294811118089, -0.00496903149123451, 0.0003305313070729454, -0.006087532182355027, 0.01385906347567456, 0.0015289249046803732, -0.009150093598465858, 0.009358429742404972, 0.004538224383128231, -0.0029450778597430727, -0.005475019899110478, 0.012873717628738568, 0.00070336487076883, -0.0006015526021867501, 0.005976296700256789, 0.005896403793748561, 0.0003305313070871563, 0.0070149044848726305, -0.010215332351905637, 0.0030735210971499782, -0.008351164533403121, -0.008564212284075445, 0.012740562784548715, 0.008266560020166125, 0.00033053130707649814, 0.0034463546608600737, 0.0004903171200973944, -0.012851798266656722, 0.01042366849581633, 0.0006767339019653207, -0.016207300339941888, -0.004356519208006837, -0.0007080764775331261, 0.002966997221841794, 0.0027805804399569922, -0.016553502934822717, 0.004192021788257172, -0.005901115400491541, -0.010108808476547715, -0.0034776972364456427, -0.011387094980697121, 0.008958965209862946, -0.008351164533419109, -0.01636708615297522, 0.0011827223098110906, 0.01721456554896328, 0.013353075067796816, -0.0084843193775761, -0.009869129757065664, 0.0007299958396291828, 0.003313199816678214, -0.011946345326238728, -0.010508273009107505, -0.0038505308001424154, -0.0035575901429538703, 0.011195966592099538, 0.006855118671831306, -0.02211937542150011, -0.012771905360139613, 0.000490317120095618, 0.004484962445440388, -0.002891815922047236, 0.012900348597573164, -0.006992985122756146, 0.009411691680076828, 0.0021946991255736847, -0.0017200532932717394, -0.002945077859728862, -0.007632128374816638, -0.0022793036387973586, 0.0023811159074274, -0.005501650867968166, -0.0034510662676039416, 0.0028338423776501642, -0.013917037020061862, 0.005310522479378577, -0.002172779763491839, -0.006087532182351474, 0.009731263306123061, -0.0017733152309435951, -0.017751896532419487, -0.00595437733816695, 0.0019816513748898146, -0.008271271626902, 0.008373083895483191, -0.009150093598475628, 0.01950482886886462, 0.003925712099917433, -0.0010010171347101249, -0.01234580985874345, 0.018759161741471964, 0.006136082513261698, 0.015616707418819153, -0.009016938754286663, -0.0074989735306409955, -0.014289870583777287, 0.02315327159935876, 0.007840464518772627, 0.004857796009186011, -0.0001488261319719797, 0.009145381991725543, -0.011040892385829615, -0.013624096362884863, 0.008319821957825546, 0.008399714864333774, 0.001129460372149893, -0.006566889621397287, 0.00033053130706406364, -0.012638750515964858, -0.0009743861658808584, -0.004782614709394117, -0.010055546538882965, -0.002492351389511427, 0.005496939261218969, -0.005794591525170034, 0.008985596178707311, 0.0035795095050508152, -0.0020129939504895944, 0.001635448780016091, 0.0013957700605073953, -0.005341865054941941, 0.0098644181502765, -0.0013738506984291021, -0.016819812623158903, -0.003690744987140171, 0.010423668495862515, -0.0024923513895149796, -0.016553502934824493, -0.008937045847796199, 0.009358429742420071, 0.013699277662651888, -0.016154038402311777, 0.010317144620517027, 0.015004195135622567, 0.008293190988988286, 0.006002927669096714, -0.009443034255643745, -0.007685390312511586, -0.013570834425205014, 0.0010229364968150634, 0.017960232676390575, -0.0028385539843718277, -0.011493618856029286, -0.003211387548100575, 0.005496939261201206, -0.010295225258407648, 0.007520892892737052, -0.001293957791913769, 0.013432967974283727, 0.01047693043352016, -0.0037972688624607898, -0.0009211242282187726, 0.0037126643492095823, 0.006109451544445754, -0.008218009689223038, 0.00730784514205407, -0.003637483049446111, 9.085258754648606e-05, -0.014476287365631002, 0.016655315203428778, 0.007387738048567627, -0.00438315017685742, -0.0030249707662610703, 0.0015821868423389063, 9.085258755447967e-05, -0.011067523354641118, 0.010956287872555315, -0.013783882175916418, 0.0011827223098137551, -0.008963676816623689, 0.002594163658098836, -0.004596197927554613, -0.02089435085506164, 0.012926979566429075, 0.0050708437598459, -0.0014803745737612672, -0.004383150176852979, 0.0020082823437217456, 0.010370406558174672, 0.009624739430761586, -0.01218602404574387, -0.0030782327038796353, -0.007365818686482228, -0.006992985122765916, 0.00453822438313356, 0.00272731850228336, 0.006828487703012698, 0.00981115621259665, 0.0015289249046963604, 0.018972209492136294, -0.018098099127302092, -0.012399071796443728, 0.0038458191934038766, -0.006353841870692989, 0.003180044972510565, 0.018040125582889033, 0.009358429742409413, -0.0011075410100485072, 0.006215975419779696, 0.007680678705758837, -0.0005216596956598707, 0.0028604733464696608, -0.002092886856983611, -0.0031581256104358246, -0.00044176678917207113, -0.0013205887607385947, 0.0057099870119028395, -0.0020129939504656136, 0.004831165040315, 0.004032235975246934, -0.002811923015547002, 0.00688174964068633, 0.0143916828523869, 0.001369139091679017, 0.012128050501337029, -0.0005749216333272855, -0.014689335116323754, -0.010721320759777164, -0.011759928544377019, 0.005257260541700504, 0.003472985629677794, -0.0024390894518617756, 0.007520892892737052, -0.004862507615917444, 0.0004636861512583579, -0.00291844689089249, 0.012767193753403738, 0.01287371762873768, -0.02086771988621905, -0.0062473179953546065, -0.008164747751534307, 0.002487639782772888, -0.004063578550822733, 0.0038990811310810614, 0.002487639782782658, 0.015323766761622615, 0.007946988394104793, -0.017672003625912147, 0.006162713482104287, -0.0026787681713749123, 0.0021414371878965, 0.0015821868423584462, 0.007973619362941164, -0.0057413295874733095, 0.009624739430758034, 0.0028338423776252952, -0.007472342561820611, -0.0007613384151818892, -0.012612119547140033, -0.014609442209822632, -0.004809245678218055, 0.01295361053524946, 0.0026740565646363734, 0.008160036144805538, -0.008404426471077642, -0.00973597491285183, 0.003819188224573722, -0.017112753280366988, -0.004915769553593741, 0.00563009410540527, 0.009837787181476543, 0.010956287872570414, 0.010610085277710013, -0.008058223876180826, 0.005683356043092225, -0.0018798391062988529, 0.012341098252014682, 0.0025409017204429674, -0.0016401603867812753, 0.005470308292403914, 0.0029137352841566155, 0.011622062093444185, 0.006828487703007369, -0.02741893821983954, -0.013544203456367754, 0.0002772693694010897, 0.0026207946269538596, -0.007259294811115424, -0.011387094980664259, 0.0004636861512370416, 0.0009963055279831323, 0.0012093532786439098, 0.00341972369204413, -0.006220687026524452, 0.003100152066005002, -0.00803159290736577, 0.0058431418560909165, 0.0014224010293295564, 0.007174690297870434, 0.005949665731436404, -0.0030249707662317604, 0.0035528785362100024, 0.0037392953180459543, -0.005767960556318563, -0.008750629065927384, 0.00341972369201482, 0.00808014323830708, -0.006034270244676065, 0.006615439952316393, 0.012793824722218794, -0.02696621174962832, -0.009363141349153281, -0.010135439445406291, -0.002066255888116153, -0.018071468158463055, -0.002598875264857803, 0.014711254478402935, -0.006673413496734781, -0.006353841870742727, 0.005390415385887692, 0.004564855351971708, 0.0010229364967919707, 0.02286033094215245, 0.016815101016423917, 0.0005435790577443811, -0.008697367128267963, 0.0015022939358386722, 0.01596291001368666, 0.0007566268084433503, 0.002807211408796917, -0.0016401603867839398, 0.0004104242135971603, -0.003637483049457657, -0.0018798391063006292, 0.001741972655377566, 0.0018218655618698065, -0.006140794120009119, 0.0055768321677343025, 0.017614030081505305, 0.0035795095050312753, -0.014982275773491871, -0.01482248996049762, -0.0018532081374491582, -0.0012140648854117586, -0.006433734777231415, -0.014130084770768825, 0.0013691390916825696, 0.0005169480889248845, -0.011706666606714045, -0.00864410519059522, 6.422161872077226e-05, -0.004702721802877008, 0.01236772922084306, 0.009065489085235079, -0.006566889621384853, -0.003797268862466119, -0.001986362981626577, 0.007813833549933591, -0.014822489960494956, 0.003952343068721831, 0.01503082610443407, 0.007920357425294178, -0.0037706378936519513, -0.007498973530642772, -0.006034270244686724, -0.005022293428917912, -0.006087532182355915, -0.009869129757018591, 0.010476930433508613, -0.005261972148441707, 0.0023811159074327293, -0.003610852080621285, 0.001289246185164572, 0.00901222714753569, 0.02570984460759984, -0.014715966085166343, -0.00185320813746781, 0.014365051883552304, 0.015137349979789327, -0.004409781145679581, -0.003504328205273133, 0.0026474255957849024, -0.005927746369333242, 0.010716609153042178, 0.016122695826702227, -0.0062473179953643765, -0.01934975466257427, -0.010455011071414333, 0.01204815759485367, -0.00930987941148853, 0.0021946991255878956, -0.00020208806963672998, -0.01306484601732194, -0.006700044465568489, 0.00938506071126266, -0.012452333734128018, -0.009549558131012326, 0.0010229364968257215, -0.008138116782706817, -0.009949022663529483, 0.005736617980737435, 0.018839054647944664, 0.025177225230889277, -0.018417670753324344, 0.0013957700605038426, -0.0010542790724032969, 0.0051773676351905, 0.017028148767144202, 0.014551468665398914, -0.0009477551970347164, -0.0032646494857369035, -0.004010316613160647, 0.005523570230059782, -0.0022793036388364385, -0.002066255888141022, 0.0068284877030162505, -0.016020883558091725, -0.005741329587496402, 0.005310522479368807, 0.005044212791034397, -0.002039624919323302, 0.0021148062190814443, -0.013570834425208567, -0.001347219729572302, -0.009336510380324903, 0.01652216035924514, -0.005688067649818329, -0.001347219729587401, 0.0028871043153184672, 0.005177367635174512, 0.013885694444510044, -0.0005482906645140062, -0.0015602674802579486, -0.002945077859730638, 0.017108041673626673, -0.004889138584764474, 0.009944311056800714, 0.013353075067777276, 0.01170195499995863, 0.018412959146587582, -0.0044896740521966905, 0.01228783631436059, -0.0019863629816292416, -0.0047293527717311434, 0.0030735210971624127, 0.012314467283186303, 0.0011294603721525576, -0.004915769553570648, 0.00046368615126457513, 0.0002772693693930961, -0.0011075410100680472, 0.018173280427050464, -0.0018532081374571518, 0.014338420914713268, 0.011382383373933713, 0.009251905867074584, 0.014311789945882225, 0.012713931815730994, 0.007014904484866413, 0.004698010196134916, -0.008510950346426682, -0.009070200691962071, 0.0017952345930511981, -0.0014803745737674845, 0.00589640379373968, 0.010263882682835401, 0.012287836314357925, 0.0031001520659916793, -0.0010010171347083485, -0.003797268862472336, 0.0120215266259871, 0.008506238739682814, 0.0016887107177074867, -0.0004417667891694066, 0.00874591745921105, -0.0008678622905238242, -0.011600142731356122, -0.008484319377589422, -0.003930423706628439, -0.007152770935798358, -0.015275216430723049, -0.001746684262111664, 0.010636716246531286, -0.0059011154005181865, 0.004112128881772925, 0.005976296700276329, -0.006273948964207854, -0.003104863672734659, 0.0017419726553846715, -0.0022260417011441547, 0.011169335623253396, -0.02006879082114832, -0.004063578550836944, -0.0014004816672565923, 0.0017153416865181015, 0.006082820575608494, -0.00829790259573393, -0.001160802947705264, 0.0027539494711472656, 0.002940366252991211, -0.004276626301520814, 0.0013158771540098257, -0.007951700000869977, 0.00312678303485292, 0.015137349979785775, 0.015163980948616818, -0.00235919654534289, 0.003419723692045018, -0.002732030109036998, 0.009411691680104362, -0.004036947582007677, -0.0034244352987657933, 0.006242606388618732, -0.0065668896213937344, -0.0036907449871366182, -0.013730620238244562, 0.005070843759839683, 0.014418313821201068, 0.0002506384005638296, -0.0024390894518422357, 0.011915002750666481, -0.0022260417011583655, -0.015834466776269984, -0.008484319377574323, 0.011382383373932825, -0.013863775082429086, 0.007254583204378662, -0.008937045847803304, -0.011866452419734053, -0.009443034255659732, 0.0038990811310855022, 0.00981115621262596, -0.006327210901857505, -0.018790504317025558, 0.007760571612268841, 0.009997572994470794, 0.011835109844147595, -0.014050191864255268, -0.020947612792737047, 0.001076198434486031, -0.00851095034640359, 0.004484962445476803, -0.004516305021041056, -0.02693958078077774, -0.018231253971481287, 0.004804534071483069, -0.00576796055631057, -0.0025722442960294245, 0.01268730084687597, 0.014125373164030286, 0.00930516780475621, 0.0010761984344780373, 0.0036327714427244473, 0.00509747472866362, 0.01324655119245044, -0.004995662460086869, 0.0036061404738791936, -0.0024390894518271367, 0.006615439952319946, 0.010903025934898558, -0.00446304308337897, 0.001875127499554985, 0.012074788563666061, 0.0024610088139489505, 0.013646015724986249, 0.009837787181430357, 0.004937688915651606, 0.0011560913409995877, -0.003717375955962332, 0.0025941636581157113, 0.012447622127376157, -0.008990307785440521, 0.01090302593489767, -0.002332565576502965, -0.0014004816672494869, 0.0050974747286751665, 0.005443677323564877, -0.009309879411476096, 0.0020881752502504014, -0.007818545156680123, -0.0025456133271690717, -0.01152024982484523, -0.0006548145398426186, -0.003424435298764905, 0.0010229364967964116, -0.007392449655320377, -0.010321856227260007, -0.008457688408737063, 0.02051680568462544, 0.003606140473876529, 0.0001174835563748644, 0.0032865688478356248, -0.0036641140183109044, 3.759064988795302e-05, 0.014098742195196579, 0.0005169480889186673, 0.010583454308870976, -0.008857152941268431, 0.0018484965307195012, -0.007259294811111872, 0.004911057946812569, -0.017991575251967262, 0.009811156212623295, -0.014902382866990749, -0.011040892385833168, 0.0068817496406961, 0.0005702100266011811, -0.0019064700751236785, 0.008666024552687723, 0.007307845142054958, 0.005709987011916162, -0.01655350293483515, 0.0014756629670271693, 0.007307845142048741, 0.009891049119120865, -0.004303257270334981, 0.006828487703032238, -0.009123462629633039, 0.004804534071491062, 0.0038724501622455776, -0.0020662558881472393, 0.0005968409954189013, 0.005576832167743184, -0.009229986504974086, -0.0008412313216767942, -0.018231253971468853, -0.001773315230968464, 0.004218652757093544, -0.01631382421529448, 0.0023278539697493272, 0.01444494479005698, 0.01870589980376902, -0.01908344497422565, -0.0021195178258226477, 0.004777903102657355, -0.027285783375641692, 0.01135575240510267, -0.020787826979722368, -0.004782614709390565, 0.017534137174988196, -0.004196733395017915, 0.007334476110872679, 0.001289246185174342, -0.008883783910107468, 0.013805801537989382, -0.002305934607680804, 0.022434235440783823, -0.0034244352987808924, 0.0018751274995389977, -0.00933651038031691, 0.011994895657148952, 0.00938506071126266, 0.0055502011989077005, 0.005683356043071797, 0.012394360189690978, 0.013672646693819068, 0.008692655521510773, -0.008031592907355112, 0.0027006875334620872, -0.021719910888975846, 0.0065888089834666985, 0.010530192371200897, -0.006966354153917997, 0.012474253096199206, 0.016042802920190447, 0.0005968409954428822, 0.006695332858848602, -0.015142061586534972, 0.012926979566423746, 0.00983778718144901, 0.003366461754351846, 0.011701954999988828, 0.017374351361993057, -0.01279853632896888, -0.0034244352987613524, -0.003424435298779116, -0.0031847565792526566, 0.0059496657314372925, -0.012239285983422832, -0.012958322141980005, -0.007791914187832205, -0.0168997055296769, -0.019589433382122934, 0.0019816513748898146, 0.019318412087011794, 0.008612762615011427, 0.0017686036242077208, -0.008910414878947392, -0.016793181654334965, -0.008004961938520516, -0.006779937372086486, -0.018630718504003774, 0.002567532689292662, 0.008080143238290205, 0.009970942025637974, 0.014311789945882225, -0.008510950346400037, -0.01037511816492831, -0.00811148581387311, -0.008111485813872221, 0.0014756629670094057, -0.007552235468311963, -0.013970298957749705, -0.007472342561823275, 0.005470308292389703, -0.0011874339165602876, 0.005443677323556884, 0.0008631506838030489, 0.004671379227289663, -0.01711275328037498, 0.018279804302412828, -0.002092886856972953, 0.02887892989905616, -0.0053152340861375436, 0.014152004132855112, 0.0055768321677396315, -0.004143471457318526, -0.008244640658047864, -0.011120785292306756, 0.01223457437668607, -0.018044837189609808, 0.003925712099913881, -0.000495028726814617, 0.01167532403113114, -0.0035575901429538703, -0.008138116782704152, -0.004729352771705386, 0.0016887107177199212, -0.006566889621402616, 0.00019737646288930932, 0.011781847906471299, -0.00917672456730223, -0.008910414878946504, -0.0023591965453206853, 0.005337153448196297, -0.003424435298779116, -0.002811923015531903, 0.015643338387667072, 0.009811156212615302, -0.010588165915617509, 0.0012626152163246473, -0.01157351176252508, 0.013353075067780829, 0.00701490448486819, 0.009305167804747327, 0.010024203963306277, 0.011515538218132448, -0.0015868984491049787, 0.015936279044861834, -0.005741329587467092, -0.00888378391013056, 0.002034913312564335, 0.003472985629722203, 0.00267405656461861, -0.001906470075126343, -0.009735974912850942, 0.0169748868294457, 0.0060029276691206945, 0.013619384756146324, -0.00912346262963215, 0.002008282343718193, -0.00129395779191821, -0.01543500224373151, 0.007867095487601894, -0.0060609012135133256, 0.0035262475673691895, 0.01436505188354431, -0.01767200362591037, 0.003739295318060165, -0.0041701024261771025, -0.004463043083357654, 0.018652637866111377, 0.0026207946269432014, -0.005981008306998881, 0.0029669972218293594, -0.003717375955980984, -0.0066201515590673665, 0.008985596178704647, -0.010854475603939484, -0.005075555366590656, 0.0019017584684100086, 0.0005169480889364308, -0.007658759343674326, -0.025661294276679847, 0.017800446863357244, -0.0004151358203179356, 0.0028338423776466115, 0.015190611917448749, 0.001715341686550076, 0.00989104911914307, 0.001315877154000944, -0.002598875264888889, -0.008963676816624577, -0.010934368510464587, -0.013783882175909312, -0.0005749216333503782, -0.00853758131523108, 0.002407746876278871, -0.00925661747380424, -0.020148683727652994, 0.0004636861512459234, 0.007867095487598341, 0.007440999986232377, -0.0006548145398301841, -0.00954955813101499, -0.005315234086126885, -0.005155448273089114, 0.0045914863207991985, 0.0019816513749084663, 0.012447622127341518, -0.003690744987129513, -0.007552235468343049, 0.0012626152163273119, 0.01447157575888447, 0.004564855351968156, -0.012505595671766123, -0.001427112636092076, -0.01594099065158172, 0.0028338423776412824, -0.006753306403259884, -0.012186024045748312, -0.010641427853283147, 0.00515073666635768, -0.019243230787242105, 0.016602053265764916, -0.013570834425225442, -0.00704624706042889, 0.004405069538953477, -0.02227916123450413, 0.00576324894957736, -0.01514206158651632, -0.0006015526021618811, -0.015967621620441186, -0.005315234086126885, 0.008879072303361824, -0.011094154323485483, 0.0033930927231944352, -0.0027053991402121724, -0.016100776464609723, 0.0002772693694064188, -0.004383150176870743, -0.011946345326228958, 0.01705477973596725, -0.015754573869737776, 0.00586977282491663, -0.006060901213533754, 0.017534137175003295, -0.0008146003528732848, -0.008004961938530286, 0.01255414600271898, 0.004058866944082418, 0.005923034762579604, -0.011680035637870567, 0.005869772824938835, 0.01053019237117958, -0.012026238232729192, 0.005630094105393724, -0.013490941518703004, 0.00104956746562479, -0.019403016600257672, 0.012341098252035998, -0.011839821450888799, -0.018976921098888155, -0.007445711592974469, 0.016628684234578195, -0.004196733394996599, -0.00022871903848464825, -0.011919714357389033, 0.0027539494711374957, 0.005283891510523553, -0.005155448273104213, -0.009070200691959407, -0.013597465394054709, 0.006375761232821908, -0.013064846017320164, -0.001187433916571834, 0.0010495674656469944, -0.003264649485768878, 0.007201321266706806, -0.0027320301090387744, -0.006433734777224309, -0.00022871903848020736, 0.005283891510540428, 0.0013691390916585888, -0.02046825535367347, -0.003317911423431852, 0.0024077468762655485, -0.0019331010439689322, 0.0022479610632455405, -0.008910414878950945, 0.018146649458231856, -0.012692012453630497, 0.005203998604024207, -0.016074145495785785, -0.018417670753333226, -0.008431057439914902, 3.759064987285399e-05, -0.01913670691189928, 0.01076987109071137, 0.01204815759483946, -0.013917037020084067, 0.007307845142032754, 0.0018751274995674194, 0.011941633719491307, -0.01000228460121999, -0.008750629065946036, 0.0007832577772717286, -0.001906470075145883, -0.0014803745737594909, -0.003903792737824041, 0.004937688915679139, -0.006913092216268346, -0.0030782327038894053, -0.0013472197295953947, 0.018359697208936154, 0.0043518076012842855, 0.009411691680081269, -0.010854475603969682, 0.01116933562325162, -0.015142061586542077, -0.0002020880696358418, -0.01658013390365909, 0.007813833549926485, 0.007520892892751263, -0.009016938754307091, -0.0006281835710062467, -0.001373850698403345, 0.023073378692862967, 0.0025409017204429674, -0.003317911423431852, -0.0009477551970258347, -0.0032380185169307296, -0.027205890469138794, 0.00786709548758413, -0.0016667913555883374, 0.022380973503146606, 0.0063491302639668845, -0.000521659695656318, 0.015110719010957396, -0.004835876647058868, -0.0012673268230729562, 0.008612762615006098, 0.0009164126214544766, -0.00813811678272014, -0.000548290664498019, -0.008697367128267075, -0.017352431999904105, -0.008084854845043843, 0.004271914694783163, -0.009070200691964736, 0.013432967974273069, -0.0077120212813541755, -0.005102186335433245, -0.004383150176863637, 0.011195966592087103, -0.0027852920467088538, -0.011839821450911003, -0.001293957791903999, 0.0042719146947698405, 0.00413875985058354, 0.009997572994477899, -0.003610852080621285, -0.00611416315118074, -0.006886461247431086, 0.0062692373574417815, -0.006114163151192287, 0.009225274898226665, 0.007627416768081652, 0.012500884065036466, -0.009443034255665061, 0.0006767339019484453, 0.0142585280081855, -0.0017466842621098877, 0.005683356043053145, -0.003744006924807586, 0.004671379227307426, -9.556419427703133e-05, 0.00557683216773075, 0.01511071901094585, -0.006300579933039785, 0.00816003614479488, 0.006295868326295917, -0.004436412114547927, -0.005155448273106877, 0.006961642547199887, 0.004884426977974421, -0.014609442209816415, -0.01202623823273985, -0.007712021281331083, -0.009203355536134161, -0.0033179114234451745, -0.007179401904612526, -0.007845176125525377, 0.011835109844144931, 0.0013691390916754642, -0.006087532182371902, -0.0005216596956678643, -0.0006281835710000294, -0.017618741688261608, 0.009491584586601043, -0.008537581315251508, -0.007898438063191904, -0.009922391694716204, -0.0066467825279037385, 0.024325034228136033, -0.006886461247431974, 0.005496939261232292, 0.0037392953180521715, -0.006034270244676954, 0.0028338423776306243, 0.000809888746115206, 0.0055235702300562295, 0.004245283725931692, -0.009549558131003444, -0.010321856227230697, 0.0119150027506425, -0.010854475603973235, -0.0064869967148739605, 0.008799179396839385, -0.0036374830494692034, 0.0011827223098253015, -0.0062739489642007484, -0.008777260034784184, -0.01386377508240777, 0.007467630955067861, -0.0042499953326968765, -0.007765283219001162, -0.006939723185075408, 0.008319821957800677, 0.008985596178700206, -0.0020129939504851535, -0.0004151358203259292, -0.006140794120016224, 0.004431700507803171, -0.007072878029268814, 0.01084976399720805, -0.006886461247411546, -0.010082177507730883, 0.0004370551824157687, -0.007978330969707237, -0.004249995332689771, 0.029305025400415907, 0.009172012960568132, 0.02938491830692147, 0.0034996165985186067, -0.004409781145692904, -0.006220687026545768, -0.0032646494857555552, 0.006269237357459545, -0.010561534946782913, 0.009438322648923858, -0.0022260417011628064, 0.004005605006407009, 0.004964319884518176, -0.02424985292835835, 0.0007033648707901463, 0.015217242886299331, -0.021560125075965608, -0.00949629619333514, -0.011573511762524191, 3.7590649886176664e-05, 0.007654047736912695, 0.01188837178183455, 0.007707309674605867, 0.01796023267638258, -0.0010276481035438323, -0.005341865054925066, -0.011680035637883002, 0.01148890724926055, -0.00038850485151442626, 0.001475662967005853, 0.007973619362960704, -0.003744006924797816, -0.021347077325257757, 0.02150215153156143, -0.02006879082114832, 0.013193289254759044, 0.009598108461923438, -0.0037173759559685493, 0.007680678705767718, 0.008932334241052331, -0.006433734777214539, -0.009709343944035886, 0.008958965209878045, -0.01700622940502683, 0.007840464518775292, 0.004644748258487041, 0.02120921087435601, -0.016553502934824493, 0.002114806219060128, 0.002461008813936516, -0.008457688408740616, -0.003451066267591507, -0.01069468979093191, -0.010428380102580626, 0.0029403662529876584, -0.0016934223244522428, -0.009469665224487223, -0.00688646124743908, 0.002114806219076115, -0.006087532182352362, 0.00834645292664149, 0.014205266070536737, -0.009389772318013634, -0.0010276481035358387, -0.008564212284069228, 0.017054779735964587, 0.014125373164022292, -0.006300579933050443, -0.006353841870720522, -0.009389772317978107, 0.009172012960562803, 0.01076987109072114, 0.0081067742071248, -0.003238018516928065, -0.0002287190384748783, -0.0167931816543323, 0.0017952345930423164, -0.002279303638844432, 0.02115594893667172, -0.00036187388265584985, 0.009678001368460976, 0.0012093532786536798, -0.007419080624137209, -0.007259294811127859, -0.014742597053992945, 0.000676733901936899, -0.018870397223547997, -0.017059491342697797, -0.0018265771686181154, -0.0004950287268332687, -0.008084854845063383, -0.006327210901861058, 0.012048157594830577, 0.0017419726553660198, 0.01934504305583218, 0.0011294603721436758, 0.012607407940388171, 0.003153414003678634, 0.015962910013694653, 0.004431700507765868, -0.021932958639645506, -0.003584221111804453, -0.011866452419734053, 0.0037659262868894317, -0.0062206870265226755, -0.00941640328683313, -0.006486996714888171, -0.0025722442960143255, 0.006828487703008257, -0.006380472839528473, 0.015163980948601719, -0.0017733152309586941, -9.556419430278851e-05, -0.0016401603867555181, 0.002301223000920949, -0.011520249824855, -0.0010809100412147998, -0.0060076392758299235, 0.0085595006773449, -0.009549558131004332, 0.00903885811635785, -0.012026238232737185, 0.024005462602107563, -0.007925069032010512, -0.017352431999897888, 0.0007299958396256301, 0.011169335623255172, 0.002700687533451429, 0.008586131646171502, 0.006988273516031818, 0.000596840995447323, 0.009278536835916285, 0.00467137922730565, -0.010028915570048369, -0.010801213666279175, -0.004915769553572424, -0.010588165915586423, -0.018284515909152255, 0.00033053130706317546, -0.0013472197295909538, 0.0008631506838128189, -0.007072878029267926, 0.0021680681567550764, -0.0032380185169254005, 0.0021946991255834547, -0.0096028200686602, -0.005182079241936144, 0.003339830785520803, 0.0021680681567444182, -0.004463043083358542, 0.01375253960034506, 0.00861276261500965, 0.006508916076978011, -0.0048891385847325, 0.004112128881742727, -0.007259294811152728, 0.03380565913368727, -0.0009477551970515918, -0.008031592907374652, -0.005102186335431469, -0.01567468096323754, 0.004698010196141134, 0.015590076449981005, -0.010508273009088853, -0.019269861756093576, 0.0022745920320934587, 0.00310015206600589, 0.013566122818476245, -0.016260562277617296, -0.01410345380193423, -0.0011075410100582772, -0.013091476986173411, -0.008191378720402653, -0.010561534946763373, -0.003131494641587018, 0.0012359842475069271, 0.02461797488532458, -0.0016667913556034364, -0.004090209519665322, 0.00794698839412522, 0.00038379324476434107, -0.00012219516310985057, -0.0019331010439636032, 0.007174690297889974, 0.00395234306876624, 0.0035795095050410453, -0.019722588226279036, 0.0012626152163210946, 0.011648693062281446, 0.009518215555439191, -0.007498973530644548, 0.01974450758837154, -0.002705399140219278, -0.005634805712160684, -0.006087532182367461, 0.0004370551824113278, 0.014258528008177507, 0.015217242886273574, 0.021821723157549933, -0.0027852920467124065, 0.0050974747286902655, -0.015275216430726601, 0.014098742195179703, 0.016628684234587965, 0.0004636861512405943, 0.002221330094422491, 0.0003305313070853799, -0.012239285983427273, -0.004622828896393649, -0.010162070414232005, 0.012634038909219214, -0.006194056057706732, 0.009358429742388985, -0.010534903977936771, -0.006992985122783679, 0.010024203963302725, 0.003845819193406541, -0.006060901213521319, 0.008266560020145697, 0.015377028699302464, -0.0004151358203268174, -0.009203355536150148, -0.003051601735085896, 0.006029558637949073, -0.008351164533403121, -0.003158125610418061, 0.009944311056806932, 0.01175521693761894, 0.0011560913410004758, -0.008830521972448047, 0.0031800449725132296, 0.014471575758897792, -0.009256617473803352, 0.016868362954103766, -0.004223364363849846, -0.00677993737208471, -0.0020662558881676674, -0.008670736159431591, 0.005736617980752534, 0.0016887107176968286, 0.003952343068732489, -0.02065467213553518, -0.015328478368366483, -0.004569566958692484, 0.013725908631497141, -0.009123462629633039, -0.01042838010259306, 0.00949158458660726, 0.01702814876712644, 0.003180044972509677, -0.017538848781760485, -0.01093436851046281, -0.003930423706668407, -4.230225663004461e-05, -0.004995662460094863, -0.0002553500073254611, 0.014072111226353101, -0.0023591965453411134, 0.01961135274420034, 0.002008282343718193, -0.010241963320743785, -0.009762605881689979, 0.003472985629684011, -0.0025722442960294245, -0.005022293428916136, -0.020628041166693478, 0.00954484652425247, -0.0062473179953741464, -0.005048924397764054, 0.0033930927232015407, 0.010823133028382337, 0.008879072303355606, 0.006588808983480021, 0.006535547045805501, 0.012234574376683405, 0.00533715344822383, -0.004782614709385236, -0.0055815437744488605, -0.00829790259572949, -0.006806568340919306, -0.00552828183679388, -0.002465720420681272, 0.016921624891779175, -0.00315812561043316, 0.011462276280464145, -0.004223364363836524, 0.016681946172257156, 0.001981651374896032, 0.011222597560919922, -0.005341865054948158, 0.002594163658143245, 0.004458331476635102, 0.01021062074514667, -0.003850530800155738, 0.012394360189698084, 0.020570067622296406, -0.01085447560397057, -0.009336510380320462, 0.0004370551824059987, 0.0028072114088013578, 0.0008631506837861735, 0.001342508122832875, -0.0020928868569614067, 0.0014490319982023436, -0.005448388930298975, 0.014285158977038748, 0.020649960528790423, -0.0007879693840209256, -0.00014882613195421612, 0.0029936281906319806, 0.003446354660866291, -0.0029983397973909476, 0.020197234058602298, -0.012345809858775425, -0.022438947047544566, 0.001528924904689255, 0.015084088042105037, 0.016069433889018825, -0.0008678622905282651, -0.0072060328734631085, 0.012314467283198738, -0.007552235468303081, -0.0022526726699840793, 0.005816510887252768, 0.009038858116401371, -0.011307202074163136, -0.003158125610408291, -0.007845176125520936, -0.001533636511428682, 0.013965587350996955, 0.0073877380485702915, -0.011626773700204929, -0.01634045518414151, -0.013943667988908892, -0.010907737541622886, 0.005097474728676943, -0.003690744987139283, -0.008857152941272872, 1.0959681038258395e-05, -0.012452333734100485, -0.007951700000867312, -0.005821222494003742, 0.006029558637938415, -0.010747951728605543, 0.0013957700605127243, 0.029065346680920534, -0.010108808476559261, -0.003051601735070797, -0.01527521643069818, -0.01697959843621355, -0.001746684262126763, 0.00043705518241665686, -0.0031581256104056266, 0.0045914863207840995, 0.0035262475673594196, -0.0020662558881339166, 0.00805351226943607, -0.01796494428308648, 0.008346452926645043, -0.002465720420695483, 0.0062426063886205085, -0.015594788056733755, 0.013912325413326876, 0.0058964037937538905, 0.007361107079734808, -0.005927746369345677, 0.009518215555421428, -0.02496888908695105, 0.022354342534291582, 0.012634038909209444, 0.01481777835375464, -0.010881106572799837, 0.035856243734047055, 0.01441831382121972, -0.010455011071427656, 0.01612269582670045, 0.0038724501622562357, -0.015248585461868913, -0.010721320759789599, -0.011919714357379263, -0.002305934607685245, 0.01750750620616337, 0.0005435790577550392, 0.0037392953180619415, -0.0007613384151774483, -0.0024657204206830485, 0.003313199816682655, 0.00499095085333412, 0.005683356043073573, -0.0005482906645104535, -0.008164747751544965, -0.0027852920467017483, 0.00035716227591375826, 0.010450299464671353, -0.0015868984491032023, -0.005714698618634273, -0.003930423706647979, -0.003451066267621705, 0.015110719010938745, 0.0025675326892642403, -0.0020396249193330718, 0.0071480593290260686, -0.00014882613196576244, 0.00307352109714909, 0.002940366252975224, -0.0001488261319710915, -0.003664114018278042, -0.0008146003528635148, -0.00057492163333972, 0.006136082513261698, -0.007712021281340853, -0.0006548145398390659, -0.013597465394045827, -0.0003352429138328006, -0.0011075410100582772, -0.003584221111789354, -0.010827844635129757, -0.018817135285863706, 0.006056189606774787, -0.0016934223244566837, -0.011174047229981277, -0.0045429359898800925, 0.00046368615125125245, -0.0032113875480925813, -0.008857152941276425, -0.0046494598652166985, 0.008506238739681038, -0.024649317460911924, 0.0016088178112072526, 0.020596698591134555, -0.00515544827310066, 0.005283891510525329, 0.004911057946839215, 0.0056034631365511345, -0.010401749133763794, -0.01245233373410759, -0.015088799648863116, -0.003530959174105952, 0.007014904484861972, 0.008319821957816664, -0.007791914187850857, 0.002034913312589204, 0.01369927766265544, 0.008905703272209742, 0.009278536835906515, -0.003238018516927177, 0.004538224383144218, 0.01210141953248911, 0.028878929899044614, -0.0036108520806275024, 0.013140027317098735, -0.008857152941276425, 0.0038990811310668505, 0.015590076449994328, -0.0009743861658826347, 0.0036327714427093483, 0.00784046451877618, 0.011435645311609122, 0.009651370399613945, -0.009309879411492084, 0.00483116504032477, 0.0008631506837870617, -0.0061940560576765336, -0.017192646186860117, 0.003100152066001449, 0.0007566268084575611, 0.0213157347496713, -0.005421757961471485, 0.002620794626966294, -0.012931691173134752, 0.012580776971541141, 0.0005169480889142264, 0.010183989776320068, -0.0027053991401988498, 0.001156091341006693, -0.006913092216274563, -0.005821222494009959, 0.0011560913409773832, 0.0075741548304169015, 0.0056567250742496356, -0.0014803745737683727, 0.0007566268084433503, -0.007392449655306166, 0.015643338387664407, 0.0070415354537090025, 0.0031001520659827975, 0.0026740565646061754, -0.0006281835709893713, -0.00113417197889909, 0.015483552574638182, 0.008799179396870471, -0.012905060204297492, -0.012771905360149383, -0.01319800086151357, -0.005368496023797853, -0.013437679581047135, 0.011915002750661152, -0.013118107955005343, -0.00973597491285716, -0.0031048636727275536, -0.007019616091594294, -0.018337777846831216, 0.007201321266727234, 0.0008098887461107651, 0.018492852053097586, 0.003739295318064606, -0.0040369475819943546, 0.001768603624208609, -0.005874484431674709, 0.00917201296054948, 0.00973126330612839, 0.009784525243786035, 0.0028072114087889233, -0.006114163151204721, -0.008963676816619248, -0.0074190806241514196, 0.005869772824914854, 0.009118751022887395, -0.0018532081374695863, 0.004032235975242493, -0.004223364363836524, -0.011440356918356542, -0.0014271126360743125, -0.008537581315247067, -0.008351164533412003, -0.009842498788192877, 0.004245283725924587, -0.01540837127488448, -0.006407103808380832, -0.010934368510461923, -0.002785292046723953, -0.002305934607661264, -0.011413725949519282, -0.004063578550818292, -0.003744006924799592, -0.0064869967148890595, -0.004995662460077099, -0.00017545710081279253, -0.0021994107323415335, 0.0023278539697466627, 0.010716609153039514, -0.0056348057121367034, 0.0037392953180832578, 0.013299813130107196, 0.00363277144270846, -0.0013205887607483646, 0.008346452926644155, 0.0032865688478249666, 0.000623471964249056, 0.00014411452523876989, -0.006620151559056708, -0.0010010171347225594, 0.012527515033857739, -0.0010542790723970796, -0.0047826147093879, -0.010428380102590395, 0.00011748355638996344, 0.009704632337287578, 0.0036061404738747527, 0.00903885811638716, 0.005044212791019298, -0.0037440069248111385, -0.01575457386975554, -0.009336510380306251, -0.017725265563602655, 0.00216806815676307, -0.00022871903848997732, -0.009576189099839816, 0.002008282343747503, -0.016899705529689335, -0.008271271626861143, -0.0011874339165514058, -0.023850388395821653, 0.005736617980731218, 0.0034463546608902718, 0.012580776971550023, 0.01068997818420403, 0.0029137352841512865, -0.0010542790723819806, -0.013251262799196084, 0.00967800136843433, -0.009602820068676188, -0.019403016600255008, -0.0055549128056417985, -0.005448388930304304, -0.005528281836807203, 0.0004104242135847258, 0.002833842377653717, 0.004591486320809857, 0.009598108461945642, -0.00656688962140084, -0.012505595671769676, -0.00552828183680365, -0.010135439445402739, -0.0006548145398275196, -0.0019331010439795904, 0.00445833147663155, 0.0026474255957946724, -0.0023325655764949715, -0.0035309591741086166, 0.014631361571907142, -0.009443034255645522, 0.004378438570121546, -0.0012140648854206404, 0.006402392201612983, -0.008457688408730846, -0.01634045518413796, -0.005475019899106037, 0.017906970738697403, 0.012900348597578493, -0.0042233643638356355, -0.007152770935759278, 0.008213298082475617, 0.004431700507806724, 0.008293190988992727, 0.003206675941332726, 0.003419723692000609, 0.00429854566359289, 0.005283891510522665, -0.0015336365114251294, 0.0008897816526296509, 0.014764516416077456, -0.012212655014594453, 0.005789879918428831, 0.0019550204060436727, -0.010348487196090161, 0.02757401242611479, 0.00030390033823834983, -0.003690744987141059, -0.010588165915585535, -0.008244640658041646, 0.013086765379443754, 0.003259937879024122, 0.00022400743174788573, 1.095968104092293e-05, -0.000521659695671417, 0.025310380075046268, 0.023792414851413923, -0.004809245678237595, -0.01921659981842261, -0.010162070414243551, 0.018279804302412828, 0.0009430435902970657, 0.0194515669311901, 0.004138759850592422, -0.007498973530664088, 0.005550201198902371, 0.012713931815711454, -0.0074190806241514196, -0.019056814005361744, 0.012101419532495328, 0.007014904484883289, -0.003371173361091273, -0.010268594289586375, -0.019376385631431958, 0.004724641164986387, -0.007419080624143426, -0.0014537436049355534, 0.011915002750660264, 0.012261205345518889, -0.004276626301510156, 0.002940366252976112, 0.011808478875288131, -0.008990307785460061, 0.004351807601269186, -0.012026238232726527, 0.008293190988985621, 3.7590649879071236e-05, 0.004378438570140197, 0.0008897816526456381, 0.0037392953180770405, -0.002811923015542561, -0.008111485813889097, -0.01128057110532854, 0.008905703272205301, -0.015541526119069005, 0.0014490319981907973, -0.014156715739606085, -0.0018798391062961883, 0.0012892461851814474, 0.002567532689282892, 0.009598108461940313, -0.007339187717652074, -0.010534903977940324, -0.01104089238582695, 0.017507506206155377, 0.006935011578358186, -0.0064869967148890595, 0.007014904484861972, -0.013118107954995573]\n"
     ]
    }
   ],
   "source": [
    "# The difference in the means for Permutation1 (0.001103) now looks hugely different to our observed difference of 0.14206. \n",
    "# It's sure starting to look like our observed difference is significant, and that the Null is false; platform does impact on ratings\n",
    "# But to be sure, let's create 10,000 permutations, calculate the mean ratings for Google and Apple apps and the difference between these for each one, and then take the average of all of these differences.\n",
    "# Let's create a vector with the differences - that will be the distibution of the Null.\n",
    "\n",
    "# First, make a list called difference.\n",
    "difference = []\n",
    "\n",
    "# Now make a for loop that does the following 10,000 times:\n",
    "# 1. makes a permutation of the 'Rating' as you did above\n",
    "# 2. calculates the difference in the mean rating for apple and the mean rating for google. \n",
    "for i in range(10000):\n",
    "    df['Permutation1'] = np.random.permutation(df['Rating'])\n",
    "    diff = np.mean(df[df['platform'] == 'google']['Permutation1']) - np.mean(df[df['platform'] == 'apple']['Permutation1'])\n",
    "    difference.append(diff)\n",
    "# print(difference)    "
   ]
  },
  {
   "cell_type": "code",
   "execution_count": 94,
   "metadata": {
    "colab": {},
    "colab_type": "code",
    "id": "VlzpYTkYFcv_"
   },
   "outputs": [
    {
     "data": {
      "image/png": "[encoded data removed]",
      "text/plain": [
       "<Figure size 640x480 with 1 Axes>"
      ]
     },
     "metadata": {},
     "output_type": "display_data"
    }
   ],
   "source": [
    "# Make a variable called 'histo', and assign to it the result of plotting a histogram of the difference list. \n",
    "histo = plt.hist(difference)"
   ]
  },
  {
   "cell_type": "code",
   "execution_count": 96,
   "metadata": {
    "colab": {},
    "colab_type": "code",
    "id": "KhqgDFd3FcwB"
   },
   "outputs": [
    {
     "name": "stdout",
     "output_type": "stream",
     "text": [
      "0.14206054745123442\n"
     ]
    }
   ],
   "source": [
    "# Now make a variable called obs_difference, and assign it the result of the mean of our 'apple' variable and the mean of our 'google variable'\n",
    "obs_difference = np.mean(df[df['platform'] == 'google']['Rating']) - np.mean(df[df['platform'] == 'apple']['Rating'])\n",
    "\n",
    "# Make this difference absolute with the built-in abs() function. \n",
    "obs_difference = abs(obs_difference)\n",
    "\n",
    "# Print out this value; it should be 0.1420605474512291. \n",
    "print(obs_difference)\n",
    "\n",
    "# note that above is close to the ~ 10th decimal place but not exactly same as above"
   ]
  },
  {
   "cell_type": "markdown",
   "metadata": {
    "colab_type": "text",
    "id": "QUNuuSgDFcwE"
   },
   "source": [
    "## Stage 4 -  Evaluating and concluding\n",
    "### 4a. What is our conclusion?"
   ]
  },
  {
   "cell_type": "code",
   "execution_count": 107,
   "metadata": {
    "colab": {},
    "colab_type": "code",
    "id": "XMQHnqx1FcwF"
   },
   "outputs": [
    {
     "name": "stdout",
     "output_type": "stream",
     "text": [
      "[]\n"
     ]
    }
   ],
   "source": [
    "'''\n",
    "What do we know? \n",
    "\n",
    "Recall: The p-value of our observed data is just the proportion of the data given the null that's at least as extreme as that observed data.\n",
    "\n",
    "As a result, we're going to count how many of the differences in our difference list are at least as extreme as our observed difference.\n",
    "\n",
    "If less than or equal to 5% of them are, then we will reject the Null. \n",
    "'''\n",
    "\n",
    "extreme =[]\n",
    "for i in range(len(difference)):\n",
    "    if difference[i] >= obs_difference:\n",
    "        extreme+=1\n",
    "print(extreme)        \n",
    "    "
   ]
  },
  {
   "cell_type": "markdown",
   "metadata": {
    "colab_type": "text",
    "id": "4RTofY9wFcwI"
   },
   "source": [
    "### 4b. What is our decision?\n",
    "So actually, zero differences are at least as extreme as our observed difference!\n",
    "\n",
    "So the p-value of our observed data is 0. \n",
    "\n",
    "It doesn't matter which significance level we pick; our observed data is statistically significant, and we reject the Null.\n",
    "\n",
    "We conclude that platform does impact on ratings. Specifically, we should advise our client to integrate **only Google Play** into their operating system interface. "
   ]
  },
  {
   "cell_type": "markdown",
   "metadata": {
    "colab_type": "text",
    "id": "Cu_eh7fTFcwJ"
   },
   "source": [
    "### 4c. Other statistical tests, and next steps\n",
    "The test we used here is the Permutation test. This was appropriate because our data were not normally distributed! \n",
    "\n",
    "As we've seen in Professor Spiegelhalter's book, there are actually many different statistical tests, all with different assumptions. How many of these different statistical tests can you remember? How much do you remember about what the appropriate conditions are under which to use them? \n",
    "\n",
    "Make a note of your answers to these questions, and discuss them with your mentor at your next call. \n"
   ]
  },
  {
   "cell_type": "code",
   "execution_count": null,
   "metadata": {},
   "outputs": [],
   "source": [
    "# other statistical tests include ANOVA, paired t test, chi square text\n",
    "# normality and independence of observations can be assumptions / conditions necessary for these tests"
   ]
  }
 ],
 "metadata": {
  "colab": {
   "collapsed_sections": [
    "5fbRq2MZFcvq",
    "4RTofY9wFcwI",
    "Cu_eh7fTFcwJ"
   ],
   "name": "Springboard Apps project - Tier 3 - Complete.ipynb",
   "provenance": []
  },
  "kernelspec": {
   "display_name": "Python 3 (ipykernel)",
   "language": "python",
   "name": "python3"
  },
  "language_info": {
   "codemirror_mode": {
    "name": "ipython",
    "version": 3
   },
   "file_extension": ".py",
   "mimetype": "text/x-python",
   "name": "python",
   "nbconvert_exporter": "python",
   "pygments_lexer": "ipython3",
   "version": "3.9.13"
  }
 },
 "nbformat": 4,
 "nbformat_minor": 1
}
